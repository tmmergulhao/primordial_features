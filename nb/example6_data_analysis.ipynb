{
 "cells": [
  {
   "cell_type": "markdown",
   "id": "210120d2-1852-4def-ac40-28bc1f3145bb",
   "metadata": {},
   "source": [
    "Here we I will show how to analyse the primordial feature chains"
   ]
  },
  {
   "cell_type": "markdown",
   "id": "4d710d9c-c562-4a4d-b548-6b3659c7c985",
   "metadata": {},
   "source": [
    "# Importing libraries"
   ]
  },
  {
   "cell_type": "code",
   "execution_count": 1,
   "id": "30e23a6e-6cb9-4d1e-8e90-517758e3f58a",
   "metadata": {},
   "outputs": [],
   "source": [
    "from re import X\n",
    "from statistics import mean\n",
    "import numpy as np\n",
    "import matplotlib.pyplot as plt\n",
    "import emcee, os\n",
    "import h5py as h5\n",
    "import json, sys\n",
    "from tqdm import tqdm\n",
    "from scipy.interpolate import UnivariateSpline, interp1d\n",
    "from scipy.integrate import quad\n",
    "import getdist\n",
    "from typing import List, Dict, Any, Optional, Callable\n",
    "from scipy.stats import gaussian_kde"
   ]
  },
  {
   "cell_type": "markdown",
   "id": "abd106da-b18a-4d4b-8f13-fb0349c6132d",
   "metadata": {},
   "source": [
    "The main object we will be using to analyse the chains is the posterior binned along the frequency axis. I will start specifying a few parameters:"
   ]
  },
  {
   "cell_type": "code",
   "execution_count": 2,
   "id": "5bae84ba-c4fe-4065-9824-5df47ae388ab",
   "metadata": {},
   "outputs": [],
   "source": [
    "#binning parameters\n",
    "BinningSpecs ={\n",
    "    \"A_min\":-1,\n",
    "    \"A_max\":1,\n",
    "    \"A_bin\":0.001,\n",
    "    \"A_abs_bin\":0.005\n",
    "   }\n",
    "\n",
    "#Settings for getdist\n",
    "settings_getdist = {\n",
    "'ignore_rows':0,\n",
    "'fine_bins':2000,\n",
    "'fine_bins_2D':2000, \n",
    "'smooth_scale_1D':0.1\n",
    "}"
   ]
  },
  {
   "cell_type": "code",
   "execution_count": 3,
   "id": "b3a92cfe-bb1d-4b35-bedd-2a2e981c03af",
   "metadata": {},
   "outputs": [],
   "source": [
    "#Storaging the binning specs for A\n",
    "A_min = BinningSpecs[\"A_min\"]\n",
    "A_max = BinningSpecs [\"A_max\"]\n",
    "A_bin = BinningSpecs[\"A_bin\"]\n",
    "A_array = np.arange(A_min, A_max + A_bin, A_bin)\n",
    "A_ctrs = 0.5*(A_array[1:]+A_array[:-1])\n",
    "\n",
    "#We will also be interested in working with the absolute value of the amplitude\n",
    "A_abs_bin = BinningSpecs[\"A_abs_bin\"]\n",
    "A_abs_min = 0\n",
    "A_abs_max = np.max([abs(A_max),abs(A_min)])\n",
    "A_abs_array = np.arange(A_abs_min, A_abs_max + A_abs_bin, A_abs_bin)\n",
    "A_abs_ctrs = 0.5*(A_abs_array[1:]+A_abs_array[:-1])"
   ]
  },
  {
   "cell_type": "code",
   "execution_count": 4,
   "id": "928a2248-2c7e-452c-a201-6158b840d883",
   "metadata": {},
   "outputs": [],
   "source": [
    "def read_chain(file_name: str, burnin_frac: float, thin: int) -> (np.ndarray, np.ndarray):\n",
    "    \"\"\"\n",
    "    Read an MCMC chain from an HDF5 file, applying burn-in and thinning.\n",
    "\n",
    "    Args:\n",
    "        file_name (str): The name of the HDF5 file containing the MCMC chain.\n",
    "        burnin_frac (float): The fraction of the initial part of the chain to discard as burn-in.\n",
    "        thin (int): The thinning factor to apply to the chain.\n",
    "\n",
    "    Returns:\n",
    "        np.ndarray: The MCMC chain after applying burn-in and thinning.\n",
    "        np.ndarray: The log-probabilities corresponding to the chain.\n",
    "    \"\"\"\n",
    "    backend = emcee.backends.HDFBackend(file_name, read_only=True)\n",
    "    chain = backend.get_chain(flat=False)\n",
    "    chain_size = chain.shape[0]\n",
    "    burnin = int(burnin_frac * chain_size)\n",
    "    logprob = backend.get_log_prob(flat=True, discard=burnin, thin=thin)\n",
    "    chain = backend.get_chain(flat=True, discard=burnin, thin=thin)\n",
    "    return chain, logprob\n",
    "\n",
    "def get_total_chain(handle: str, n: int, burnin_frac: float, thin: int, dir: Optional[str] = None) -> (np.ndarray, np.ndarray):\n",
    "    \"\"\"\n",
    "    Retrieve and combine MCMC chains from HDF5 files.\n",
    "\n",
    "    Args:\n",
    "        handle (str): The base name of the HDF5 files containing the MCMC chains.\n",
    "        n (int): The number of chains to combine. If n is 0, reads a single chain.\n",
    "        burnin_frac (float): The fraction of the initial part of the chain to discard as burn-in.\n",
    "        thin (int): The thinning factor to apply to the chain.\n",
    "        dir (str, optional): An optional subdirectory within the chains directory where the HDF5 files are located.\n",
    "\n",
    "    Returns:\n",
    "        np.ndarray: The combined MCMC chain after applying burn-in and thinning.\n",
    "        np.ndarray: The combined log-probabilities corresponding to the chain.\n",
    "    \"\"\"\n",
    "    final_dir = 'chains/'\n",
    "\n",
    "    if n == 0:\n",
    "        file_name = os.path.join(final_dir, f\"{handle}.h5\")\n",
    "        print(file_name)\n",
    "        final_chain, final_logprob = read_chain(file_name, burnin_frac, thin)\n",
    "    else:\n",
    "        final_chain, final_logprob = None, None\n",
    "        for i in range(n):\n",
    "            file_name = os.path.join(final_dir, f\"{handle}Run_{i}.h5\")\n",
    "            print(file_name)\n",
    "            chain, logprob = read_chain(file_name, burnin_frac, thin)\n",
    "            if final_chain is None:\n",
    "                final_chain, final_logprob = chain, logprob\n",
    "            else:\n",
    "                final_chain = np.vstack((final_chain, chain))\n",
    "                final_logprob = np.hstack((final_logprob, logprob))\n",
    "    return final_chain, final_logprob"
   ]
  },
  {
   "cell_type": "code",
   "execution_count": 6,
   "id": "c372ef0c-8fd1-45d8-96a6-778bb2cb4efe",
   "metadata": {},
   "outputs": [
    {
     "name": "stdout",
     "output_type": "stream",
     "text": [
      "chains/PrimFeature_lin_tutorial.h5\n"
     ]
    }
   ],
   "source": [
    "chain = get_total_chain('PrimFeature_lin_tutorial',0,0.5,10)"
   ]
  },
  {
   "cell_type": "markdown",
   "id": "0e58a6de-bdef-4b5f-b706-29b9e27f9ae7",
   "metadata": {},
   "source": [
    "Let us take a look at the posterior for a specific freq. range:"
   ]
  },
  {
   "cell_type": "code",
   "execution_count": 15,
   "id": "c183d20c-3c0b-4441-96d8-8c2caa230a8d",
   "metadata": {},
   "outputs": [],
   "source": [
    "#Define the freq. range\n",
    "omega_min = 305\n",
    "omega_max = 315\n",
    "\n",
    "\n",
    "#Get the samples inside the range\n",
    "mask = (chain[0].T[3]>omega_min)&((chain[0].T[3]<omega_max))\n",
    "masked_chain = chain[0][mask]\n",
    "A_inbin = masked_chain.T[2]\n",
    "\n",
    "#Use a kde to get a smooth pdf\n",
    "pdf_smooth = gaussian_kde(A_inbin)\n",
    "\n",
    "#Make a histogram to compare with the smooth result\n",
    "pdf, _ = np.histogram(A_inbin, bins = A_array, density = True)"
   ]
  },
  {
   "cell_type": "code",
   "execution_count": 24,
   "id": "5edd8451-0983-4ad7-8d65-629b417e27b9",
   "metadata": {},
   "outputs": [
    {
     "data": {
      "text/plain": [
       "Text(0.5, 1.0, '$\\\\omega_{\\\\rm lin \\\\in [305, 315]}$')"
      ]
     },
     "execution_count": 24,
     "metadata": {},
     "output_type": "execute_result"
    },
    {
     "data": {
      "image/png": "[encoded data removed]",
      "text/plain": [
       "<Figure size 700x300 with 1 Axes>"
      ]
     },
     "metadata": {},
     "output_type": "display_data"
    }
   ],
   "source": [
    "plt.figure(figsize = (7,3))\n",
    "plt.plot(A_ctrs,pdf_smooth(A_ctrs))\n",
    "plt.plot(A_ctrs,pdf)\n",
    "plt.xlim(-0.1,0.1)\n",
    "plt.xlabel('A')\n",
    "plt.ylabel('P(A)')\n",
    "plt.title(r'$\\omega_{\\rm lin \\in [305, 315]}$')"
   ]
  },
  {
   "cell_type": "code",
   "execution_count": 26,
   "id": "917fe1a0-dfa0-4128-80c5-afaadd163c6e",
   "metadata": {},
   "outputs": [
    {
     "ename": "IndentationError",
     "evalue": "unindent does not match any outer indentation level (<tokenize>, line 25)",
     "output_type": "error",
     "traceback": [
      "\u001b[0;36m  File \u001b[0;32m\"<tokenize>\"\u001b[0;36m, line \u001b[0;32m25\u001b[0m\n\u001b[0;31m    inv_CDF_interped = interp1d(CDF_result, A_axis)\u001b[0m\n\u001b[0m    ^\u001b[0m\n\u001b[0;31mIndentationError\u001b[0m\u001b[0;31m:\u001b[0m unindent does not match any outer indentation level\n"
     ]
    }
   ],
   "source": [
    "for i in range(0, n_it-1):\n",
    "        new_abs_step = i*A_abs_bin\n",
    "        \n",
    "        #Get the integration ranges\n",
    "        range_int1 = [-new_abs_step, -previous_step]\n",
    "        range_int2 = [previous_step, new_abs_step]\n",
    "\n",
    "        #Perform the integral in each range and sum them\n",
    "        try:\n",
    "            int1 = quad(posterior,range_int1[0], range_int1[1])[0]/norm\n",
    "            int2 = quad(posterior,range_int2[0], range_int2[1])[0]/norm\n",
    "        except:\n",
    "            print(\"Problem with integration range when computing the CDF!\")            \n",
    "            print(range_int1)\n",
    "            sys.exit(-1)\n",
    "        cumsum += int1 + int2\n",
    "        \n",
    "        #Storage the CDF for this step\n",
    "        CDF_result.append(cumsum)\n",
    "        \n",
    "        #Storage the A value for this step\n",
    "        A_axis.append(0.5*(previous_step+new_abs_step))\n",
    "        previous_step = new_abs_step\n",
    "\n",
    "    inv_CDF_interped = interp1d(CDF_result, A_axis)\n",
    "    if isinstance(threshold, list):\n",
    "        output = []\n",
    "        for x in threshold:\n",
    "            try:\n",
    "                output.append(inv_CDF_interped(x))\n",
    "            except:\n",
    "                print(\"Error saturated the maximum allowed value!\")\n",
    "                output.append(A_abs_max)\n",
    "        return output\n",
    "    else:\n",
    "        return inv_CDF_interped(threshold)"
   ]
  },
  {
   "cell_type": "code",
   "execution_count": null,
   "id": "3c03447a-a591-416b-966a-6fb30deed870",
   "metadata": {},
   "outputs": [],
   "source": []
  },
  {
   "cell_type": "code",
   "execution_count": null,
   "id": "2dbf1a55-d84b-4fa6-85ec-8552ad00d729",
   "metadata": {},
   "outputs": [],
   "source": []
  },
  {
   "cell_type": "code",
   "execution_count": null,
   "id": "1a99cf90-ea58-40ab-9633-b7edb601f9f5",
   "metadata": {},
   "outputs": [],
   "source": []
  },
  {
   "cell_type": "code",
   "execution_count": null,
   "id": "4b4dd5a4-65a9-4c78-b87d-12b4962b75ab",
   "metadata": {},
   "outputs": [],
   "source": []
  },
  {
   "cell_type": "code",
   "execution_count": null,
   "id": "4c3b87e9-b07c-4abf-bc7c-3d3b076907f3",
   "metadata": {},
   "outputs": [],
   "source": []
  },
  {
   "cell_type": "code",
   "execution_count": null,
   "id": "66f5b681-a611-4679-a7a2-4f6ff67ec101",
   "metadata": {},
   "outputs": [],
   "source": [
    "#What burnin to apply\n",
    "burnin = 0.2\n",
    "\n",
    "#thinning the chain\n",
    "thin = 1\n",
    "\n",
    "#chain file\n",
    "chain_filename = 'PrimFeature_lin_tutorial'\n",
    "\n",
    "#what frequency range to analyse\n",
    "omega_min = 100\n",
    "omega_max = 400\n",
    "omega_bin = 15\n",
    "#Mapping the params to the indices in the chain\n",
    "params_map = {\n",
    "    \"alpha\":1,\n",
    "    \"A\":2,\n",
    "    \"phi\":4,\n",
    "    \"omega\":3,\n",
    "    \"BNGC\":0,\n",
    "}"
   ]
  },
  {
   "cell_type": "code",
   "execution_count": null,
   "id": "721db0a4-c33c-4efa-b4a2-925e9be36d81",
   "metadata": {},
   "outputs": [],
   "source": [
    "results = binned_posterior(chain_filename, burnin, 0, omega_min, omega_max, omega_bin, params_map, thin)"
   ]
  },
  {
   "cell_type": "code",
   "execution_count": null,
   "id": "2cf1b294-1955-44f7-816e-06cec96abd7b",
   "metadata": {},
   "outputs": [],
   "source": [
    "results.keys()"
   ]
  },
  {
   "cell_type": "code",
   "execution_count": null,
   "id": "8c64a667-4a39-4acc-9776-95f5dd8a30b2",
   "metadata": {},
   "outputs": [],
   "source": [
    "fig, ax = plt.subplots(1,2, figsize = (10,3))\n",
    "\n",
    "ax[0].plot(results['omega_ctrs'],results['A_mean'])\n",
    "ax[0].set_ylabel(r'$A_{\\rm lin}$')\n",
    "ax[0].set_xlabel(r'$\\omega_{\\rm lin}$')\n",
    "\n",
    "ax[1].plot(results['omega_ctrs'],results['A_1sigma'])\n",
    "ax[1].set_ylabel(r'$A_{\\rm lin}$')\n",
    "ax[1].set_xlabel(r'$\\omega_{\\rm lin}$')"
   ]
  },
  {
   "cell_type": "code",
   "execution_count": null,
   "id": "9b01bf1b-a850-424b-a4c5-758836b43857",
   "metadata": {},
   "outputs": [],
   "source": []
  }
 ],
 "metadata": {
  "kernelspec": {
   "display_name": "nbodykit-env",
   "language": "python",
   "name": "nbodykit-env"
  },
  "language_info": {
   "codemirror_mode": {
    "name": "ipython",
    "version": 3
   },
   "file_extension": ".py",
   "mimetype": "text/x-python",
   "name": "python",
   "nbconvert_exporter": "python",
   "pygments_lexer": "ipython3",
   "version": "3.8.12"
  }
 },
 "nbformat": 4,
 "nbformat_minor": 5
}
