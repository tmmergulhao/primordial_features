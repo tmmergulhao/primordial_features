{
 "cells": [
  {
   "cell_type": "markdown",
   "id": "ee34860b-3e4c-4408-99ef-b539c5484107",
   "metadata": {},
   "source": [
    "# Importing libraries"
   ]
  },
  {
   "cell_type": "code",
   "execution_count": 17,
   "id": "9f9fa970-23b7-4eb4-86b3-6a0efd73c9c7",
   "metadata": {},
   "outputs": [],
   "source": [
    "import numpy as np\n",
    "from astropy.io import fits\n",
    "from astropy.cosmology import FlatLambdaCDM\n",
    "from astropy.coordinates import SkyCoord\n",
    "import astropy.units as u\n",
    "import matplotlib.pyplot as plt\n",
    "from pypower import CatalogMesh, MeshFFTPower, CatalogFFTPower, PowerSpectrumStatistics, utils, setup_logging,CatalogSmoothWindow"
   ]
  },
  {
   "cell_type": "markdown",
   "id": "9da3307b-3de0-4a52-99cd-d6ec3948446a",
   "metadata": {},
   "source": [
    "# Estimating the survey window function"
   ]
  },
  {
   "cell_type": "markdown",
   "id": "193848ae-6f92-4195-8db3-c8df5345a8df",
   "metadata": {},
   "source": [
    "We will measure the survey window function using the $\\texttt{pypower}$ module. We will need to load a pre-measured power spectrum and the randoms position in cartesian coordinate:"
   ]
  },
  {
   "cell_type": "code",
   "execution_count": 12,
   "id": "ebc423ed-7d5c-4bcd-979c-2729ce2a2850",
   "metadata": {},
   "outputs": [],
   "source": [
    "def GalacticCapSplit(data, cosmo):\n",
    "    # Convert to Galactic coordinates using astropy\n",
    "    coords = SkyCoord(ra=data['RA']*u.degree, dec=data['DEC']*u.degree, frame='icrs')\n",
    "    galactic_coords = coords.galactic\n",
    "    \n",
    "    # Split the data into NGC and SGC using Galactic latitude (b)\n",
    "    ngc_mask = galactic_coords.b.deg > 0  # NGC: b > 0\n",
    "    sgc_mask = galactic_coords.b.deg < 0  # SGC: b < 0\n",
    "\n",
    "    return data[ngc_mask], data[sgc_mask]\n",
    "\n",
    "def sky_to_cartesian(data, cosmo):\n",
    "    ra = data['RA']\n",
    "    dec = data['DEC']\n",
    "    z = data['Z']\n",
    "    \n",
    "    # Convert to Cartesian coordinates\n",
    "    ra_rad = np.deg2rad(ra)\n",
    "    dec_rad = np.deg2rad(dec)\n",
    "    comoving_distance = cosmo.comoving_distance(z).value  # in Mpc\n",
    "    \n",
    "    x = comoving_distance * np.cos(dec_rad) * np.cos(ra_rad)\n",
    "    y = comoving_distance * np.cos(dec_rad) * np.sin(ra_rad)\n",
    "    z = comoving_distance * np.sin(dec_rad)\n",
    "    \n",
    "    return [x,y,z]\n",
    "\n",
    "def ReadFits(fn):\n",
    "    with fits.open(fn) as hdul:\n",
    "        # Assuming the data is in the first extension (index 1)\n",
    "        data = hdul[1].data\n",
    "    return data\n",
    "\n",
    "def load_ps(fn):\n",
    "    with open(fn, 'r') as file:\n",
    "        lines = file.readlines()[25:]\n",
    "    data = np.genfromtxt(lines, dtype = complex)\n",
    "    data = data.real\n",
    "    return data.T"
   ]
  },
  {
   "cell_type": "code",
   "execution_count": 3,
   "id": "08f42f55-52e4-4611-aa3e-8337203ea7b0",
   "metadata": {},
   "outputs": [],
   "source": [
    "# Path to your FITS file\n",
    "file_path = 'data/DESI/QSO/catalogues/'\n",
    "fn_random = 'QSO_ffa_NGC_0_clustering.ran.fits'\n",
    "\n",
    "# Specify the cosmology. Using the DESI cosmology\n",
    "cosmo = FlatLambdaCDM(H0=67.36, Om0=0.3137721026737606)"
   ]
  },
  {
   "cell_type": "code",
   "execution_count": 8,
   "id": "a8a4c9e9-00c1-4e90-808e-ad6be7b2674a",
   "metadata": {},
   "outputs": [],
   "source": [
    "#Getting the position of the random catalog in cartesian coordinates\n",
    "randoms = ReadFits(file_path+fn_random)\n",
    "randoms_NGC,_ = GalacticCapSplit(randoms, cosmo)\n",
    "randoms_NGC_positions = sky_to_cartesian(randoms_NGC,cosmo)\n",
    "randoms_NGC_weights = randoms_NGC['Weight']"
   ]
  },
  {
   "cell_type": "code",
   "execution_count": 15,
   "id": "5eafc97c-54f2-41ad-8552-961103d2465d",
   "metadata": {},
   "outputs": [],
   "source": [
    "#loading the power spectrum\n",
    "poles = CatalogFFTPower.load('/Users/s2223060/Desktop/PrimordialFeatures/data/DESI/QSO/pk/SecondGenMocks_EZmock_v1_QSO_NGC_0.8-2.1_mock_1_d0.001.npy')"
   ]
  },
  {
   "cell_type": "code",
   "execution_count": null,
   "id": "0a2f75de-0a36-499c-9be5-1bfd5993f914",
   "metadata": {},
   "outputs": [
    {
     "name": "stdout",
     "output_type": "stream",
     "text": [
      "[000002.93]  09-17 13:15  CatalogSmoothWindow          INFO     Painting catalog 1 to mesh CatalogMesh(nmesh=[1668 1668 1668], boxsize=[12000. 12000. 12000.], boxcenter=[-1485.90353544  -204.06970576  1480.59355695], dtype=float32).\n",
      "[000007.78]  09-17 13:15  CatalogMesh                  INFO     Slab 0 ~ 4194304 / 11612435.\n",
      "[000011.57]  09-17 13:15  CatalogMesh                  INFO     Painted 4194304 out of 11612435 objects to mesh.\n",
      "[000011.57]  09-17 13:15  CatalogMesh                  INFO     Slab 4194304 ~ 8388608 / 11612435.\n",
      "[000014.47]  09-17 13:15  CatalogMesh                  INFO     Painted 8388608 out of 11612435 objects to mesh.\n",
      "[000014.47]  09-17 13:15  CatalogMesh                  INFO     Slab 8388608 ~ 12582912 / 11612435.\n",
      "[000016.78]  09-17 13:15  CatalogMesh                  INFO     Painted 11612435 out of 11612435 objects to mesh.\n",
      "[000016.79]  09-17 13:15  CatalogMesh                  INFO     Running interlacing at order 3.\n",
      "[000520.25]  09-17 13:23  CatalogMesh                  INFO     Slab 0 ~ 4194304 / 11612435.\n",
      "[000524.66]  09-17 13:23  CatalogMesh                  INFO     Painted 4194304 out of 11612435 objects to mesh.\n",
      "[000524.66]  09-17 13:23  CatalogMesh                  INFO     Slab 4194304 ~ 8388608 / 11612435.\n",
      "[000528.62]  09-17 13:23  CatalogMesh                  INFO     Painted 8388608 out of 11612435 objects to mesh.\n",
      "[000528.62]  09-17 13:23  CatalogMesh                  INFO     Slab 8388608 ~ 12582912 / 11612435.\n",
      "[000531.32]  09-17 13:24  CatalogMesh                  INFO     Painted 11612435 out of 11612435 objects to mesh.\n",
      "[001214.77]  09-17 13:35  CatalogMesh                  INFO     Slab 0 ~ 4194304 / 11612435.\n",
      "[001221.45]  09-17 13:35  CatalogMesh                  INFO     Painted 4194304 out of 11612435 objects to mesh.\n",
      "[001221.45]  09-17 13:35  CatalogMesh                  INFO     Slab 4194304 ~ 8388608 / 11612435.\n",
      "[001225.95]  09-17 13:35  CatalogMesh                  INFO     Painted 8388608 out of 11612435 objects to mesh.\n",
      "[001225.95]  09-17 13:35  CatalogMesh                  INFO     Slab 8388608 ~ 12582912 / 11612435.\n",
      "[001228.84]  09-17 13:35  CatalogMesh                  INFO     Painted 11612435 out of 11612435 objects to mesh.\n"
     ]
    }
   ],
   "source": [
    "setup_logging()\n",
    "# Let us compute the window function multipoles in k-space\n",
    "boxsize = 12000.\n",
    "edges = {'step': 2. * np.pi / boxsize}\n",
    "window_large = CatalogSmoothWindow(randoms_positions1=randoms_NGC_positions, randoms_weights1=randoms_NGC_weights,\n",
    "                                   power_ref=poles, edges=edges, boxsize=boxsize, position_type='xyz', dtype='f4').poles"
   ]
  }
 ],
 "metadata": {
  "kernelspec": {
   "display_name": "nbodykit-env",
   "language": "python",
   "name": "nbodykit-env"
  },
  "language_info": {
   "codemirror_mode": {
    "name": "ipython",
    "version": 3
   },
   "file_extension": ".py",
   "mimetype": "text/x-python",
   "name": "python",
   "nbconvert_exporter": "python",
   "pygments_lexer": "ipython3",
   "version": "3.8.12"
  }
 },
 "nbformat": 4,
 "nbformat_minor": 5
}
