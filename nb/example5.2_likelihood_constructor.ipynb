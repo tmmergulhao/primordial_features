{
 "cells": [
  {
   "cell_type": "markdown",
   "id": "3ab6357a-d6f0-4036-ac99-436877fc29cd",
   "metadata": {},
   "source": [
    "# Importing libraries"
   ]
  },
  {
   "cell_type": "code",
   "execution_count": 1,
   "id": "0aa86877-35b7-49de-a2ee-9fc9de899a82",
   "metadata": {},
   "outputs": [],
   "source": [
    "import sys\n",
    "sys.path.append('/Users/s2223060/Desktop/primordial_features/')\n",
    "import numpy as np\n",
    "import matplotlib.pyplot as plt\n",
    "import emcee, getdist\n",
    "from mcmc_toolkit import *\n",
    "from ps_constructor import *"
   ]
  },
  {
   "cell_type": "markdown",
   "id": "541f4970-7b23-4855-8c60-da3a3f313c1c",
   "metadata": {},
   "source": [
    "# Generating fake data"
   ]
  },
  {
   "cell_type": "code",
   "execution_count": 2,
   "id": "0cad712b-6b78-4d0c-90c3-b4cedd60a84d",
   "metadata": {},
   "outputs": [],
   "source": [
    "fn = '/Users/s2223060/Desktop/primordial_features/cosmologies/power_spectrum/BOSS_z1.txt' #Use the BOSS low-Z power spectrum decomposition"
   ]
  },
  {
   "cell_type": "code",
   "execution_count": 3,
   "id": "51c8c12d-cd14-4c15-9eab-97d75973cefb",
   "metadata": {},
   "outputs": [],
   "source": [
    "#momentum array\n",
    "k = np.linspace(1e-3, 0.2, 50)"
   ]
  },
  {
   "cell_type": "code",
   "execution_count": 4,
   "id": "c3e64e5f-a200-439c-87b6-57afe7ed0a25",
   "metadata": {},
   "outputs": [],
   "source": [
    "ps_model_lin = PowerSpectrumConstructor(fn, 'lin', k)"
   ]
  },
  {
   "cell_type": "code",
   "execution_count": 5,
   "id": "0b4d8d65-6e9b-4202-a910-6497bf7b7bde",
   "metadata": {},
   "outputs": [],
   "source": [
    "BNGC = 3\n",
    "BSGC = 0\n",
    "sigma_nl = 0\n",
    "sigma_s = 0\n",
    "a0 = 0\n",
    "a1 = 0\n",
    "a2 = 0\n",
    "a3 = 0\n",
    "a4 = 0\n",
    "alpha = 1\n",
    "A = 0.025\n",
    "omega_lin = 300\n",
    "phi = 3.14\n",
    "params = [BNGC, BSGC, sigma_nl, sigma_s, a0, a1, a2, a3, a4, alpha]"
   ]
  },
  {
   "cell_type": "code",
   "execution_count": 6,
   "id": "cfe6b5c6-4477-4899-a1b0-58790c30c687",
   "metadata": {},
   "outputs": [],
   "source": [
    "ps_linfeature = ps_model_lin.Evaluate_bare(params + [A, omega_lin, phi])[:len(k)] #only get the NGC part\n",
    "ps_nofeature = ps_model_lin.Evaluate_bare(params + [0, omega_lin, phi])[:len(k)] #only get the NGC part"
   ]
  },
  {
   "cell_type": "code",
   "execution_count": 7,
   "id": "c74c1e3f-544d-48a4-a2c9-c186a087d9c1",
   "metadata": {},
   "outputs": [
    {
     "data": {
      "text/plain": [
       "Text(0, 0.5, 'k P(k) [Mpc/h]$^{-2}$')"
      ]
     },
     "execution_count": 7,
     "metadata": {},
     "output_type": "execute_result"
    },
    {
     "data": {
      "image/png": "[encoded data removed]",
      "text/plain": [
       "<Figure size 400x400 with 1 Axes>"
      ]
     },
     "metadata": {},
     "output_type": "display_data"
    }
   ],
   "source": [
    "plt.figure(figsize = (4,4))\n",
    "plt.plot(k, k*ps_linfeature)\n",
    "plt.plot(k, k*ps_nofeature)\n",
    "plt.xlabel('k [h/Mpc]')\n",
    "plt.ylabel(r'k P(k) [Mpc/h]$^{-2}$')"
   ]
  },
  {
   "cell_type": "markdown",
   "id": "96a17a0e-943c-4aec-88aa-f789440643f0",
   "metadata": {},
   "source": [
    "The Gaussian approximation for the covariance matrix of the power spectrum of galaxies is a commonly used approach in cosmology to estimate the uncertainties and correlations in the measured power spectrum. The power spectrum, $P(k)$, describes how the variance of the galaxy density field is distributed over different spatial scales, characterized by the wavenumber $ k $.\n",
    "\n",
    "In the Gaussian approximation, the covariance matrix $\\text{Cov}(P(k_i), P(k_j))$ of the power spectrum $ P(k) $ is given by:\n",
    "\n",
    "$$\n",
    "\\text{Cov}(P(k_i), P(k_j)) = \\frac{2 P(k_i) P(k_j)}{N_{k_i}} \\delta_{ij}\n",
    "$$\n",
    "\n",
    "where:\n",
    "- $ P(k_i) $ and $ P(k_j) $ are the power spectrum values at wavenumbers $ k_i $ and $ k_j $, respectively.\n",
    "- $ N_{k_i} $ is the number of independent modes (or Fourier modes) in the bin centered at $ k_i $.\n",
    "- $ \\delta_{ij} $ is the Kronecker delta, which is 1 if $ i = j $ and 0 otherwise.\n",
    "\n",
    "This expression assumes that the galaxy density field is a Gaussian random field, which is a reasonable approximation on large scales where the density fluctuations are small. The factor of 2 arises because the power spectrum is a second-order statistic, and the Gaussian approximation assumes that the modes are uncorrelated.\n",
    "\n",
    "To compute $ N_{k_i} $, you can use:\n",
    "\n",
    "$$\n",
    "N_{k_i} = V \\frac{k_i^2 \\Delta k}{2\\pi^2}\n",
    "$$\n",
    "\n",
    "where:\n",
    "- $ V $ is the survey volume.\n",
    "- $ \\Delta k $ is the width of the bin in $ k $-space.\n",
    "\n",
    "This approximation is useful for estimating the errors on the power spectrum measurements and for constructing likelihood functions for cosmological parameter estimation. However, it is important to note that on smaller scales, where non-linear effects become significant, the Gaussian approximation may break down, and more sophisticated methods may be required to accurately model the covariance matrix.\n"
   ]
  },
  {
   "cell_type": "code",
   "execution_count": 8,
   "id": "025f224f-71fa-468d-bd27-6646802af6cd",
   "metadata": {},
   "outputs": [],
   "source": [
    "def gaussian_covariance_matrix(k, Pk, V, delta_k, nbar):\n",
    "    \"\"\"\n",
    "    Compute the Gaussian approximation for the covariance matrix of the power spectrum of galaxies.\n",
    "\n",
    "    Parameters:\n",
    "    k (array): Array of wavenumbers.\n",
    "    Pk (array): Array of power spectrum values corresponding to the wavenumbers.\n",
    "    V (float): Survey volume.\n",
    "    delta_k (float): Width of the bin in k-space.\n",
    "\n",
    "    Returns:\n",
    "    cov_matrix (2D array): Covariance matrix of the power spectrum.\n",
    "    \"\"\"\n",
    "    # Number of wavenumbers\n",
    "    N = len(k)\n",
    "    \n",
    "    # Initialize the covariance matrix\n",
    "    cov_matrix = np.zeros((N, N))\n",
    "    \n",
    "    # Compute the number of independent modes for each k\n",
    "    Nk = V * (k**2) * delta_k / (2 * np.pi**2)\n",
    "    np.fill_diagonal(cov_matrix,2 * Pk**2 / Nk + 1/nbar)\n",
    "    return cov_matrix"
   ]
  },
  {
   "cell_type": "code",
   "execution_count": 9,
   "id": "1c049e2f-f08d-4ec8-be87-9adfba5272ef",
   "metadata": {},
   "outputs": [],
   "source": [
    "L = 1e3 #Mpc/h\n",
    "V = (L)**3 #[Mpc/h]^3\n",
    "delta_k = k[1]-k[0]\n",
    "nbar = 2e-4\n",
    "cov = gaussian_covariance_matrix(k,ps_nofeature,V,delta_k,nbar)"
   ]
  },
  {
   "cell_type": "code",
   "execution_count": 10,
   "id": "3befb87f-857f-4a4b-85fa-e3498f972bd1",
   "metadata": {},
   "outputs": [
    {
     "data": {
      "text/plain": [
       "Text(0, 0.5, 'k P(k) [Mpc/h]$^{-2}$')"
      ]
     },
     "execution_count": 10,
     "metadata": {},
     "output_type": "execute_result"
    },
    {
     "data": {
      "image/png": "[encoded data removed]",
      "text/plain": [
       "<Figure size 500x300 with 1 Axes>"
      ]
     },
     "metadata": {},
     "output_type": "display_data"
    }
   ],
   "source": [
    "plt.figure(figsize = (5,3))\n",
    "plt.errorbar(k, k*ps_nofeature, yerr = np.diag(cov)**0.5*k, marker = \"s\", ls = \"\", markersize = 3, color = 'black')\n",
    "plt.xlabel('k [h/Mpc]')\n",
    "plt.ylabel(r'k P(k) [Mpc/h]$^{-2}$')"
   ]
  },
  {
   "cell_type": "markdown",
   "id": "b0dcbd1f-5d8a-4bf5-8153-02ce300072ec",
   "metadata": {},
   "source": [
    "Finally, we use the covariance matrix to generate a dataset with errors (ie having some shifts around the smooth line):"
   ]
  },
  {
   "cell_type": "code",
   "execution_count": 11,
   "id": "aa69ac12-8a4e-4815-8304-2dadd93b4170",
   "metadata": {},
   "outputs": [],
   "source": [
    "noise = np.random.multivariate_normal(mean=np.zeros(len(k)), cov=cov)\n",
    "DATA = ps_linfeature + noise"
   ]
  },
  {
   "cell_type": "code",
   "execution_count": 12,
   "id": "543c188d-7cd2-48a7-b8b4-c56a1fab85ad",
   "metadata": {},
   "outputs": [
    {
     "data": {
      "text/plain": [
       "<matplotlib.legend.Legend at 0x7fbe21978100>"
      ]
     },
     "execution_count": 12,
     "metadata": {},
     "output_type": "execute_result"
    },
    {
     "data": {
      "image/png": "[encoded data removed]",
      "text/plain": [
       "<Figure size 600x400 with 1 Axes>"
      ]
     },
     "metadata": {},
     "output_type": "display_data"
    }
   ],
   "source": [
    "plt.figure(figsize = (6,4))\n",
    "plt.plot(k, k*ps_nofeature,markersize = 3, color = 'black', label = 'null-hypothesis')\n",
    "plt.plot(k, k*DATA,markersize = 3, color = 'b', ls = \"\", marker = \"o\", label = 'Data (synthetic signal + G. error)')\n",
    "plt.xlabel('k [h/Mpc]')\n",
    "plt.ylabel(r'k P(k) [Mpc/h]$^{-2}$')\n",
    "plt.legend()"
   ]
  },
  {
   "cell_type": "code",
   "execution_count": 13,
   "id": "6f5793fa-21f6-4e32-b678-74d471db997d",
   "metadata": {},
   "outputs": [],
   "source": [
    "invcov = np.linalg.inv(cov)"
   ]
  },
  {
   "cell_type": "markdown",
   "id": "1eccd7bf-8d89-41d9-8680-a691a2f5b23e",
   "metadata": {},
   "source": [
    "In the rest of the notebook I will use $\\texttt{DATA},\\texttt{invcov}$ as data products."
   ]
  },
  {
   "cell_type": "markdown",
   "id": "7d3526ae-7bc9-4f7e-b1e4-cd41cbfaf15e",
   "metadata": {},
   "source": [
    "# Creating the likelihood and posterior"
   ]
  },
  {
   "cell_type": "code",
   "execution_count": 14,
   "id": "c9e4414f-0f3d-41af-a343-d53c9af6dafc",
   "metadata": {},
   "outputs": [],
   "source": [
    "from likelihood import *"
   ]
  },
  {
   "cell_type": "code",
   "execution_count": 15,
   "id": "bf7bfdcb-4830-42d9-99be-c3296243102b",
   "metadata": {},
   "outputs": [],
   "source": [
    "#The theory has to be a callable. Give the theory parameters as input\n",
    "theory = lambda x: ps_model_lin.Evaluate_bare(x)[:len(k)] #only get the NGC part"
   ]
  },
  {
   "cell_type": "code",
   "execution_count": 16,
   "id": "0c4c3e7e-18b2-43d3-b74f-42cf79f04a99",
   "metadata": {},
   "outputs": [],
   "source": [
    "#Initialise the likelihood\n",
    "likelihood = likelihoods(theory, DATA, invcov)"
   ]
  },
  {
   "cell_type": "code",
   "execution_count": 17,
   "id": "50efeaea-dfb3-4a85-841f-4f8fe4712aa3",
   "metadata": {},
   "outputs": [
    {
     "name": "stdout",
     "output_type": "stream",
     "text": [
      "Input parameters: [3, 0, 0, 0, 0, 0, 0, 0, 0, 1, 0.025, 300, 3.14]\n",
      "The loglikelihood for this set of parameters is: -22.26277184565815\n"
     ]
    }
   ],
   "source": [
    "#To use a gaussian likelihood\n",
    "theta = params + [A, omega_lin, phi]\n",
    "print('Input parameters:', theta)\n",
    "print('The loglikelihood for this set of parameters is:', likelihood.logGaussian(theta))"
   ]
  },
  {
   "cell_type": "markdown",
   "id": "c2fdf445-099a-4e96-a370-fe6f343b31e8",
   "metadata": {},
   "source": [
    "For this example, I will use a flat prior. It can be loaded using the $\\texttt{mcmctoolkit}$ module:"
   ]
  },
  {
   "cell_type": "code",
   "execution_count": 18,
   "id": "db9a44ce-eb8b-4420-8e84-4e90e89221be",
   "metadata": {},
   "outputs": [
    {
     "name": "stderr",
     "output_type": "stream",
     "text": [
      "2024-09-19 15:58:34,678 - mcmc_toolkit - INFO - Using lin_simple file\n",
      "2024-09-19 15:58:34,680 - mcmc_toolkit - INFO - Number of walkers set to 25\n"
     ]
    }
   ],
   "source": [
    "#prior to use and start with one walker\n",
    "priorname = 'lin_simple'\n",
    "mcmc = MCMC(1, priorname, priors_dir='/Users/s2223060/Desktop/primordial_features/priors')\n",
    "\n",
    "#get the number of parameters\n",
    "ndim = mcmc.ndim\n",
    "\n",
    "#update the number of walkers to 5 per free parameter\n",
    "mcmc.set_walkers(5*ndim)"
   ]
  },
  {
   "cell_type": "code",
   "execution_count": 19,
   "id": "2dcf19ca-c040-43cc-a281-4e3532d85748",
   "metadata": {},
   "outputs": [],
   "source": [
    "#Get the flat prior function\n",
    "in_prior_range = mcmc.in_prior"
   ]
  },
  {
   "cell_type": "code",
   "execution_count": 20,
   "id": "a6f890cf-522c-4f69-9b1c-b307bd15a4ec",
   "metadata": {},
   "outputs": [
    {
     "data": {
      "text/plain": [
       "OrderedDict([('BNGC', [1, 10]),\n",
       "             ('alpha', [0.8, 1.2]),\n",
       "             ('A_lin', [-0.5, 0.5]),\n",
       "             ('omega_lin', [100, 400]),\n",
       "             ('phi', [0, 6.28])])"
      ]
     },
     "execution_count": 20,
     "metadata": {},
     "output_type": "execute_result"
    }
   ],
   "source": [
    "mcmc.prior_dictionary"
   ]
  },
  {
   "cell_type": "code",
   "execution_count": 21,
   "id": "de14320d-c55d-41d4-89a6-19f7d6fdafa4",
   "metadata": {},
   "outputs": [
    {
     "name": "stdout",
     "output_type": "stream",
     "text": [
      "True\n",
      "False\n"
     ]
    }
   ],
   "source": [
    "theta = [2,1,0,150,3]\n",
    "print(in_prior_range(theta))\n",
    "\n",
    "theta = [100,1,0,150,3]\n",
    "print(in_prior_range(theta))"
   ]
  },
  {
   "cell_type": "code",
   "execution_count": 22,
   "id": "391ead98-d20b-4014-a7f7-7c7688323ae6",
   "metadata": {},
   "outputs": [],
   "source": [
    "def logposterior(theta):\n",
    "    if not in_prior_range(theta):\n",
    "        return -np.inf\n",
    "    else:\n",
    "        return likelihood.logGaussian([theta[0], 0, 0, 0, 0, 0, 0, 0, 0, theta[1], theta[2],theta[3],theta[4]])"
   ]
  },
  {
   "cell_type": "code",
   "execution_count": 23,
   "id": "d93976a7-51c1-4bba-97a0-c5e079b98a33",
   "metadata": {},
   "outputs": [
    {
     "name": "stdout",
     "output_type": "stream",
     "text": [
      "-10147.608693538084\n",
      "-inf\n"
     ]
    }
   ],
   "source": [
    "theta = [2,1,0,150,3]\n",
    "print(logposterior(theta))\n",
    "\n",
    "theta = [100,1,0,150,3]\n",
    "print(logposterior(theta))"
   ]
  },
  {
   "cell_type": "markdown",
   "id": "1b917c1f-aba6-4a31-bc0a-f4552a8ceeb8",
   "metadata": {},
   "source": [
    "# Constructing the Likelihood and sampling the posterior"
   ]
  },
  {
   "cell_type": "markdown",
   "id": "194c883b-b13b-45e7-b8d2-c7b59008745b",
   "metadata": {},
   "source": [
    "I will assume a flat prior for all parameters:"
   ]
  },
  {
   "cell_type": "code",
   "execution_count": 24,
   "id": "0974c158-210c-4fce-843b-18fb8ecfacb0",
   "metadata": {},
   "outputs": [],
   "source": [
    "handle = \"PrimFeature_lin_tutorial\""
   ]
  },
  {
   "cell_type": "code",
   "execution_count": 25,
   "id": "2dc32277-148f-44c1-b348-c3aaeb0383d0",
   "metadata": {},
   "outputs": [
    {
     "name": "stderr",
     "output_type": "stream",
     "text": [
      "2024-09-19 15:58:36,959 - mcmc_toolkit - INFO - Using uniform prior\n",
      "2024-09-19 15:58:36,961 - mcmc_toolkit - INFO - For param BNGC: Minimum: 1.61 | Maximum: 9.83\n",
      "2024-09-19 15:58:36,962 - mcmc_toolkit - INFO - For param alpha: Minimum: 0.8 | Maximum: 1.17\n",
      "2024-09-19 15:58:36,963 - mcmc_toolkit - INFO - For param A_lin: Minimum: -0.44 | Maximum: 0.47\n",
      "2024-09-19 15:58:36,964 - mcmc_toolkit - INFO - For param omega_lin: Minimum: 101.88 | Maximum: 374.51\n",
      "2024-09-19 15:58:36,965 - mcmc_toolkit - INFO - For param phi: Minimum: 0.83 | Maximum: 6.21\n"
     ]
    }
   ],
   "source": [
    "initial_pos = mcmc.create_walkers(mode = \"uniform_prior\")"
   ]
  },
  {
   "cell_type": "markdown",
   "id": "c1fcee11-c766-456e-8901-12c7d073150e",
   "metadata": {},
   "source": [
    "We will run the chain for 1000 steps"
   ]
  },
  {
   "cell_type": "code",
   "execution_count": 30,
   "id": "244f729f-9a75-49f1-81ea-8a2188b84463",
   "metadata": {
    "scrolled": true
   },
   "outputs": [
    {
     "name": "stderr",
     "output_type": "stream",
     "text": [
      "  5%|█▉                                        | 23/500 [00:00<00:08, 55.08it/s]2024-09-19 15:59:48,580 - mcmc_toolkit - INFO - Mean acceptance fraction: 0.19134426229508197\n",
      "2024-09-19 15:59:48,580 - mcmc_toolkit - INFO - Mean autocorrelation time: 81.703794043037\n",
      "  9%|███▋                                      | 44/500 [00:00<00:07, 60.57it/s]2024-09-19 15:59:48,984 - mcmc_toolkit - INFO - Mean acceptance fraction: 0.19125161290322581\n",
      "2024-09-19 15:59:48,984 - mcmc_toolkit - INFO - Mean autocorrelation time: 82.86844372109599\n",
      " 14%|██████                                    | 72/500 [00:01<00:06, 63.41it/s]2024-09-19 15:59:49,389 - mcmc_toolkit - INFO - Mean acceptance fraction: 0.19093333333333334\n",
      "2024-09-19 15:59:49,389 - mcmc_toolkit - INFO - Mean autocorrelation time: 84.15256480135355\n",
      " 19%|███████▉                                  | 95/500 [00:01<00:06, 65.96it/s]2024-09-19 15:59:49,766 - mcmc_toolkit - INFO - Mean acceptance fraction: 0.190325\n",
      "2024-09-19 15:59:49,767 - mcmc_toolkit - INFO - Mean autocorrelation time: 85.41909436055478\n",
      " 25%|██████████▎                              | 125/500 [00:02<00:05, 69.25it/s]2024-09-19 15:59:50,145 - mcmc_toolkit - INFO - Mean acceptance fraction: 0.19000615384615385\n",
      "2024-09-19 15:59:50,145 - mcmc_toolkit - INFO - Mean autocorrelation time: 86.73168923896613\n",
      " 30%|████████████▏                            | 148/500 [00:02<00:05, 68.66it/s]2024-09-19 15:59:50,519 - mcmc_toolkit - INFO - Mean acceptance fraction: 0.1900121212121212\n",
      "2024-09-19 15:59:50,520 - mcmc_toolkit - INFO - Mean autocorrelation time: 88.06045217015779\n",
      " 34%|█████████████▉                           | 170/500 [00:02<00:05, 62.85it/s]2024-09-19 15:59:50,948 - mcmc_toolkit - INFO - Mean acceptance fraction: 0.18932537313432832\n",
      "2024-09-19 15:59:50,948 - mcmc_toolkit - INFO - Mean autocorrelation time: 89.3854990425632\n",
      " 40%|████████████████▍                        | 200/500 [00:03<00:04, 66.32it/s]2024-09-19 15:59:51,339 - mcmc_toolkit - INFO - Mean acceptance fraction: 0.18901176470588235\n",
      "2024-09-19 15:59:51,340 - mcmc_toolkit - INFO - Mean autocorrelation time: 90.6867396528603\n",
      " 45%|██████████████████▎                      | 223/500 [00:03<00:04, 65.86it/s]2024-09-19 15:59:51,742 - mcmc_toolkit - INFO - Mean acceptance fraction: 0.1889391304347826\n",
      "2024-09-19 15:59:51,742 - mcmc_toolkit - INFO - Mean autocorrelation time: 91.96613096543517\n",
      " 49%|████████████████████                     | 244/500 [00:03<00:04, 63.14it/s]2024-09-19 15:59:52,141 - mcmc_toolkit - INFO - Mean acceptance fraction: 0.1885257142857143\n",
      "2024-09-19 15:59:52,142 - mcmc_toolkit - INFO - Mean autocorrelation time: 93.1370639154447\n",
      " 55%|██████████████████████▍                  | 274/500 [00:04<00:03, 68.77it/s]2024-09-19 15:59:52,515 - mcmc_toolkit - INFO - Mean acceptance fraction: 0.18805633802816904\n",
      "2024-09-19 15:59:52,516 - mcmc_toolkit - INFO - Mean autocorrelation time: 94.47907113849942\n",
      " 59%|████████████████████████▎                | 296/500 [00:04<00:02, 68.84it/s]2024-09-19 15:59:52,907 - mcmc_toolkit - INFO - Mean acceptance fraction: 0.18760000000000002\n",
      "2024-09-19 15:59:52,907 - mcmc_toolkit - INFO - Mean autocorrelation time: 95.85359744065708\n",
      " 64%|██████████████████████████▏              | 319/500 [00:05<00:02, 67.35it/s]2024-09-19 15:59:53,274 - mcmc_toolkit - INFO - Mean acceptance fraction: 0.18691506849315068\n",
      "2024-09-19 15:59:53,274 - mcmc_toolkit - INFO - Mean autocorrelation time: 97.32954054302817\n",
      " 70%|████████████████████████████▌            | 349/500 [00:05<00:02, 68.84it/s]2024-09-19 15:59:53,661 - mcmc_toolkit - INFO - Mean acceptance fraction: 0.18635675675675678\n",
      "2024-09-19 15:59:53,661 - mcmc_toolkit - INFO - Mean autocorrelation time: 98.81309033818127\n",
      " 75%|██████████████████████████████▌          | 373/500 [00:05<00:01, 69.92it/s]2024-09-19 15:59:54,019 - mcmc_toolkit - INFO - Mean acceptance fraction: 0.18562133333333336\n",
      "2024-09-19 15:59:54,020 - mcmc_toolkit - INFO - Mean autocorrelation time: 100.30676076551278\n",
      " 79%|████████████████████████████████▌        | 397/500 [00:06<00:01, 69.74it/s]2024-09-19 15:59:54,408 - mcmc_toolkit - INFO - Mean acceptance fraction: 0.18517894736842105\n",
      "2024-09-19 15:59:54,409 - mcmc_toolkit - INFO - Mean autocorrelation time: 101.77632181172996\n",
      " 84%|██████████████████████████████████▌      | 421/500 [00:06<00:01, 69.67it/s]2024-09-19 15:59:54,771 - mcmc_toolkit - INFO - Mean acceptance fraction: 0.18470649350649349\n",
      "2024-09-19 15:59:54,771 - mcmc_toolkit - INFO - Mean autocorrelation time: 103.050121357788\n",
      " 89%|████████████████████████████████████▍    | 444/500 [00:06<00:00, 66.24it/s]2024-09-19 15:59:55,171 - mcmc_toolkit - INFO - Mean acceptance fraction: 0.18436923076923076\n",
      "2024-09-19 15:59:55,171 - mcmc_toolkit - INFO - Mean autocorrelation time: 104.35191108910354\n",
      " 94%|██████████████████████████████████████▋  | 472/500 [00:07<00:00, 65.15it/s]2024-09-19 15:59:55,564 - mcmc_toolkit - INFO - Mean acceptance fraction: 0.18393924050632912\n",
      "2024-09-19 15:59:55,564 - mcmc_toolkit - INFO - Mean autocorrelation time: 105.57581958947716\n",
      " 99%|████████████████████████████████████████▋| 496/500 [00:07<00:00, 71.35it/s]2024-09-19 15:59:55,935 - mcmc_toolkit - INFO - Mean acceptance fraction: 0.18394000000000002\n",
      "2024-09-19 15:59:55,936 - mcmc_toolkit - INFO - Mean autocorrelation time: 106.74384245977194\n",
      "100%|█████████████████████████████████████████| 500/500 [00:07<00:00, 63.51it/s]\n",
      "2024-09-19 15:59:55,937 - mcmc_toolkit - INFO - Convergence Achieved!\n",
      "2024-09-19 15:59:55,939 - mcmc_toolkit - INFO - Plotting walkers position over steps...\n",
      "2024-09-19 15:59:56,547 - mcmc_toolkit - INFO - Walkers plot saved to /Users/s2223060/Desktop/primordial_features/nb/figures/PrimFeature_lin_tutorial_walkers.pdf\n",
      "2024-09-19 15:59:56,547 - mcmc_toolkit - INFO - Plotting the correlation matrix...\n",
      "2024-09-19 15:59:56,681 - mcmc_toolkit - INFO - Correlation matrix plot saved to /Users/s2223060/Desktop/primordial_features/nb/figures/PrimFeature_lin_tutorial_Corr.png\n",
      "2024-09-19 15:59:56,682 - mcmc_toolkit - INFO - Making a corner plot...\n"
     ]
    },
    {
     "name": "stdout",
     "output_type": "stream",
     "text": [
      "Removed no burn in\n",
      "plotting:  ['BNGC', 'alpha']\n",
      "plotting:  ['BNGC', 'A_lin']\n",
      "plotting:  ['BNGC', 'omega_lin']\n",
      "plotting:  ['BNGC', 'phi']\n",
      "plotting:  ['alpha', 'A_lin']\n",
      "plotting:  ['alpha', 'omega_lin']\n",
      "plotting:  ['alpha', 'phi']\n",
      "plotting:  ['A_lin', 'omega_lin']\n",
      "plotting:  ['A_lin', 'phi']\n",
      "plotting:  ['omega_lin', 'phi']\n"
     ]
    },
    {
     "name": "stderr",
     "output_type": "stream",
     "text": [
      "2024-09-19 16:00:03,562 - mcmc_toolkit - INFO - Corner plot saved to /Users/s2223060/Desktop/primordial_features/nb/figures/PrimFeature_lin_tutorial_Corner.png\n",
      "2024-09-19 16:00:03,570 - mcmc_toolkit - INFO - Done!\n"
     ]
    }
   ],
   "source": [
    "mcmc.run(handle, 500,initial_pos,loglikelihood=logposterior, new = False, plots=True)"
   ]
  }
 ],
 "metadata": {
  "kernelspec": {
   "display_name": "nbodykit-env",
   "language": "python",
   "name": "nbodykit-env"
  },
  "language_info": {
   "codemirror_mode": {
    "name": "ipython",
    "version": 3
   },
   "file_extension": ".py",
   "mimetype": "text/x-python",
   "name": "python",
   "nbconvert_exporter": "python",
   "pygments_lexer": "ipython3",
   "version": "3.8.12"
  }
 },
 "nbformat": 4,
 "nbformat_minor": 5
}
