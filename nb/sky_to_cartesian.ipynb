{
 "cells": [
  {
   "cell_type": "markdown",
   "id": "8cd54aa0-626f-46f9-900a-cbd6c85de557",
   "metadata": {},
   "source": [
    "# Importing libraries"
   ]
  },
  {
   "cell_type": "code",
   "execution_count": 1,
   "id": "5a0b2a1e-915f-4b53-ae84-313f7e3d8011",
   "metadata": {},
   "outputs": [],
   "source": [
    "import numpy as np\n",
    "import matplotlib.pyplot as plt\n",
    "from astropy.io import fits\n",
    "from astropy import cosmology\n",
    "from astropy.cosmology import FlatLambdaCDM\n",
    "from Corrfunc.theory import DDsmu\n",
    "from scipy.special import eval_legendre"
   ]
  },
  {
   "cell_type": "code",
   "execution_count": 2,
   "id": "83e4b8c2-f1f7-4d6f-b519-bba66cb75647",
   "metadata": {},
   "outputs": [],
   "source": [
    "def ReadFits(fn):\n",
    "    with fits.open(fn) as hdul:\n",
    "        # Assuming the data is in the first extension (index 1)\n",
    "        data = hdul[1].data\n",
    "    return data\n",
    "\n",
    "def sky_to_cartesian(data, cosmo):\n",
    "    ra = data['RA']\n",
    "    dec = data['DEC']\n",
    "    z = data['Z']\n",
    "    \n",
    "    # Convert to Cartesian coordinates\n",
    "    ra_rad = np.deg2rad(ra)\n",
    "    dec_rad = np.deg2rad(dec)\n",
    "    comoving_distance = cosmo.comoving_distance(z).value  # in Mpc\n",
    "    \n",
    "    x = comoving_distance * np.cos(dec_rad) * np.cos(ra_rad)\n",
    "    y = comoving_distance * np.cos(dec_rad) * np.sin(ra_rad)\n",
    "    z = comoving_distance * np.sin(dec_rad)\n",
    "    \n",
    "    return [x,y,z]"
   ]
  },
  {
   "cell_type": "markdown",
   "id": "0bab7b8d-595e-4efe-8663-813d29c1bcde",
   "metadata": {
    "jp-MarkdownHeadingCollapsed": true
   },
   "source": [
    "# Getting eBOSS survey window function"
   ]
  },
  {
   "cell_type": "code",
   "execution_count": null,
   "id": "bfda54bf-64f5-43ed-9a0e-28949ddb3dc5",
   "metadata": {},
   "outputs": [],
   "source": [
    "file_eBOSS = np.load('CARTESIAN_0.8_2.2_eBOSS_QSO_clustering_random-NGC-vDR16.npy')\n",
    "eBOSS_weight, eBOSS_X, eBOSS_Y, eBOSS_Z =  file_eBOSS.T"
   ]
  },
  {
   "cell_type": "code",
   "execution_count": null,
   "id": "4db6aba5-0f43-4156-b890-a7fa5a748d08",
   "metadata": {},
   "outputs": [],
   "source": [
    "N_eBOSS = eBOSS_weight.shape[0]\n",
    "frac = 0.1\n",
    "mask_eBOSS = decrease_cat(frac, N_eBOSS)"
   ]
  },
  {
   "cell_type": "code",
   "execution_count": null,
   "id": "8040635b-bea5-4457-9724-1120da141a4a",
   "metadata": {},
   "outputs": [],
   "source": [
    "#Number of mu bins\n",
    "Nmu_bins = 1000\n",
    "\n",
    "#specs for the separation array\n",
    "smin = 1\n",
    "smax = 100\n",
    "sbins = 100\n",
    "\n",
    "#mu bins\n",
    "mu_edges = np.linspace(0,1,Nmu_bins + 1)\n",
    "mu_ctrs = 0.5*(mu_edges[1:] + mu_edges[:-1])\n",
    "\n",
    "#separation edges\n",
    "s_edges = np.logspace(np.log10(smin),np.log10(smax),sbins)\n",
    "s_ctrs = 0.5*(s_edges[1:]+ s_edges[:-1]) "
   ]
  },
  {
   "cell_type": "code",
   "execution_count": null,
   "id": "481fb200-533f-4685-a13f-599249cbe2db",
   "metadata": {},
   "outputs": [],
   "source": [
    "result_eBOSS = DDsmu(1,1, s_edges, 1, Nmu_bins, eBOSS_X[mask_eBOSS],eBOSS_Y[mask_eBOSS],eBOSS_Z[mask_eBOSS],\n",
    "                     weights1 = eBOSS_weight[mask_eBOSS],weight_type='pair_product',  periodic = False)"
   ]
  },
  {
   "cell_type": "code",
   "execution_count": null,
   "id": "8bb73579-c130-499d-a37c-9f8e6e4fe2fb",
   "metadata": {},
   "outputs": [],
   "source": [
    "Q_ell_eBOSS = Q_ell_estimate(result_eBOSS, s_ctrs, mu_ctrs)"
   ]
  },
  {
   "cell_type": "code",
   "execution_count": null,
   "id": "6d8543b4-5069-440e-b83d-44b5e13fe586",
   "metadata": {},
   "outputs": [],
   "source": [
    "plt.figure()\n",
    "plt.semilogx(s_ctrs, Q_ell_eBOSS[0]/Q_ell_eBOSS[0][20])"
   ]
  },
  {
   "cell_type": "markdown",
   "id": "d630294c-4b19-4f9b-b7f7-deb8d371939e",
   "metadata": {},
   "source": [
    "# Getting the DESI survey window function"
   ]
  },
  {
   "cell_type": "code",
   "execution_count": null,
   "id": "6558519b-9f33-4d96-a9f2-e67167257e9d",
   "metadata": {},
   "outputs": [],
   "source": [
    "randoms = ReadFits('desi_survey_catalogs_Y1_mocks_SecondGenMocks_AbacusSummit_v4_2_mock0_QSO_complete_NGC_0_clustering.ran.fits')"
   ]
  },
  {
   "cell_type": "code",
   "execution_count": null,
   "id": "67cdd86a-e00c-4aad-ba95-2692f1cac354",
   "metadata": {},
   "outputs": [],
   "source": [
    "# Specify the cosmology. Using the DESI cosmology\n",
    "cosmo = FlatLambdaCDM(H0=67.36, Om0=0.3137721026737606)\n",
    "zmin = 0.8\n",
    "zmax = 2.1\n",
    "\n",
    "mask = (randoms['Z']>=zmin)&(randoms['Z']<=zmax)\n",
    "randoms = randoms[mask]"
   ]
  },
  {
   "cell_type": "code",
   "execution_count": null,
   "id": "8496311e-5c18-4083-a55e-9d4cf64bb08d",
   "metadata": {},
   "outputs": [],
   "source": [
    "X,Y,Z = sky_to_cartesian(randoms, cosmo)\n",
    "WEIGHT = randoms['WEIGHT']"
   ]
  },
  {
   "cell_type": "code",
   "execution_count": null,
   "id": "d95b694a-f35b-485b-bcfd-77b4d1e11fdb",
   "metadata": {},
   "outputs": [],
   "source": [
    "output = np.column_stack((X,Y,Z,WEIGHT))"
   ]
  },
  {
   "cell_type": "code",
   "execution_count": null,
   "id": "ccecdeec-c306-430b-a040-5c068f1f742a",
   "metadata": {},
   "outputs": [],
   "source": [
    "np.save('cartesian_desi_survey_catalogs_Y1_mocks_SecondGenMocks_AbacusSummit_v4_2_mock0_QSO_complete_NGC_0_ran.npy', output)"
   ]
  },
  {
   "cell_type": "markdown",
   "id": "6a0fe557-50c4-4c91-bd05-9654f02e82b5",
   "metadata": {},
   "source": [
    "# eBOSS"
   ]
  },
  {
   "cell_type": "code",
   "execution_count": 3,
   "id": "732d084b-ef6a-4e6f-88f4-b76d3535d181",
   "metadata": {},
   "outputs": [],
   "source": [
    "data = np.load('eBOSS/QSO/cat/CARTESIAN_0.8_2.2_eBOSS_QSO_clustering_random-NGC-vDR16.npy')"
   ]
  },
  {
   "cell_type": "code",
   "execution_count": 4,
   "id": "c501b669-24f1-42ec-adf9-218973145c04",
   "metadata": {},
   "outputs": [],
   "source": [
    "W,X,Y,Z = data.T"
   ]
  },
  {
   "cell_type": "code",
   "execution_count": 7,
   "id": "d6a16012-6eb9-4442-b633-3637d13ac52f",
   "metadata": {},
   "outputs": [],
   "source": [
    "np.save('eBOSS/QSO/cat/CARTESIAN_0.8_2.2_eBOSS_QSO_clustering_random-NGC-vDR16_new.npy', np.column_stack((X,Y,Z,W)))"
   ]
  },
  {
   "cell_type": "code",
   "execution_count": null,
   "id": "94eeac18-12a4-412d-bbe2-d21f062f4c9e",
   "metadata": {},
   "outputs": [],
   "source": []
  }
 ],
 "metadata": {
  "kernelspec": {
   "display_name": "nbodykit-env",
   "language": "python",
   "name": "nbodykit-env"
  },
  "language_info": {
   "codemirror_mode": {
    "name": "ipython",
    "version": 3
   },
   "file_extension": ".py",
   "mimetype": "text/x-python",
   "name": "python",
   "nbconvert_exporter": "python",
   "pygments_lexer": "ipython3",
   "version": "3.8.12"
  }
 },
 "nbformat": 4,
 "nbformat_minor": 5
}
