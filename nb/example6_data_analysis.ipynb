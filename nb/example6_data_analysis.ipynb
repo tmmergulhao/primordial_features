{
 "cells": [
  {
   "cell_type": "markdown",
   "id": "210120d2-1852-4def-ac40-28bc1f3145bb",
   "metadata": {},
   "source": [
    "Here we I will show how to analyse the primordial feature chains"
   ]
  },
  {
   "cell_type": "markdown",
   "id": "4d710d9c-c562-4a4d-b548-6b3659c7c985",
   "metadata": {},
   "source": [
    "# Importing libraries"
   ]
  },
  {
   "cell_type": "code",
   "execution_count": 1,
   "id": "30e23a6e-6cb9-4d1e-8e90-517758e3f58a",
   "metadata": {},
   "outputs": [],
   "source": [
    "import sys\n",
    "import numpy as np\n",
    "import matplotlib.pyplot as plt\n",
    "from postprocessing import *\n",
    "import os"
   ]
  },
  {
   "cell_type": "markdown",
   "id": "abd106da-b18a-4d4b-8f13-fb0349c6132d",
   "metadata": {},
   "source": [
    "The main object we will be using to analyse the chains is the posterior binned along the frequency axis. I will start specifying a few parameters:"
   ]
  },
  {
   "cell_type": "code",
   "execution_count": null,
   "id": "c372ef0c-8fd1-45d8-96a6-778bb2cb4efe",
   "metadata": {},
   "outputs": [],
   "source": [
    "chain,logprob = get_total_chain('PrimFeature_lin_tutorial_range2',2,0.5,10)"
   ]
  },
  {
   "cell_type": "markdown",
   "id": "6da29f62-b72f-4d92-af66-04cb0cdd4dff",
   "metadata": {},
   "source": [
    "We save the combined chain:"
   ]
  },
  {
   "cell_type": "code",
   "execution_count": null,
   "id": "e0b7cfa3-75ff-4aa0-a3c3-fe3af081fb74",
   "metadata": {},
   "outputs": [],
   "source": [
    "with h5.File('chains/PrimFeature_lin_tutorial_range2_total.h5', 'w') as out_f:\n",
    "    save_dataset(out_f,'chain',chain)\n",
    "    save_dataset(out_f,'logprob',logprob)"
   ]
  },
  {
   "cell_type": "markdown",
   "id": "0e58a6de-bdef-4b5f-b706-29b9e27f9ae7",
   "metadata": {},
   "source": [
    "Let us take a look at the posterior for a specific freq. range:"
   ]
  },
  {
   "cell_type": "code",
   "execution_count": 2,
   "id": "86d1d95c-7d43-4a74-ae38-23bb8c93d570",
   "metadata": {},
   "outputs": [],
   "source": [
    "handle_list = ['chains/PrimFeature_lin_tutorial_range1_total.h5','chains/PrimFeature_lin_tutorial_range2_total.h5']\n",
    "range_limits = [[100,400],[400,650]]\n",
    "file_output = 'test.h5'\n",
    "dir_out = ''\n",
    "param_map = {'omega':3, 'amplitude':2}\n",
    "omega_bin = 10"
   ]
  },
  {
   "cell_type": "code",
   "execution_count": 3,
   "id": "e340634b-3eba-49de-9891-a22a5142c28b",
   "metadata": {},
   "outputs": [
    {
     "name": "stdout",
     "output_type": "stream",
     "text": [
      "Problem loading the file chains/PrimFeature_lin_tutorial_range1_total.h5: [Errno 2] Unable to open file (unable to open file: name = 'chains/PrimFeature_lin_tutorial_range1_total.h5', errno = 2, error message = 'No such file or directory', flags = 0, o_flags = 0)\n"
     ]
    },
    {
     "ename": "FileNotFoundError",
     "evalue": "[Errno 2] Unable to open file (unable to open file: name = 'chains/PrimFeature_lin_tutorial_range1_total.h5', errno = 2, error message = 'No such file or directory', flags = 0, o_flags = 0)",
     "output_type": "error",
     "traceback": [
      "\u001b[0;31m---------------------------------------------------------------------------\u001b[0m",
      "\u001b[0;31mFileNotFoundError\u001b[0m                         Traceback (most recent call last)",
      "\u001b[0;32m/var/folders/f8/984tm4nj4h53x1yjrnpd76bw0000gn/T/ipykernel_9875/689871494.py\u001b[0m in \u001b[0;36m<module>\u001b[0;34m\u001b[0m\n\u001b[0;32m----> 1\u001b[0;31m \u001b[0mGetBinnedPosterior_1D\u001b[0m\u001b[0;34m(\u001b[0m\u001b[0mhandle_list\u001b[0m\u001b[0;34m,\u001b[0m\u001b[0mrange_limits\u001b[0m\u001b[0;34m,\u001b[0m\u001b[0mfile_output\u001b[0m\u001b[0;34m,\u001b[0m\u001b[0mdir_out\u001b[0m\u001b[0;34m,\u001b[0m \u001b[0mparam_map\u001b[0m\u001b[0;34m,\u001b[0m\u001b[0mverbose\u001b[0m \u001b[0;34m=\u001b[0m \u001b[0;32mFalse\u001b[0m\u001b[0;34m,\u001b[0m\u001b[0momega_bin\u001b[0m \u001b[0;34m=\u001b[0m \u001b[0momega_bin\u001b[0m\u001b[0;34m)\u001b[0m\u001b[0;34m\u001b[0m\u001b[0;34m\u001b[0m\u001b[0m\n\u001b[0m",
      "\u001b[0;32m~/Desktop/primordial_features/postprocessing.py\u001b[0m in \u001b[0;36mGetBinnedPosterior_1D\u001b[0;34m(handle_list, range_limits, file_output, dir_out, param_map, omega_bin, verbose)\u001b[0m\n\u001b[1;32m    254\u001b[0m                 \u001b[0mprint\u001b[0m\u001b[0;34m(\u001b[0m\u001b[0;34mf\"Analysing range {range_limits[range_index]}\"\u001b[0m\u001b[0;34m)\u001b[0m\u001b[0;34m\u001b[0m\u001b[0;34m\u001b[0m\u001b[0m\n\u001b[1;32m    255\u001b[0m \u001b[0;34m\u001b[0m\u001b[0m\n\u001b[0;32m--> 256\u001b[0;31m             \u001b[0mthis_chain\u001b[0m \u001b[0;34m=\u001b[0m \u001b[0mload_chain\u001b[0m\u001b[0;34m(\u001b[0m\u001b[0mdir_out\u001b[0m \u001b[0;34m+\u001b[0m \u001b[0mthis_handle\u001b[0m\u001b[0;34m)\u001b[0m\u001b[0;34m\u001b[0m\u001b[0;34m\u001b[0m\u001b[0m\n\u001b[0m\u001b[1;32m    257\u001b[0m             \u001b[0momega_min\u001b[0m\u001b[0;34m,\u001b[0m \u001b[0momega_max\u001b[0m \u001b[0;34m=\u001b[0m \u001b[0mrange_limits\u001b[0m\u001b[0;34m[\u001b[0m\u001b[0mrange_index\u001b[0m\u001b[0;34m]\u001b[0m\u001b[0;34m\u001b[0m\u001b[0;34m\u001b[0m\u001b[0m\n\u001b[1;32m    258\u001b[0m             \u001b[0momega_bins\u001b[0m \u001b[0;34m=\u001b[0m \u001b[0mnp\u001b[0m\u001b[0;34m.\u001b[0m\u001b[0marange\u001b[0m\u001b[0;34m(\u001b[0m\u001b[0momega_min\u001b[0m\u001b[0;34m,\u001b[0m \u001b[0momega_max\u001b[0m \u001b[0;34m+\u001b[0m \u001b[0momega_bin\u001b[0m\u001b[0;34m,\u001b[0m \u001b[0momega_bin\u001b[0m\u001b[0;34m)\u001b[0m\u001b[0;34m\u001b[0m\u001b[0;34m\u001b[0m\u001b[0m\n",
      "\u001b[0;32m~/Desktop/primordial_features/postprocessing.py\u001b[0m in \u001b[0;36mload_chain\u001b[0;34m(file_path)\u001b[0m\n\u001b[1;32m    113\u001b[0m     \u001b[0;34m\"\"\"Load the MCMC chain from an HDF5 file.\"\"\"\u001b[0m\u001b[0;34m\u001b[0m\u001b[0;34m\u001b[0m\u001b[0m\n\u001b[1;32m    114\u001b[0m     \u001b[0;32mtry\u001b[0m\u001b[0;34m:\u001b[0m\u001b[0;34m\u001b[0m\u001b[0;34m\u001b[0m\u001b[0m\n\u001b[0;32m--> 115\u001b[0;31m         \u001b[0;32mwith\u001b[0m \u001b[0mh5\u001b[0m\u001b[0;34m.\u001b[0m\u001b[0mFile\u001b[0m\u001b[0;34m(\u001b[0m\u001b[0mfile_path\u001b[0m\u001b[0;34m,\u001b[0m \u001b[0;34m'r'\u001b[0m\u001b[0;34m)\u001b[0m \u001b[0;32mas\u001b[0m \u001b[0mfile\u001b[0m\u001b[0;34m:\u001b[0m\u001b[0;34m\u001b[0m\u001b[0;34m\u001b[0m\u001b[0m\n\u001b[0m\u001b[1;32m    116\u001b[0m             \u001b[0mchain\u001b[0m \u001b[0;34m=\u001b[0m \u001b[0mnp\u001b[0m\u001b[0;34m.\u001b[0m\u001b[0marray\u001b[0m\u001b[0;34m(\u001b[0m\u001b[0mfile\u001b[0m\u001b[0;34m.\u001b[0m\u001b[0mget\u001b[0m\u001b[0;34m(\u001b[0m\u001b[0;34m\"chain\"\u001b[0m\u001b[0;34m)\u001b[0m\u001b[0;34m)\u001b[0m\u001b[0;34m.\u001b[0m\u001b[0mT\u001b[0m\u001b[0;34m\u001b[0m\u001b[0;34m\u001b[0m\u001b[0m\n\u001b[1;32m    117\u001b[0m         \u001b[0;32mreturn\u001b[0m \u001b[0mchain\u001b[0m\u001b[0;34m\u001b[0m\u001b[0;34m\u001b[0m\u001b[0m\n",
      "\u001b[0;32m~/opt/anaconda3/envs/nbodykit-env/lib/python3.8/site-packages/h5py/_hl/files.py\u001b[0m in \u001b[0;36m__init__\u001b[0;34m(self, name, mode, driver, libver, userblock_size, swmr, rdcc_nslots, rdcc_nbytes, rdcc_w0, track_order, fs_strategy, fs_persist, fs_threshold, fs_page_size, page_buf_size, min_meta_keep, min_raw_keep, locking, alignment_threshold, alignment_interval, **kwds)\u001b[0m\n\u001b[1;32m    531\u001b[0m                                  \u001b[0mfs_persist\u001b[0m\u001b[0;34m=\u001b[0m\u001b[0mfs_persist\u001b[0m\u001b[0;34m,\u001b[0m \u001b[0mfs_threshold\u001b[0m\u001b[0;34m=\u001b[0m\u001b[0mfs_threshold\u001b[0m\u001b[0;34m,\u001b[0m\u001b[0;34m\u001b[0m\u001b[0;34m\u001b[0m\u001b[0m\n\u001b[1;32m    532\u001b[0m                                  fs_page_size=fs_page_size)\n\u001b[0;32m--> 533\u001b[0;31m                 \u001b[0mfid\u001b[0m \u001b[0;34m=\u001b[0m \u001b[0mmake_fid\u001b[0m\u001b[0;34m(\u001b[0m\u001b[0mname\u001b[0m\u001b[0;34m,\u001b[0m \u001b[0mmode\u001b[0m\u001b[0;34m,\u001b[0m \u001b[0muserblock_size\u001b[0m\u001b[0;34m,\u001b[0m \u001b[0mfapl\u001b[0m\u001b[0;34m,\u001b[0m \u001b[0mfcpl\u001b[0m\u001b[0;34m,\u001b[0m \u001b[0mswmr\u001b[0m\u001b[0;34m=\u001b[0m\u001b[0mswmr\u001b[0m\u001b[0;34m)\u001b[0m\u001b[0;34m\u001b[0m\u001b[0;34m\u001b[0m\u001b[0m\n\u001b[0m\u001b[1;32m    534\u001b[0m \u001b[0;34m\u001b[0m\u001b[0m\n\u001b[1;32m    535\u001b[0m             \u001b[0;32mif\u001b[0m \u001b[0misinstance\u001b[0m\u001b[0;34m(\u001b[0m\u001b[0mlibver\u001b[0m\u001b[0;34m,\u001b[0m \u001b[0mtuple\u001b[0m\u001b[0;34m)\u001b[0m\u001b[0;34m:\u001b[0m\u001b[0;34m\u001b[0m\u001b[0;34m\u001b[0m\u001b[0m\n",
      "\u001b[0;32m~/opt/anaconda3/envs/nbodykit-env/lib/python3.8/site-packages/h5py/_hl/files.py\u001b[0m in \u001b[0;36mmake_fid\u001b[0;34m(name, mode, userblock_size, fapl, fcpl, swmr)\u001b[0m\n\u001b[1;32m    224\u001b[0m         \u001b[0;32mif\u001b[0m \u001b[0mswmr\u001b[0m \u001b[0;32mand\u001b[0m \u001b[0mswmr_support\u001b[0m\u001b[0;34m:\u001b[0m\u001b[0;34m\u001b[0m\u001b[0;34m\u001b[0m\u001b[0m\n\u001b[1;32m    225\u001b[0m             \u001b[0mflags\u001b[0m \u001b[0;34m|=\u001b[0m \u001b[0mh5f\u001b[0m\u001b[0;34m.\u001b[0m\u001b[0mACC_SWMR_READ\u001b[0m\u001b[0;34m\u001b[0m\u001b[0;34m\u001b[0m\u001b[0m\n\u001b[0;32m--> 226\u001b[0;31m         \u001b[0mfid\u001b[0m \u001b[0;34m=\u001b[0m \u001b[0mh5f\u001b[0m\u001b[0;34m.\u001b[0m\u001b[0mopen\u001b[0m\u001b[0;34m(\u001b[0m\u001b[0mname\u001b[0m\u001b[0;34m,\u001b[0m \u001b[0mflags\u001b[0m\u001b[0;34m,\u001b[0m \u001b[0mfapl\u001b[0m\u001b[0;34m=\u001b[0m\u001b[0mfapl\u001b[0m\u001b[0;34m)\u001b[0m\u001b[0;34m\u001b[0m\u001b[0;34m\u001b[0m\u001b[0m\n\u001b[0m\u001b[1;32m    227\u001b[0m     \u001b[0;32melif\u001b[0m \u001b[0mmode\u001b[0m \u001b[0;34m==\u001b[0m \u001b[0;34m'r+'\u001b[0m\u001b[0;34m:\u001b[0m\u001b[0;34m\u001b[0m\u001b[0;34m\u001b[0m\u001b[0m\n\u001b[1;32m    228\u001b[0m         \u001b[0mfid\u001b[0m \u001b[0;34m=\u001b[0m \u001b[0mh5f\u001b[0m\u001b[0;34m.\u001b[0m\u001b[0mopen\u001b[0m\u001b[0;34m(\u001b[0m\u001b[0mname\u001b[0m\u001b[0;34m,\u001b[0m \u001b[0mh5f\u001b[0m\u001b[0;34m.\u001b[0m\u001b[0mACC_RDWR\u001b[0m\u001b[0;34m,\u001b[0m \u001b[0mfapl\u001b[0m\u001b[0;34m=\u001b[0m\u001b[0mfapl\u001b[0m\u001b[0;34m)\u001b[0m\u001b[0;34m\u001b[0m\u001b[0;34m\u001b[0m\u001b[0m\n",
      "\u001b[0;32mh5py/_objects.pyx\u001b[0m in \u001b[0;36mh5py._objects.with_phil.wrapper\u001b[0;34m()\u001b[0m\n",
      "\u001b[0;32mh5py/_objects.pyx\u001b[0m in \u001b[0;36mh5py._objects.with_phil.wrapper\u001b[0;34m()\u001b[0m\n",
      "\u001b[0;32mh5py/h5f.pyx\u001b[0m in \u001b[0;36mh5py.h5f.open\u001b[0;34m()\u001b[0m\n",
      "\u001b[0;31mFileNotFoundError\u001b[0m: [Errno 2] Unable to open file (unable to open file: name = 'chains/PrimFeature_lin_tutorial_range1_total.h5', errno = 2, error message = 'No such file or directory', flags = 0, o_flags = 0)"
     ]
    }
   ],
   "source": [
    "GetBinnedPosterior_1D(handle_list,range_limits,file_output,dir_out, param_map,verbose = False,omega_bin = omega_bin)"
   ]
  },
  {
   "cell_type": "code",
   "execution_count": null,
   "id": "9da8128c-0d8e-4b73-b07c-4bd17d48043e",
   "metadata": {},
   "outputs": [],
   "source": [
    "with h5.File('binned_posterior_unit0_lin_data_no_winfunc_unit0_omegalin_9000_dk_0.0005.h5','r') as f:\n",
    "    nw_1sigma = f['A_cred_1sigma'][:]\n",
    "    nw_2sigma = f['A_cred_2sigma'][:]\n",
    "    nw_3sigma = f['A_cred_3sigma'][:]"
   ]
  },
  {
   "cell_type": "code",
   "execution_count": null,
   "id": "57bbff65-cf81-4231-99ac-be7c69b6a4b1",
   "metadata": {},
   "outputs": [],
   "source": [
    "omega_min, omega_max = 8500, 9500\n",
    "omega_bins = np.arange(omega_min, omega_max + omega_bin, omega_bin)\n",
    "omega_ctrs = 0.5 * (omega_bins[1:] + omega_bins[:-1])"
   ]
  },
  {
   "cell_type": "code",
   "execution_count": null,
   "id": "654e3c9d-9c00-495f-ae5c-fdbf3a2a8585",
   "metadata": {},
   "outputs": [],
   "source": [
    "plt.figure()\n",
    "plt.plot(omega_ctrs,DESI_1sigma, label = \"credible interval ($1\\sigma$)\")\n",
    "plt.plot(omega_ctrs,eBOSS_1sigma, label = \"credible interval ($1\\sigma$)\")\n",
    "plt.legend()\n",
    "plt.xlabel(r'$\\omega_{\\rm lin}$')\n",
    "plt.ylabel(r'$P(|A|)<= threshold$')"
   ]
  },
  {
   "cell_type": "code",
   "execution_count": null,
   "id": "d9adb278-3ac1-4d23-9f02-b4ac2e803599",
   "metadata": {},
   "outputs": [],
   "source": [
    "with h5.File('binned_posterior_total_lin_range1_pk0_QSO_mock_5_dk_0.001_kmin_0.005_kmax_0.22.h5','r') as f:\n",
    "    mock5_1sigma = f['A_cred_1sigma'][:]\n",
    "    mock5_2sigma = f['A_cred_2sigma'][:]\n",
    "    mock5_3sigma = f['A_cred_3sigma'][:]"
   ]
  },
  {
   "cell_type": "code",
   "execution_count": null,
   "id": "d27a5c2e-86d4-4fe3-b430-a8bc11e5d71e",
   "metadata": {},
   "outputs": [],
   "source": [
    "#mock1 = h5.File('binned_posterior_total_lin_range1_pk0_QSO_mock_1_dk_0.001_kmin_0.005_kmax_0.22.h5')\n",
    "mock2 = h5.File('binned_posterior_total_lin_range1_pk0_QSO_mock_2_dk_0.001_kmin_0.005_kmax_0.22.h5')\n",
    "mock3 = h5.File('binned_posterior_total_lin_range1_pk0_QSO_mock_3_dk_0.001_kmin_0.005_kmax_0.22.h5')\n",
    "mock4 = h5.File('binned_posterior_total_lin_range1_pk0_QSO_mock_4_dk_0.001_kmin_0.005_kmax_0.22.h5')\n",
    "mock5 = h5.File('binned_posterior_total_lin_range1_pk0_QSO_mock_5_dk_0.001_kmin_0.005_kmax_0.22.h5')"
   ]
  },
  {
   "cell_type": "code",
   "execution_count": null,
   "id": "49c542a0-6948-40ea-aefc-b7737a4567c2",
   "metadata": {},
   "outputs": [],
   "source": [
    "plt.plot(mock1['posterior:[180, 190]'][:][0],mock1['posterior:[180, 190]'][:][1])\n",
    "plt.plot(mock1['posterior:[150, 160]'][:][0],mock1['posterior:[150, 160]'][:][1])\n",
    "plt.plot(mock1['posterior:[200, 210]'][:][0],mock1['posterior:[200, 210]'][:][1])\n",
    "plt.xlim(-0.5,0.5)"
   ]
  }
 ],
 "metadata": {
  "kernelspec": {
   "display_name": "nbodykit-env",
   "language": "python",
   "name": "nbodykit-env"
  },
  "language_info": {
   "codemirror_mode": {
    "name": "ipython",
    "version": 3
   },
   "file_extension": ".py",
   "mimetype": "text/x-python",
   "name": "python",
   "nbconvert_exporter": "python",
   "pygments_lexer": "ipython3",
   "version": "3.8.12"
  }
 },
 "nbformat": 4,
 "nbformat_minor": 5
}
