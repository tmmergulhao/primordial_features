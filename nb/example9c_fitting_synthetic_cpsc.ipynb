{
 "cells": [
  {
   "cell_type": "markdown",
   "id": "5bab2390-47c3-4b0c-9f68-495aa84e8d2c",
   "metadata": {},
   "source": [
    "# Importing libraries"
   ]
  },
  {
   "cell_type": "code",
   "execution_count": 1,
   "id": "45a0c187",
   "metadata": {},
   "outputs": [],
   "source": [
    "import sys\n",
    "from tqdm import tqdm   \n",
    "import numpy as np\n",
    "from iminuit import Minuit\n",
    "import json\n",
    "import h5py as h5\n",
    "from getdist import plots, MCSamples\n",
    "import matplotlib as mpl\n",
    "%matplotlib inline\n",
    "import matplotlib.pyplot as plt\n",
    "\n",
    "import likelihood\n",
    "import data_handling\n",
    "import ps_constructor\n",
    "import mcmc_toolkit\n",
    "out_path = '/Users/s2223060/Desktop/primordial_features/user/cpsc_detection_test'"
   ]
  },
  {
   "cell_type": "markdown",
   "id": "e3e59b38",
   "metadata": {},
   "source": [
    "# Generating the data"
   ]
  },
  {
   "cell_type": "code",
   "execution_count": 4,
   "id": "6349c807",
   "metadata": {},
   "outputs": [],
   "source": [
    "kmin = 0.02\n",
    "kmax = 0.2\n",
    "data_processor = data_handling.DataProcessor(kmin, kmax)\n",
    "\n",
    "cov_fn = \"/Users/s2223060/Desktop/LSS_DATA/BOSS/highz/C_997_BOSS_DR12_NGC_z3_0.001.matrix\"\n",
    "pk_fn = \"/Users/s2223060/Desktop/LSS_DATA/BOSS/highz/ps1D_BOSS_DR12_NGC_Recon_0.5_0.75_768_0.001_0.4_3500_renorm.dat\"\n",
    "k,_ = data_processor.load_data_BOSS(pk_fn)\n",
    "COV = data_processor.load_cov(cov_fn)\n",
    "\n",
    "#HARTLAP CORRECTION\n",
    "Nmocks = 997\n",
    "Nb = len(k)\n",
    "invCOV = np.linalg.inv(COV)\n",
    "invCOV *= (Nmocks-Nb-2)/(Nmocks-1)\n",
    "\n",
    "#Initialize the models\n",
    "ps_filename = '/Users/s2223060/Desktop/primordial_features/cosmologies/power_spectrum/BOSS_highz_wiggly_decomp.txt'\n",
    "BAO_model = ps_constructor.PowerSpectrumConstructor(k, ps_filename=ps_filename, pf_model='None', ps_style='compressed')\n",
    "cpsc_model = ps_constructor.PowerSpectrumConstructor(k, ps_filename=ps_filename, pf_model='cpsc', ps_style='compressed')"
   ]
  },
  {
   "cell_type": "code",
   "execution_count": 29,
   "id": "39be288e",
   "metadata": {},
   "outputs": [],
   "source": [
    "#             B,  a0, a1,  a2,  a3,  a4, alpha, sigma_nl, sigma_s\n",
    "BAO_params = [3, 0.2, -1,  1,  -1.3, 50,  0.95,   10,        5]\n",
    "\n",
    "#              dP      N0     log omega/H\n",
    "cpsc_params = [0.1,  15,    1.4]\n",
    "PF_theta = [*BAO_params,*cpsc_params]"
   ]
  },
  {
   "cell_type": "code",
   "execution_count": 30,
   "id": "d058219b",
   "metadata": {},
   "outputs": [],
   "source": [
    "#Generate synthetic data and inject gaussian noiser\n",
    "data_BAO_bare = BAO_model.Evaluate_bare(BAO_params)\n",
    "data_PF_bare = cpsc_model.Evaluate_bare(PF_theta)"
   ]
  },
  {
   "cell_type": "code",
   "execution_count": null,
   "id": "5afc82e9",
   "metadata": {},
   "outputs": [],
   "source": [
    "rng = np.random.default_rng(seed=10)\n",
    "noise = 3*rng.multivariate_normal(mean=np.zeros(len(k)), cov=COV)\n",
    "\n",
    "data_BAO = data_BAO_bare + noise\n",
    "data_PF = data_PF_bare + noise\n",
    "\n",
    "fig, ax = plt.subplots(1,2, figsize=(8, 4),constrained_layout=True)\n",
    "ax[0].plot(k, k*data_BAO_bare)\n",
    "ax[0].plot(k, k*data_PF_bare)\n",
    "ax[0].set_title('Noiseless')\n",
    "\n",
    "ax[1].set_title('Noisy')\n",
    "ax[1].plot(k, k*data_BAO)\n",
    "ax[1].plot(k, k*data_PF)\n",
    "\n",
    "for i in range(2):\n",
    "    ax[i].set_xlabel(r'$k$ [h/Mpc]')\n",
    "    ax[i].set_ylabel(r'$kP(k)$ [h/Mpc]')\n",
    "    ax[i].grid()\n",
    "\n",
    "plt.savefig(out_path+'data.pdf')\n",
    "np.savetxt(out_path+'/PF_params.txt', PF_theta, header='BAO_params: B, a0, a1, a2, a3, a4, alpha, sigma_nl, sigma_s\\nCPSC_params: dP, N0, log10_omega_over_H')\n",
    "np.savetxt(out_path+'/PF_data.txt', data_PF, header='data_BAO_bare + noise')\n",
    "\n",
    "np.savetxt(out_path+'/BAO_params.txt', BAO_params, header='BAO_params: B, a0, a1, a2, a3, a4, alpha, sigma_nl, sigma_s')\n",
    "np.savetxt(out_path+'/BAO_data.txt', data_BAO, header='data_BAO_bare + noise')\n",
    "\n",
    "np.savetxt(out_path+'/k.txt', k, header='k [h/Mpc]')\n",
    "np.savetxt(out_path+'/cov.txt', COV, header='covariance matrix')"
   ]
  },
  {
   "cell_type": "code",
   "execution_count": 38,
   "id": "595bd6af",
   "metadata": {},
   "outputs": [],
   "source": [
    "#Initialize the likelihoods.\n",
    "cpsc_fit_cpsc_likelihood = likelihood.likelihoods(lambda x: cpsc_model.Evaluate_bare(x), data_PF, invCOV)\n",
    "BAO_fit_bump_likelihood = likelihood.likelihoods(lambda x: BAO_model.Evaluate_bare(x), data_PF, invCOV)"
   ]
  },
  {
   "cell_type": "code",
   "execution_count": null,
   "id": "e571af10",
   "metadata": {},
   "outputs": [],
   "source": [
    "BAO_params = mcmc_toolkit.MCMC(1, 'BAO_singlepol_single_cap')\n",
    "cpsc_mcmc = mcmc_toolkit.MCMC(1, 'CPSC_singlepol_single_cap')"
   ]
  },
  {
   "cell_type": "markdown",
   "id": "d0a12132",
   "metadata": {},
   "source": [
    "# pocoMC"
   ]
  },
  {
   "cell_type": "code",
   "execution_count": 40,
   "id": "3c7cec9b",
   "metadata": {},
   "outputs": [],
   "source": [
    "import pocomc\n",
    "from scipy.stats import uniform"
   ]
  },
  {
   "cell_type": "code",
   "execution_count": 41,
   "id": "702e39ff",
   "metadata": {},
   "outputs": [],
   "source": [
    "def generate_prior(mcmc):\n",
    "    loc = mcmc.prior_bounds[0]\n",
    "    scale = mcmc.prior_bounds[1] - mcmc.prior_bounds[0]\n",
    "    prior = pocomc.Prior([uniform(loc[i], scale[i]) for i in range(len(loc))])\n",
    "    return prior"
   ]
  },
  {
   "cell_type": "code",
   "execution_count": 42,
   "id": "ddc63bad",
   "metadata": {},
   "outputs": [],
   "source": [
    "bao_label = 'bao_fitting_bump_noiseless'\n",
    "cpsc_label = 'cpsc_fitting_cpsc_noiseless'"
   ]
  },
  {
   "cell_type": "code",
   "execution_count": 43,
   "id": "ea983abf",
   "metadata": {},
   "outputs": [],
   "source": [
    "cpsc_prior = generate_prior(cpsc_mcmc)\n",
    "BAO_prior = generate_prior(BAO_params)"
   ]
  },
  {
   "cell_type": "code",
   "execution_count": 45,
   "id": "a49443ab",
   "metadata": {},
   "outputs": [],
   "source": [
    "sampler_cpsc = pocomc.Sampler(\n",
    "    prior=cpsc_prior,\n",
    "    likelihood=lambda x: cpsc_fit_cpsc_likelihood.logGaussian(x),\n",
    "    vectorize=False,\n",
    "    random_state=0,\n",
    "    n_effective = 400,\n",
    "    n_active = None,\n",
    "    output_dir = out_path,\n",
    "    output_label = cpsc_label,\n",
    ")"
   ]
  },
  {
   "cell_type": "code",
   "execution_count": null,
   "id": "6d67e2cb",
   "metadata": {},
   "outputs": [],
   "source": [
    "sampler_cpsc.run(save_every=10, n_total = 10000)"
   ]
  },
  {
   "cell_type": "code",
   "execution_count": 47,
   "id": "b1913316",
   "metadata": {},
   "outputs": [],
   "source": [
    "samples, weights, logl, logp = sampler_cpsc.posterior()\n",
    "\n",
    "chi2 = -2*logl\n",
    "chi2_min = chi2.min()\n",
    "theta_ML = samples[chi2.argmin()]"
   ]
  },
  {
   "cell_type": "code",
   "execution_count": null,
   "id": "dd63fa53",
   "metadata": {},
   "outputs": [],
   "source": [
    "import corner\n",
    "fig = corner.corner(samples[:, -3:], color=\"C0\",show_titles=True, title_kwargs={\"fontsize\": 12}, fill_contours=True, levels=(0.68, 0.95, 0.99), plot_datapoints=False)\n",
    "plt.show()"
   ]
  },
  {
   "cell_type": "markdown",
   "id": "3cd0e3a5",
   "metadata": {},
   "source": [
    "# emcee"
   ]
  },
  {
   "cell_type": "markdown",
   "id": "4e5f47eb",
   "metadata": {},
   "source": [
    "BAO fitting BAO"
   ]
  },
  {
   "cell_type": "code",
   "execution_count": null,
   "id": "39c25da1",
   "metadata": {},
   "outputs": [],
   "source": [
    "BAO_mcmc.set_gelman_rubin({\n",
    "    \"N\":3,\n",
    "    \"epsilon\":0.03,\n",
    "    \"min_length\":5000,\n",
    "    \"convergence_steps\":10000\n",
    "})\n",
    "\n",
    "handle_BAO = 'BAO_fitting_BAO'\n",
    "\n",
    "def BAO_logposterior(theta):\n",
    "    if not BAO_mcmc.in_prior(theta):\n",
    "        return -np.inf\n",
    "    else:\n",
    "        return BAO_fit_BAO_likelihood.logGaussian(theta)\n",
    "\n",
    "BAO_mcmc.set_walkers(3*BAO_mcmc.ndim)\n",
    "X0 = np.array([4,  0,     0,      0,     0,    0,      1,     10,      10,    0,     0,     0.25])\n",
    "DELTA = np.array([2, 0.001,   0.001, 0.001, 0.001, 0.001,  0.1,    5,       5,    0.1,    0,     0.2])\n",
    "\n",
    "initial_positions = [BAO_mcmc.create_walkers('uniform_thin',x0=X0,delta=DELTA) for _ in range(BAO_mcmc.gelman_rubin['N'])]\n",
    "\n",
    "BAO_mcmc.run(handle_BAO, 1, initial_positions, BAO_logposterior, gelman_rubin=True, new=True, plots=True)"
   ]
  },
  {
   "cell_type": "code",
   "execution_count": 36,
   "id": "f7db9468",
   "metadata": {},
   "outputs": [],
   "source": [
    "final_chain = BAO_mcmc.get_chain(handle_BAO,gelman=BAO_mcmc.gelman_rubin)\n",
    "labels_BAO = [r'B',r\"a_0\", r\"a_1\", r\"a_2\", r\"a_3\", r\"a_4\", r\"\\alpha\",r\"\\Sigma_{\\rm nl}\",r\"\\Sigma_s\"]"
   ]
  },
  {
   "cell_type": "code",
   "execution_count": null,
   "id": "ce2eb930",
   "metadata": {},
   "outputs": [],
   "source": [
    "samples_BAO = MCSamples(samples=final_chain,\n",
    "                        names=labels_BAO, \n",
    "                        labels=labels_BAO,settings={'contours': [0.68, 0.95, 0.99],'smooth_scale_2D':0.05})\n",
    "\n",
    "g1 = plots.get_single_plotter(width_inch=10)\n",
    "g1.settings.title_limit = 1\n",
    "g1.triangle_plot(samples_BAO,\n",
    "line_args=[{'ls':'-', 'color':'C1'}],\n",
    "contour_args=[{'ls':'-', 'color':'C1'}],\n",
    "marker_args={'lw': 1, 'color':'black'},filled = True\n",
    ")"
   ]
  },
  {
   "cell_type": "code",
   "execution_count": 44,
   "id": "31a68f77",
   "metadata": {},
   "outputs": [],
   "source": [
    "theta_ML = BAO_mcmc.get_ML(handle_BAO,gelman_rubin=   BAO_mcmc.gelman_rubin)"
   ]
  },
  {
   "cell_type": "code",
   "execution_count": 45,
   "id": "040882c6",
   "metadata": {},
   "outputs": [],
   "source": [
    "bestfit = BAO_fit_BAO_likelihood.theory(theta_ML)"
   ]
  },
  {
   "cell_type": "code",
   "execution_count": null,
   "id": "a4caad3c",
   "metadata": {},
   "outputs": [],
   "source": [
    "plt.figure()\n",
    "plt.plot(k,k*bestfit)\n",
    "plt.plot(k,k*data_BAO)"
   ]
  },
  {
   "cell_type": "markdown",
   "id": "742d0bdd",
   "metadata": {},
   "source": [
    "# Ultranest"
   ]
  },
  {
   "cell_type": "code",
   "execution_count": null,
   "id": "fded3367",
   "metadata": {},
   "outputs": [],
   "source": [
    "import ultranest\n",
    "import ultranest.stepsampler\n",
    "from collections import OrderedDict\n",
    "import json\n",
    "import corner"
   ]
  },
  {
   "cell_type": "code",
   "execution_count": 15,
   "id": "cbaedab3",
   "metadata": {},
   "outputs": [],
   "source": [
    "def read_result(fn):\n",
    "    chain_dir = fn+'/run1/chains/equal_weighted_post.txt'    \n",
    "    results_dir = fn+'/run1/info/results.json'\n",
    "\n",
    "    #load the final results\n",
    "    with open(results_dir) as json_file:\n",
    "        dic = json.load(json_file, object_pairs_hook=OrderedDict)\n",
    "\n",
    "    #load the chain\n",
    "    with open(chain_dir, 'r') as file:\n",
    "        lines = file.readlines()[1:]\n",
    "        chain = np.array([list(map(float, line.split())) for line in lines])\n",
    "    \n",
    "    bestfit = dic['maximum_likelihood']['point']\n",
    "    logz = dic['logz']\n",
    "    logzerr = dic['logzerr']\n",
    "\n",
    "    return chain, bestfit, logz, logzerr"
   ]
  },
  {
   "cell_type": "code",
   "execution_count": 16,
   "id": "89aae6a8",
   "metadata": {},
   "outputs": [],
   "source": [
    "BAO_lo, BAO_hi = BAO_mcmc.prior_bounds[:,1:]\n",
    "CPSC_lo, CPSC_hi = CPSC_mcmc.prior_bounds[:,1:]\n",
    "\n",
    "#only use one galaxy cap\n",
    "BAO_param_names = BAO_mcmc.labels[1:]\n",
    "BAO_param_names[0] = 'B'\n",
    "CPSC_param_names = CPSC_mcmc.labels[1:]\n",
    "CPSC_param_names[0] = 'B'"
   ]
  },
  {
   "cell_type": "code",
   "execution_count": null,
   "id": "ba5a7975",
   "metadata": {},
   "outputs": [],
   "source": [
    "print('CPSC params:', CPSC_param_names)\n",
    "print('BAO params:', BAO_param_names)"
   ]
  },
  {
   "cell_type": "code",
   "execution_count": 21,
   "id": "657da44b",
   "metadata": {},
   "outputs": [],
   "source": [
    "def prior_BAO(cube):\n",
    "    params = cube.copy()\n",
    "    params = params * (BAO_hi - BAO_lo) + BAO_lo\n",
    "    return params\n",
    "\n",
    "def prior_CPSC(cube):\n",
    "    params = cube.copy()\n",
    "    params = params * (CPSC_hi - CPSC_lo) + CPSC_lo\n",
    "    return params"
   ]
  },
  {
   "cell_type": "code",
   "execution_count": null,
   "id": "4e8d6ace",
   "metadata": {},
   "outputs": [],
   "source": [
    "BAO_prior_test = np.array([prior_BAO(np.random.rand(BAO_mcmc.ndim-1)) for i in range(10000)])\n",
    "CPSC_prior_test = np.array([prior_CPSC(np.random.rand(CPSC_mcmc.ndim-1)) for i in range(10000)])\n",
    "\n",
    "corner.corner(np.array(BAO_prior_test), titles=BAO_param_names, show_titles=True, plot_density=True, quiet=True);\n",
    "corner.corner(np.array(CPSC_prior_test), titles=CPSC_param_names, show_titles=True, plot_density=True, quiet=True);\n",
    "del BAO_prior_test, CPSC_prior_test"
   ]
  },
  {
   "cell_type": "markdown",
   "id": "6919ff5d",
   "metadata": {},
   "source": [
    "We start with the simple case: BAO fitting BAO"
   ]
  },
  {
   "cell_type": "code",
   "execution_count": 23,
   "id": "3491247c",
   "metadata": {},
   "outputs": [],
   "source": [
    "from ultranest import ReactiveNestedSampler\n",
    "from ultranest.stepsampler import SliceSampler, generate_region_oriented_direction, generate_region_random_direction"
   ]
  },
  {
   "cell_type": "code",
   "execution_count": 25,
   "id": "25b43ae7",
   "metadata": {},
   "outputs": [],
   "source": [
    "cases = [\n",
    "    [lambda x: BAO_fit_CPSC_likelihood.logGaussian(x), prior_BAO, BAO_param_names, 'user/CPSC_detection_test/BAO_fitting_BAO_vanilla'],\n",
    "]"
   ]
  },
  {
   "cell_type": "code",
   "execution_count": null,
   "id": "0bc2894b",
   "metadata": {},
   "outputs": [],
   "source": [
    "cases = [\n",
    "    [lambda x: CPSC_fit_CPSC_likelihood.logGaussian(x), prior_CPSC, CPSC_param_names, 'user/CPSC_detection_test/cpsc_fitting_cpsc'],\n",
    "    [lambda x: BAO_fit_CPSC_likelihood.logGaussian(x), prior_BAO, BAO_param_names, 'user/CPSC_detection_test/bao_fitting_cpsc'],\n",
    "]\n",
    "\n",
    "for like, prior, params, out_dir in cases:   \n",
    "    sampler = ultranest.ReactiveNestedSampler(params, like, prior,log_dir=out_dir)\n",
    "    sampler.stepsampler = SliceSampler(\n",
    "        nsteps=100,\n",
    "        generate_direction=generate_region_random_direction,\n",
    "        check_nsteps='move-distance',\n",
    "        region_filter=True,\n",
    "        max_nsteps=10000,\n",
    "    )\n",
    "    result = sampler.run(min_num_live_points=400)"
   ]
  },
  {
   "cell_type": "code",
   "execution_count": null,
   "id": "65b615a8",
   "metadata": {},
   "outputs": [],
   "source": [
    "chain_BAO, bestfit_BAO, logz_BAO, logzerr_BAO =read_result(\"user/CPSC_detection_test/bao_fitting_cpsc\")\n",
    "chain_cpsc, bestfit_cpsc, logz_cpsc, logzerr_cpsc =read_result(\"user/CPSC_detection_test/cpsc_fitting_cpsc\")\n",
    "print('The CPSC is', np.exp(logz_cpsc-logz_BAO), 'times more likely than the BAO model')"
   ]
  },
  {
   "cell_type": "code",
   "execution_count": 48,
   "id": "1cb13f0e",
   "metadata": {},
   "outputs": [],
   "source": [
    "from getdist import MCSamples, plots"
   ]
  },
  {
   "cell_type": "code",
   "execution_count": 67,
   "id": "dcb3afe1",
   "metadata": {},
   "outputs": [],
   "source": [
    "labels = [r'B',r\"a_0\", r\"a_1\", r\"a_2\", r\"a_3\", r\"a_4\", r\"\\alpha\",r\"\\Sigma_{\\rm nl}\",r\"\\Sigma_s\", r\"dP\", r\"N_* - N_0\",r\"\\log_{10}\\,\\omega/H\"]\n",
    "labels_BAO = [r'B',r\"a_0\", r\"a_1\", r\"a_2\", r\"a_3\", r\"a_4\", r\"\\alpha\",r\"\\Sigma_{\\rm nl}\",r\"\\Sigma_s\"]"
   ]
  },
  {
   "cell_type": "code",
   "execution_count": null,
   "id": "65895b4c",
   "metadata": {},
   "outputs": [],
   "source": [
    "samples_CPSC = MCSamples(samples=chain_cpsc,\n",
    "                     names=CPSC_param_names, \n",
    "                     labels=labels,settings={'contours': [0.68, 0.95, 0.99],'smooth_scale_2D':0.05},\n",
    "                     ranges = {'log10_omega_over_H':[0.1,1.9],'dP':[-0.01,0.35],'omega':[13.7,22]})\n",
    "\n",
    "samples_BAO = MCSamples(samples=chain_BAO,\n",
    "                        names=BAO_param_names, \n",
    "                        labels=labels_BAO,settings={'contours': [0.68, 0.95, 0.99],'smooth_scale_2D':0.05})\n",
    "\n",
    "g1 = plots.get_single_plotter(width_inch=10)\n",
    "g1.triangle_plot(samples_CPSC,\n",
    "line_args=[{'ls':'-', 'color':'orange'}],\n",
    "contour_args=[{'ls':'-', 'color':'orange'}],\n",
    "marker_args={'lw': 1, 'color':'black'},filled = True,\n",
    "markers={x:y for x,y in zip(CPSC_param_names,PF_theta)}\n",
    ")"
   ]
  },
  {
   "cell_type": "code",
   "execution_count": null,
   "id": "05b839f1",
   "metadata": {},
   "outputs": [],
   "source": [
    "g1 = plots.get_single_plotter(width_inch=10)\n",
    "g1.triangle_plot(samples_CPSC,\n",
    "line_args=[{'ls':'-', 'color':'orange'}],\n",
    "contour_args=[{'ls':'-', 'color':'orange'}],\n",
    "marker_args={'lw': 1, 'color':'black'},filled = True,\n",
    "markers={x:y for x,y in zip(CPSC_param_names,PF_theta)}\n",
    ")"
   ]
  },
  {
   "cell_type": "code",
   "execution_count": null,
   "id": "084f51e2",
   "metadata": {},
   "outputs": [],
   "source": [
    "g1 = plots.get_single_plotter(width_inch=10)\n",
    "g1.triangle_plot(samples_BAO,\n",
    "line_args=[{'ls':'-', 'color':'orange'}],\n",
    "contour_args=[{'ls':'-', 'color':'orange'}],\n",
    "marker_args={'lw': 1, 'color':'black'},filled = True,\n",
    "markers={x:y for x,y in zip(BAO_param_names,BAO_params)}\n",
    ")"
   ]
  }
 ],
 "metadata": {
  "kernelspec": {
   "display_name": "velo-env",
   "language": "python",
   "name": "python3"
  },
  "language_info": {
   "codemirror_mode": {
    "name": "ipython",
    "version": 3
   },
   "file_extension": ".py",
   "mimetype": "text/x-python",
   "name": "python",
   "nbconvert_exporter": "python",
   "pygments_lexer": "ipython3",
   "version": "3.11.11"
  }
 },
 "nbformat": 4,
 "nbformat_minor": 5
}
