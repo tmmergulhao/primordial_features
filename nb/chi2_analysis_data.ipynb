{
 "cells": [
  {
   "cell_type": "markdown",
   "id": "dc36809a-4c76-4f64-9570-0c3798a10578",
   "metadata": {},
   "source": [
    "# Importing libraries"
   ]
  },
  {
   "cell_type": "code",
   "execution_count": 1,
   "id": "54af7406-8a2b-4bd8-85d5-a7d96cfb8a27",
   "metadata": {},
   "outputs": [],
   "source": [
    "import numpy as np\n",
    "import matplotlib.pyplot as plt\n",
    "import sys, os\n",
    "import json"
   ]
  },
  {
   "cell_type": "code",
   "execution_count": 2,
   "id": "a2c74a6d-6ba0-47dd-8142-e829a2905160",
   "metadata": {},
   "outputs": [],
   "source": [
    "#Append the parent directory\n",
    "current_dir = os.getcwd()\n",
    "parent_dir = os.path.abspath(os.path.join(current_dir, '..'))\n",
    "sys.path.append(parent_dir)"
   ]
  },
  {
   "cell_type": "code",
   "execution_count": 3,
   "id": "e2398e75-01c4-4051-ab9e-5b5d51a513e5",
   "metadata": {},
   "outputs": [],
   "source": [
    "import ps_constructor, likelihood, mcmc_toolkit, data_handling\n",
    "import logging\n",
    "from scipy.interpolate import InterpolatedUnivariateSpline\n",
    "%matplotlib inline\n",
    "from tqdm import tqdm\n",
    "from iminuit import Minuit\n",
    "from dotenv import load_dotenv"
   ]
  },
  {
   "cell_type": "markdown",
   "id": "eae48c9e-bdc1-478f-894d-4e2e058e27bf",
   "metadata": {},
   "source": [
    "# Setting up the environment"
   ]
  },
  {
   "cell_type": "code",
   "execution_count": 4,
   "id": "d6240827-6e62-414e-bf1a-9933453a4278",
   "metadata": {},
   "outputs": [],
   "source": [
    "#SET UP THE PATHS\n",
    "MACHINE = 'MAC'\n",
    "PATHS = data_handling.load_json_to_dict(parent_dir+'/paths.json')[MACHINE]\n",
    "\n",
    "#ENVIRONMENT NAME\n",
    "envname = \"envs/DATA/Y1/lin/DESI_LRG1_DATA_prerecon.env\"\n",
    "\n",
    "#Load the environment and paths\n",
    "load_dotenv(os.path.join(PATHS['MAIN_DIR'],envname))\n",
    "MAIN_DIR = PATHS['MAIN_DIR']\n",
    "DATA_DIR = PATHS['DATA_DIR']\n",
    "FIG_DIR = PATHS['FIG_DIR']\n",
    "CHAIN_DIR = PATHS['CHAIN_DIR']"
   ]
  },
  {
   "cell_type": "code",
   "execution_count": 5,
   "id": "cf84f6a3-8c6e-4f17-ae83-48422b2749bb",
   "metadata": {},
   "outputs": [],
   "source": [
    "prior_name = os.getenv('PRIOR_NAME')\n",
    "prior_file = os.path.join(MAIN_DIR, 'priors', prior_name)\n",
    "\n",
    "CHAIN_FOLDER = os.getenv('CHAIN_FOLDER')\n",
    "CHAIN_PATH = os.path.join(CHAIN_DIR, CHAIN_FOLDER, prior_name)\n",
    "\n",
    "FIG_FOLDER = os.getenv('FIG_FOLDER')\n",
    "FIG_PATH = os.path.join(FIG_DIR, FIG_FOLDER, prior_name)\n",
    "DATA_FLAG = True\n",
    "\n",
    "DATA_NGC_file = os.getenv('DATA_NGC')\n",
    "DATA_NGC_file = os.path.join(DATA_DIR, DATA_NGC_file)\n",
    "\n",
    "DATA_SGC_file = os.getenv('DATA_SGC')\n",
    "DATA_SGC_file = os.path.join(DATA_DIR, DATA_SGC_file)\n",
    "\n",
    "COV_NGC_file = os.getenv('COV_NGC')\n",
    "COV_NGC_file = os.path.join(DATA_DIR, COV_NGC_file)\n",
    "\n",
    "COV_SGC_file = os.getenv('COV_SGC')\n",
    "COV_SGC_file = os.path.join(DATA_DIR, COV_SGC_file)\n",
    "\n",
    "fn_wf_ngc = os.getenv('FN_WF_NGC')\n",
    "if fn_wf_ngc is not None:\n",
    "    fn_wf_ngc = os.path.join(DATA_DIR, fn_wf_ngc)\n",
    "\n",
    "fn_wf_sgc = os.getenv('FN_WF_SGC')\n",
    "if fn_wf_sgc is not None:\n",
    "    fn_wf_sgc = os.path.join(DATA_DIR, fn_wf_sgc)"
   ]
  },
  {
   "cell_type": "code",
   "execution_count": 6,
   "id": "b0b6577a-de03-4eec-a8f7-961b5bcfaf9c",
   "metadata": {},
   "outputs": [],
   "source": [
    "# Linear matter power spectrum (smooth and wiggly part)\n",
    "PLIN = os.getenv('PLIN')\n",
    "PLIN = os.path.join(MAIN_DIR, PLIN)\n",
    "\n",
    "# Specify the primordial feature model\n",
    "primordialfeature_model = os.getenv('MODEL')\n",
    "\n",
    "# Number of walkers per free parameter\n",
    "nwalkers_per_param = int(os.getenv('NWALKERS_PER_PARAM'))\n",
    "initialize_walkers = os.getenv('INITIALIZE_WALKERS')\n",
    "\n",
    "#Get the mask for the k-range\n",
    "KMIN = float(os.getenv('KMIN')) if os.getenv('KMIN') is not None else None\n",
    "KMAX = float(os.getenv('KMAX')) if os.getenv('KMAX') is not None else None"
   ]
  },
  {
   "cell_type": "code",
   "execution_count": 7,
   "id": "2c180c44-032d-4f2e-baec-b524d79bbaa8",
   "metadata": {},
   "outputs": [],
   "source": [
    "# Create the name of the data file\n",
    "data_label = envname.split('/')[-1].split('.')[0]\n",
    "\n",
    "common_name = f\"DATA_{data_label}_{prior_name}\"\n",
    "\n",
    "handle = common_name"
   ]
  },
  {
   "cell_type": "markdown",
   "id": "25ad8047-84ff-4c46-bb77-993c2c8b7a48",
   "metadata": {},
   "source": [
    "# Loading the data"
   ]
  },
  {
   "cell_type": "code",
   "execution_count": 8,
   "id": "000b9421-8c35-47f0-a6db-c9e096605563",
   "metadata": {},
   "outputs": [
    {
     "name": "stderr",
     "output_type": "stream",
     "text": [
      "2024-12-12 11:42:35,280 - __main__ - INFO - DATA NGC file: /Users/s2223060/Desktop/LSS_DATA/DATA/LRG/z_0.4_0.6/pre_recon/pkpoles_LRG_NGC_z0.4-0.6_default_FKP_lin_nran18_cellsize6_boxsize7000_d0.001.txt\n",
      "2024-12-12 11:42:35,283 - __main__ - INFO - DATA SGC file: /Users/s2223060/Desktop/LSS_DATA/DATA/LRG/z_0.4_0.6/pre_recon/pkpoles_LRG_SGC_z0.4-0.6_default_FKP_lin_nran18_cellsize6_boxsize7000_d0.001.txt\n",
      "2024-12-12 11:42:35,286 - __main__ - INFO - COV NGC file: /Users/s2223060/Desktop/LSS_DATA/EZMocks/LRG/z_0.4_0.6/pre_recon/COV_desi_survey_catalogs_Y1_mocks_SecondGenMocks_EZmock_desipipe_v1_ffa_2pt_pk_pkpoles_LRG_NGC_z0.4-0.6_default_FKP_lin_nran8_cellsize6_boxsize7000_d0.001.txt\n",
      "2024-12-12 11:42:35,290 - __main__ - INFO - Window function (NGC): /Users/s2223060/Desktop/LSS_DATA/wf/WINDOW_Y1_LRG_NGC_z1.txt\n",
      "2024-12-12 11:42:35,298 - __main__ - INFO - Window function (SGC): /Users/s2223060/Desktop/LSS_DATA/wf/WINDOW_Y1_LRG_SGC_z1.txt\n",
      "2024-12-12 11:42:35,301 - __main__ - INFO - linear matter power spectrum: /Users/s2223060/Desktop/primordial_features/cosmologies/power_spectrum/DESI_LRG1_plin_decomp.txt\n",
      "2024-12-12 11:42:35,307 - __main__ - INFO - primordial feature model: lin\n",
      "2024-12-12 11:42:35,314 - __main__ - INFO - prior_name: lin_singlepol\n",
      "2024-12-12 11:42:35,315 - __main__ - INFO - nwalkers_per_param: 20\n",
      "2024-12-12 11:42:35,329 - __main__ - INFO - KMIN: 0.02\n",
      "2024-12-12 11:42:35,333 - __main__ - INFO - KMAX: 0.3\n",
      "2024-12-12 11:42:35,339 - __main__ - INFO - Filename: DATA_DESI_LRG1_DATA_prerecon_lin_singlepol\n"
     ]
    }
   ],
   "source": [
    "# Load the k-array and apply the mask\n",
    "data_processor = data_handling.DataProcessor(KMIN, KMAX)\n",
    "k,DATA_NGC = data_processor.load_data(DATA_NGC_file)\n",
    "k,DATA_SGC = data_processor.load_data(DATA_SGC_file)\n",
    "DATA = np.concatenate((DATA_NGC, DATA_SGC))\n",
    "\n",
    "COV_NGC = data_processor.load_cov(COV_NGC_file)\n",
    "COV_SGC = data_processor.load_cov(COV_SGC_file)\n",
    "COV = np.block([[COV_NGC, np.zeros_like(COV_NGC)], [np.zeros_like(COV_SGC), COV_SGC]])\n",
    "invCOV = np.linalg.inv(COV)\n",
    "\n",
    "#HARTLAP CORRECTION\n",
    "Nmocks = 1000\n",
    "Nb = len(k)\n",
    "invCOV *= (Nmocks-Nb-2-1)/(Nmocks-1)\n",
    "\n",
    "# Load the window functions\n",
    "if fn_wf_ngc is not None:\n",
    "    wfunc_NGC = data_handling.load_winfunc(fn_wf_ngc)\n",
    "    #Make sure the window function is normalised\n",
    "    wfunc_NGC[1] = wfunc_NGC[1]/wfunc_NGC[1][0]\n",
    "\n",
    "if fn_wf_sgc is not None:\n",
    "    wfunc_SGC = data_handling.load_winfunc(fn_wf_sgc)\n",
    "    #Make sure the window function is normalised\n",
    "    wfunc_SGC[1] = wfunc_SGC[1]/wfunc_SGC[1][0]\n",
    "\n",
    "# Create the log file\n",
    "logging.basicConfig(level=logging.INFO, format='%(asctime)s - %(name)s - %(levelname)s - %(message)s')\n",
    "logger = logging.getLogger(__name__)\n",
    "\n",
    "# Log the variables\n",
    "logger.info(f'DATA NGC file: {DATA_NGC_file}')\n",
    "logger.info(f'DATA SGC file: {DATA_SGC_file}')\n",
    "logger.info(f'COV NGC file: {COV_NGC_file}')\n",
    "logger.info(f'Window function (NGC): {fn_wf_ngc}')\n",
    "logger.info(f'Window function (SGC): {fn_wf_sgc}')\n",
    "logger.info(f'linear matter power spectrum: {PLIN}')\n",
    "logger.info(f'primordial feature model: {primordialfeature_model}')\n",
    "logger.info(f'prior_name: {prior_name}')\n",
    "logger.info(f'nwalkers_per_param: {nwalkers_per_param}')\n",
    "logger.info(f'KMIN: {KMIN}')\n",
    "logger.info(f'KMAX: {KMAX}')\n",
    "logger.info(f'Filename: {common_name}')"
   ]
  },
  {
   "cell_type": "markdown",
   "id": "0fcfc0b0-3690-4571-a7a8-762623a5df1c",
   "metadata": {},
   "source": [
    "# Defining the theory"
   ]
  },
  {
   "cell_type": "code",
   "execution_count": 41,
   "id": "fee5e082-97c2-40e4-ab49-2538ab563c87",
   "metadata": {},
   "outputs": [],
   "source": [
    "# Initialize the model for NGC\n",
    "ps_model_NGC = ps_constructor.PowerSpectrumConstructor(PLIN, primordialfeature_model, k)\n",
    "\n",
    "# Initialize the model for SGC\n",
    "ps_model_SGC = ps_constructor.PowerSpectrumConstructor(PLIN, primordialfeature_model, k)\n",
    "\n",
    "if (fn_wf_ngc is None) or (fn_wf_sgc is None): #No window function convolution\n",
    "    theory_NGC = lambda x: ps_model_NGC.Evaluate_bare(x)\n",
    "    theory_SGC = lambda x: ps_model_SGC.Evaluate_bare(x)\n",
    "\n",
    "else: #Convolve the theory with the window function\n",
    "    ps_model_NGC.DefineWindowFunction(InterpolatedUnivariateSpline(wfunc_NGC[0],wfunc_NGC[1],ext=3))\n",
    "    theory_NGC = lambda x: ps_model_NGC.Evaluate_wincov(x)\n",
    "\n",
    "    ps_model_SGC.DefineWindowFunction(InterpolatedUnivariateSpline(wfunc_SGC[0],wfunc_SGC[1],ext=3))\n",
    "    theory_SGC = lambda x: ps_model_SGC.Evaluate_wincov(x)\n",
    "\n",
    "def theory(*theta):\n",
    "    # Slice theta to get the corresponding values for NGC and SGC\n",
    "    theta=theta[0]\n",
    "    \n",
    "    theta_NGC = theta[0:ndim_NGC]\n",
    "    theta_SGC = theta[ndim_NGC:ndim_NGC+ndim_SGC]\n",
    "    shared_params = theta[ndim_NGC+ndim_SGC:]\n",
    "    \n",
    "    theta_NGC = np.concatenate([theta_NGC, shared_params])\n",
    "    theta_SGC = np.concatenate([theta_SGC, shared_params])\n",
    "    \n",
    "    # Use np.concatenate to combine the results from both theories\n",
    "    return np.concatenate((theory_NGC(theta_NGC), theory_SGC(theta_SGC)))"
   ]
  },
  {
   "cell_type": "markdown",
   "id": "a0c81ec9-118c-44d6-b887-626fe5d26249",
   "metadata": {},
   "source": [
    "# Initialising the Likelihood"
   ]
  },
  {
   "cell_type": "code",
   "execution_count": 42,
   "id": "87958a3a-f94b-43da-879f-55ee0c857dd1",
   "metadata": {},
   "outputs": [
    {
     "name": "stderr",
     "output_type": "stream",
     "text": [
      "2024-12-12 11:45:21,427 - mcmc_toolkit - INFO - Using /Users/s2223060/Desktop/primordial_features/priors/lin_singlepol file\n",
      "2024-12-12 11:45:21,429 - mcmc_toolkit - INFO - Input dictionary: OrderedDict([('NGC', OrderedDict([('BNGC', [0.1, 8])])), ('SGC', OrderedDict([('BSGC', [0.1, 8])])), ('a0', [-1, 1]), ('a1', [-10, 10]), ('a2', [-50, 50]), ('a3', [-50, 50]), ('a4', [-200, 200]), ('alpha', [0.8, 1.2]), ('sigma_nl', [0, 15]), ('sigma_s', [0, 15]), ('A', [-5, 5]), ('omega', [0, 0]), ('phi', [0, 0.5])])\n",
      "2024-12-12 11:45:21,430 - mcmc_toolkit - INFO - Expanded dictionary: OrderedDict([('BNGC', [0.1, 8]), ('BSGC', [0.1, 8]), ('a0', [-1, 1]), ('a1', [-10, 10]), ('a2', [-50, 50]), ('a3', [-50, 50]), ('a4', [-200, 200]), ('alpha', [0.8, 1.2]), ('sigma_nl', [0, 15]), ('sigma_s', [0, 15]), ('A', [-5, 5]), ('omega', [0, 0]), ('phi', [0, 0.5])])\n",
      "2024-12-12 11:45:21,431 - mcmc_toolkit - INFO - Parameter labels: ['BNGC', 'BSGC', 'a0', 'a1', 'a2', 'a3', 'a4', 'alpha', 'sigma_nl', 'sigma_s', 'A', 'omega', 'phi']\n",
      "2024-12-12 11:45:21,433 - mcmc_toolkit - INFO - Parameter bounds: [[ 1.0e-01  1.0e-01 -1.0e+00 -1.0e+01 -5.0e+01 -5.0e+01 -2.0e+02  8.0e-01\n",
      "   0.0e+00  0.0e+00 -5.0e+00  0.0e+00  0.0e+00]\n",
      " [ 8.0e+00  8.0e+00  1.0e+00  1.0e+01  5.0e+01  5.0e+01  2.0e+02  1.2e+00\n",
      "   1.5e+01  1.5e+01  5.0e+00  0.0e+00  5.0e-01]]\n",
      "2024-12-12 11:45:21,435 - mcmc_toolkit - INFO - Number of walkers set to 1\n"
     ]
    }
   ],
   "source": [
    "# Load the gelman rubin convergence criteria\n",
    "with open(os.path.join(MAIN_DIR,'gelman_rubin.json'), 'r') as json_file:\n",
    "            gelman_rubin = json.load(json_file)\n",
    "\n",
    "# Initialize the MCMC\n",
    "mcmc = mcmc_toolkit.MCMC(1, prior_file)\n",
    "ndim_NGC = len(mcmc.input_prior['NGC'])\n",
    "ndim_SGC = len(mcmc.input_prior['SGC'])\n",
    "mcmc.gelman_rubin(gelman_rubin)\n",
    "mcmc.set_walkers(1)\n",
    "\n",
    "PrimordialFeature_likelihood = likelihood.likelihoods(theory, DATA, invCOV)\n",
    "\n",
    "def chi2(*theta):\n",
    "    return PrimordialFeature_likelihood.chi2(list(theta))"
   ]
  },
  {
   "cell_type": "markdown",
   "id": "88a5f43c-d249-41d7-93e3-163ad3c666ee",
   "metadata": {},
   "source": [
    "# MINUIT"
   ]
  },
  {
   "cell_type": "code",
   "execution_count": 67,
   "id": "1cd53b76-9d78-4c95-8240-971d36ece7ba",
   "metadata": {},
   "outputs": [],
   "source": [
    "omegas = np.arange(105,4005,10)\n",
    "limits = [(x[0],x[1]) for x in mcmc.prior_bounds.T]\n",
    "\n",
    "X0_str = os.getenv(\"X0\")\n",
    "DELTA_str = os.getenv('DELTA')\n",
    "\n",
    "if X0_str:\n",
    "    X0 = np.array([float(x) for x in X0_str.split(',')])\n",
    "    DELTA = np.array([float(x) for x in DELTA_str.split(',')])\n",
    "else:\n",
    "    X0 = np.array([])  # or handle the case where X0 is not set\n",
    "    DELTA = np.array([])\n",
    "    logger.warning('X0 and SIGMA not set')"
   ]
  },
  {
   "cell_type": "code",
   "execution_count": 68,
   "id": "b0adc2b3-070f-4d49-a7b1-7397d9e75376",
   "metadata": {},
   "outputs": [],
   "source": [
    "params = []\n",
    "chi2_list = []"
   ]
  },
  {
   "cell_type": "code",
   "execution_count": 69,
   "id": "c1ef1cba-fc73-4c24-9e47-f39f8157e290",
   "metadata": {},
   "outputs": [
    {
     "name": "stderr",
     "output_type": "stream",
     "text": [
      "2024-12-12 11:55:55,537 - mcmc_toolkit - INFO - Using the uniform_thin walker positioning\n"
     ]
    },
    {
     "name": "stdout",
     "output_type": "stream",
     "text": [
      "0\n"
     ]
    },
    {
     "name": "stderr",
     "output_type": "stream",
     "text": [
      "2024-12-12 11:56:12,416 - mcmc_toolkit - INFO - Using the uniform_thin walker positioning\n"
     ]
    },
    {
     "name": "stdout",
     "output_type": "stream",
     "text": [
      "1\n"
     ]
    },
    {
     "name": "stderr",
     "output_type": "stream",
     "text": [
      "2024-12-12 11:56:36,145 - mcmc_toolkit - INFO - Using the uniform_thin walker positioning\n"
     ]
    },
    {
     "name": "stdout",
     "output_type": "stream",
     "text": [
      "2\n"
     ]
    },
    {
     "name": "stderr",
     "output_type": "stream",
     "text": [
      "2024-12-12 11:56:54,835 - mcmc_toolkit - INFO - Using the uniform_thin walker positioning\n"
     ]
    },
    {
     "name": "stdout",
     "output_type": "stream",
     "text": [
      "3\n"
     ]
    },
    {
     "name": "stderr",
     "output_type": "stream",
     "text": [
      "2024-12-12 11:57:22,747 - mcmc_toolkit - INFO - Using the uniform_thin walker positioning\n"
     ]
    },
    {
     "name": "stdout",
     "output_type": "stream",
     "text": [
      "4\n"
     ]
    },
    {
     "name": "stderr",
     "output_type": "stream",
     "text": [
      "2024-12-12 11:57:47,996 - mcmc_toolkit - INFO - Using the uniform_thin walker positioning\n"
     ]
    },
    {
     "name": "stdout",
     "output_type": "stream",
     "text": [
      "5\n"
     ]
    },
    {
     "name": "stderr",
     "output_type": "stream",
     "text": [
      "2024-12-12 11:58:14,847 - mcmc_toolkit - INFO - Using the uniform_thin walker positioning\n"
     ]
    },
    {
     "name": "stdout",
     "output_type": "stream",
     "text": [
      "6\n"
     ]
    },
    {
     "name": "stderr",
     "output_type": "stream",
     "text": [
      "2024-12-12 11:58:37,115 - mcmc_toolkit - INFO - Using the uniform_thin walker positioning\n"
     ]
    },
    {
     "name": "stdout",
     "output_type": "stream",
     "text": [
      "7\n"
     ]
    },
    {
     "name": "stderr",
     "output_type": "stream",
     "text": [
      "2024-12-12 11:58:52,097 - mcmc_toolkit - INFO - Using the uniform_thin walker positioning\n"
     ]
    },
    {
     "name": "stdout",
     "output_type": "stream",
     "text": [
      "8\n"
     ]
    },
    {
     "name": "stderr",
     "output_type": "stream",
     "text": [
      "2024-12-12 11:59:12,208 - mcmc_toolkit - INFO - Using the uniform_thin walker positioning\n"
     ]
    },
    {
     "name": "stdout",
     "output_type": "stream",
     "text": [
      "9\n"
     ]
    }
   ],
   "source": [
    "for i in range(0,10):\n",
    "    print(i)\n",
    "    limits[mcmc.id_map['omega']] = (omegas[i],omegas[i])\n",
    "    initial_positions = mcmc.create_walkers(initialize_walkers,x0 =X0,delta = DELTA)[0]\n",
    "    initial_positions[mcmc.id_map['omega']] = omegas[i]\n",
    "    \n",
    "    m = Minuit(chi2, name = mcmc.labels, **{x:val for x,val in zip(mcmc.labels, initial_positions)})\n",
    "    m.limits = limits\n",
    "    m.migrad(ncall = 20000)\n",
    "    params.append(list(m.values.to_dict().values()))\n",
    "    chi2_list.append(m.fmin.fval)"
   ]
  },
  {
   "cell_type": "code",
   "execution_count": null,
   "id": "7b5240d5-3025-438f-9d67-e8cbd26cfce3",
   "metadata": {},
   "outputs": [],
   "source": [
    " m.values,  # Parameter names and their fitted values\n",
    " m.errors,  # Parameter names and their HESSE errors\n",
    " {str(k): v for k, v in m.covariance.items()},  # Covariance matrix as serializable dict\n",
    " m.covariance.correlation().tolist(),  # Correlation matrix as a list of lists\n",
    " m.fmin._asdict(),  # Function minimum details as a dictionary\n",
    " m.nfcn,  # Number of function evaluations\n",
    " m.edm,  # Estimated distance to the minimum"
   ]
  },
  {
   "cell_type": "code",
   "execution_count": null,
   "id": "6c329164-0be9-4fa2-9edc-fa30d844a247",
   "metadata": {},
   "outputs": [],
   "source": [
    "x0 = list(m.values.to_dict().values())"
   ]
  },
  {
   "cell_type": "code",
   "execution_count": null,
   "id": "569e07fb-776c-420d-9d77-6d5cde578bcb",
   "metadata": {},
   "outputs": [],
   "source": [
    "theory_bf = theory(x0)\n",
    "plt.figure()\n",
    "plt.plot(k, k*theory_bf[0:len(k)])\n",
    "plt.plot(k, k*theory_bf[len(k):])\n",
    "plt.plot(k, k*DATA[0:len(k)])\n",
    "plt.plot(k, k*DATA[len(k):])"
   ]
  },
  {
   "cell_type": "code",
   "execution_count": null,
   "id": "128fdb1c-9a7a-47cc-bba9-edb87fcb1414",
   "metadata": {},
   "outputs": [],
   "source": [
    "x = m.values.to_dict()"
   ]
  },
  {
   "cell_type": "code",
   "execution_count": null,
   "id": "6ecf27ac-3ca3-4939-90ba-92d57b88317b",
   "metadata": {},
   "outputs": [],
   "source": [
    "bf_NGC = theory_NGC([x['BNGC'],x['a0NGC'],x['a1NGC'],x['a2NGC'],x['a3NGC'],x['a4NGC'], x['alpha'],x['sigma_nl'],x['sigma_s']])\n",
    "bf_SGC = theory_SGC([x['BSGC'],x['a0SGC'],x['a1SGC'],x['a2SGC'],x['a3SGC'],x['a4SGC'], x['alpha'],x['sigma_nl'],x['sigma_s']])"
   ]
  },
  {
   "cell_type": "code",
   "execution_count": null,
   "id": "98015b42-039d-45a2-a3bc-2263e9f3a44d",
   "metadata": {},
   "outputs": [],
   "source": [
    "bf_smooth_NGC = theory_NGC([x['BNGC'],x['a0NGC'],x['a1NGC'],x['a2NGC'],x['a3NGC'],x['a4NGC'],x['alpha'],10000,x['sigma_s']])\n",
    "bf_smooth_SGC = theory_SGC([x['BSGC'],x['a0SGC'],x['a1SGC'],x['a2SGC'],x['a3SGC'],x['a4SGC'],x['alpha'],10000,x['sigma_s']])"
   ]
  },
  {
   "cell_type": "code",
   "execution_count": null,
   "id": "75824b94-b2fb-4430-b71a-ff36ec441d5a",
   "metadata": {},
   "outputs": [],
   "source": [
    "sigma_NGC = np.diag(np.linalg.inv(invcov))[0:len(k)]**0.5\n",
    "sigma_SGC = np.diag(np.linalg.inv(invcov))[len(k):]**0.5"
   ]
  },
  {
   "cell_type": "code",
   "execution_count": null,
   "id": "97ad85dd-fcc6-448b-8535-7b2e6252c500",
   "metadata": {},
   "outputs": [],
   "source": [
    "DATA_NGC,DATA_SGC = DATA[0:len(k)],  DATA[len(k):]\n",
    "fig, ax = plt.subplots(1,2, figsize = (8,4))\n",
    "ax[0].plot(k, (DATA_NGC/bf_smooth_NGC))\n",
    "ax[0].plot(k, (bf_NGC/bf_smooth_NGC), color = 'black', lw = 4)\n",
    "ax[0].set_xlim((k[0],k[-1]))\n",
    "ax[0].set_ylim((0.8,1.2))\n",
    "ax[0].grid()\n",
    "ax[0].set_title(tracer)\n",
    "ax[1].plot(k, (DATA_SGC/bf_smooth_SGC))\n",
    "ax[1].plot(k, (bf_SGC/bf_smooth_SGC), color = 'black', lw = 4)\n",
    "ax[1].set_xlim((k[0],k[-1]))\n",
    "ax[1].set_ylim((0.8,1.2))\n",
    "ax[1].grid()\n",
    "ax[1].set_title(r\"$\\chi^2/\\mathrm{dof} = $\"+f\" {m.fval:.02f}/{2*len(k)}-{len(x)}\")"
   ]
  },
  {
   "cell_type": "code",
   "execution_count": null,
   "id": "5417a179-d0b4-4116-93bc-b2e8d8f96343",
   "metadata": {},
   "outputs": [],
   "source": [
    "import matplotlib.pyplot as plt\n",
    "import matplotlib.gridspec as gridspec\n",
    "\n",
    "# Split data\n",
    "DATA_NGC, DATA_SGC = DATA[0:len(k)], DATA[len(k):]\n",
    "\n",
    "# Create figure and grid layout\n",
    "fig = plt.figure(figsize=(10, 8))\n",
    "gs = gridspec.GridSpec(2, 2, height_ratios=[3, 1], hspace=0.05)\n",
    "\n",
    "# Main plot for NGC\n",
    "ax_main_ngc = fig.add_subplot(gs[0, 0])\n",
    "ax_main_ngc.plot(k, (DATA_NGC / bf_smooth_NGC), marker='o', label=\"Data / Model\")\n",
    "ax_main_ngc.plot(k, (bf_NGC / bf_smooth_NGC), color='black', lw=4, label=\"Best Fit / Model\")\n",
    "ax_main_ngc.set_xlim((k[0], k[-1]))\n",
    "ax_main_ngc.set_ylim((0.8, 1.2))\n",
    "ax_main_ngc.grid()\n",
    "ax_main_ngc.set_title(tracer)\n",
    "ax_main_ngc.legend()\n",
    "\n",
    "# Residual plot for NGC\n",
    "ax_res_ngc = fig.add_subplot(gs[1, 0], sharex=ax_main_ngc)\n",
    "residuals_ngc = (bf_NGC - DATA_NGC) / sigma_NGC\n",
    "ax_res_ngc.scatter(k, residuals_ngc, color='blue', label=\"Residuals\", s = 1,marker = \"s\")\n",
    "ax_res_ngc.axhline(0, color='black', lw=1, linestyle='--')\n",
    "ax_res_ngc.set_xlim((k[0], k[-1]))\n",
    "ax_res_ngc.set_ylim((-5, 5))\n",
    "ax_res_ngc.set_ylabel(\"Residuals\")\n",
    "ax_res_ngc.grid()\n",
    "\n",
    "# Main plot for SGC\n",
    "ax_main_sgc = fig.add_subplot(gs[0, 1])\n",
    "ax_main_sgc.plot(k, (DATA_SGC / bf_smooth_SGC), marker='o', label=\"Data / Model\")\n",
    "ax_main_sgc.plot(k, (bf_SGC / bf_smooth_SGC), color='black', lw=4, label=\"Best Fit / Model\")\n",
    "ax_main_sgc.set_xlim((k[0], k[-1]))\n",
    "ax_main_sgc.set_ylim((0.8, 1.2))\n",
    "ax_main_sgc.grid()\n",
    "ax_main_sgc.set_title(r\"$\\chi^2/\\mathrm{dof} = $\" + f\" {m.fval:.02f}/{2*len(k)}-{len(x)}\")\n",
    "ax_main_sgc.legend()\n",
    "\n",
    "# Residual plot for SGC\n",
    "ax_res_sgc = fig.add_subplot(gs[1, 1], sharex=ax_main_sgc)\n",
    "residuals_sgc = (bf_SGC - DATA_SGC) / sigma_SGC\n",
    "ax_res_sgc.scatter(k, residuals_sgc, color='blue', label=\"Residuals\", s = 1,marker  = \"s\")\n",
    "ax_res_sgc.axhline(0, color='black', lw=1, linestyle='--')\n",
    "ax_res_sgc.set_xlim((k[0], k[-1]))\n",
    "ax_res_sgc.set_ylim((-5, 5))\n",
    "ax_res_sgc.grid()\n",
    "\n",
    "# Final adjustments\n",
    "plt.show()"
   ]
  },
  {
   "cell_type": "markdown",
   "id": "6df61cbe-ac8b-4ca8-87e0-2b0fe4920f2a",
   "metadata": {},
   "source": [
    "# Checking results"
   ]
  },
  {
   "cell_type": "code",
   "execution_count": null,
   "id": "ccbee353-2cb9-40db-a69e-e0e3aeaf382a",
   "metadata": {},
   "outputs": [],
   "source": [
    "import matplotlib.pyplot as plt"
   ]
  },
  {
   "cell_type": "code",
   "execution_count": null,
   "id": "faf51445-fcb8-4e03-8260-723b5ecc2c9a",
   "metadata": {},
   "outputs": [],
   "source": [
    "import json\n",
    "\n",
    "# Function to load a .json file as a dictionary\n",
    "def load_json_as_dict(file_path):\n",
    "    try:\n",
    "        with open(file_path, 'r') as file:\n",
    "            data = json.load(file)\n",
    "        return data\n",
    "    except FileNotFoundError:\n",
    "        print(f\"Error: File {file_path} not found.\")\n",
    "        return None\n",
    "    except json.JSONDecodeError:\n",
    "        print(f\"Error: Could not decode JSON from {file_path}.\")\n",
    "        return None\n"
   ]
  },
  {
   "cell_type": "code",
   "execution_count": null,
   "id": "ff9b17cb-a57d-4703-9169-f2aeafb59012",
   "metadata": {},
   "outputs": [],
   "source": [
    "results_dir = '/scratch/dp322/dc-merg1/chains/DESI_QSO_MOCK_Abacus/BAO_doublepol/MINUIT_MINUIT_BAO_doublepol_2pt_mock0_recon_sm30_recsym_pkpoles_QSO_default_FKP_lin_nran18_cellsize6_boxsize10000_d0.001_results.json'"
   ]
  },
  {
   "cell_type": "code",
   "execution_count": null,
   "id": "875a44c6-fa78-48ff-b1ee-decbdb7bfa68",
   "metadata": {},
   "outputs": [],
   "source": [
    " },\n",
    "    \"LRG2\":{\n",
    "    \"prerecon\":\"DESI_LRG2_MOCK_Abacus/BAO_doublepol/MINUIT_MINUIT_BAO_doublepol_2pt_mock{}_pk_pkpoles_LRG__z0.6-0.8_default_FKP_lin_nran18_cellsize6_boxsize7000_thetacut0.05_d0.001_results.json\",\n",
    "    \"recsym\":\"DESI_LRG2_MOCK_Abacus/BAO_doublepol/MINUIT_MINUIT_BAO_doublepol_2pt_mock{}_recon_sm15_IFFT_recsym_pk_pkpoles_LRG__z0.6-0.8_default_FKP_lin_nran18_cellsize6_boxsize7000_d0.001_results.json\"\n",
    "    },\n",
    "    \"LRG3\":{\n",
    "    \"prerecon\":\"/scratch/dp322/dc-merg1/chains/DESI_LRG3_MOCK_Abacus/BAO_doublepol/MINUIT_BAO_doublepol_2pt_mock{}_pk_pkpoles_LRG__z0.8-1.1_default_FKP_lin_nran18_cellsize6_boxsize7000_thetacut0.05_d0.001_results.json\",\n",
    "    \"recsym\":\"/scratch/dp322/dc-merg1/chains/DESI_LRG3_MOCK_Abacus/BAO_doublepol/MINUIT_BAO_doublepol_2pt_mock{}_recon_sm15_IFFT_recsym_pk_pkpoles_LRG__z0.8-1.1_default_FKP_lin_nran18_cellsize6_boxsize7000_d0.001_results.json\"\n",
    "    },\n",
    "    \"QSO\":{\n",
    "        'prerecon':'/scratch/dp322/dc-merg1/chains/DESI_QSO_MOCK_Abacus/BAO_doublepol/MINUIT_BAO_doublepol_2pt_mock{}_pk_pkpoles_QSO_default_FKP_lin_nran18_cellsize6_boxsize10000_d0.001_results.json',\n",
    "        'recsym':'/scratch/dp322/dc-merg1/chains/DESI_QSO_MOCK_Abacus/BAO_doublepol/MINUIT_BAO_doublepol_2pt_mock{}_recon_sm30_recsym_pkpoles_QSO_default_FKP_lin_nran18_cellsize6_boxsize10000_d0.001_results.json'\n",
    "    }"
   ]
  },
  {
   "cell_type": "code",
   "execution_count": null,
   "id": "47ebf485-cdf1-47ce-b3f3-179f91f3471b",
   "metadata": {},
   "outputs": [],
   "source": [
    "results_fn = {\n",
    "    \"LRG1\":{\n",
    "        \"prerecon\":\"/scratch/dp322/dc-merg1/chains/DESI_LRG1_MOCK_Abacus/BAO_doublepol/MINUIT_BAO_doublepol_2pt_mock{}_pk_pkpoles_LRG__z0.4-0.6_default_FKP_lin_nran18_cellsize6_boxsize7000_thetacut0.05_d0.001_results.json\",\n",
    "        \"recsym\":\"/scratch/dp322/dc-merg1/chains/DESI_LRG1_MOCK_Abacus/BAO_doublepol/MINUIT_BAO_doublepol_2pt_mock{}_recon_sm15_IFFT_recsym_pk_pkpoles_LRG__z0.4-0.6_default_FKP_lin_nran18_cellsize6_boxsize7000_d0.001_results.json\"},\n",
    "    \"LRG2\":{\n",
    "    \"prerecon\":\"/scratch/dp322/dc-merg1/chains/DESI_LRG2_MOCK_Abacus/BAO_doublepol/MINUIT_BAO_doublepol_2pt_mock{}_pk_pkpoles_LRG__z0.6-0.8_default_FKP_lin_nran18_cellsize6_boxsize7000_thetacut0.05_d0.001_results.json\",\n",
    "    \"recsym\":\"/scratch/dp322/dc-merg1/chains/DESI_LRG2_MOCK_Abacus/BAO_doublepol/MINUIT_BAO_doublepol_2pt_mock{}_recon_sm15_IFFT_recsym_pk_pkpoles_LRG__z0.6-0.8_default_FKP_lin_nran18_cellsize6_boxsize7000_d0.001_results.json\"\n",
    "    },\n",
    "    \"LRG3\":{\n",
    "    \"prerecon\":\"/scratch/dp322/dc-merg1/chains/DESI_LRG3_MOCK_Abacus/BAO_doublepol/MINUIT_BAO_doublepol_2pt_mock{}_pk_pkpoles_LRG__z0.8-1.1_default_FKP_lin_nran18_cellsize6_boxsize7000_thetacut0.05_d0.001_results.json\",\n",
    "    \"recsym\":\"/scratch/dp322/dc-merg1/chains/DESI_LRG3_MOCK_Abacus/BAO_doublepol/MINUIT_BAO_doublepol_2pt_mock{}_recon_sm15_IFFT_recsym_pk_pkpoles_LRG__z0.8-1.1_default_FKP_lin_nran18_cellsize6_boxsize7000_d0.001_results.json\"\n",
    "    },\n",
    "    \"QSO\":{\n",
    "        'prerecon':'/scratch/dp322/dc-merg1/chains/DESI_QSO_MOCK_Abacus/BAO_doublepol/MINUIT_BAO_doublepol_2pt_mock{}_pk_pkpoles_QSO_default_FKP_lin_nran18_cellsize6_boxsize10000_d0.001_results.json',\n",
    "        'recsym':'/scratch/dp322/dc-merg1/chains/DESI_QSO_MOCK_Abacus/BAO_doublepol/MINUIT_BAO_doublepol_2pt_mock{}_recon_sm30_recsym_pkpoles_QSO_default_FKP_lin_nran18_cellsize6_boxsize10000_d0.001_results.json'\n",
    "    }\n",
    "}\n",
    "\n",
    "results = {}\n",
    "for tracer, all_results in results_fn.items():\n",
    "    results[tracer] = {}\n",
    "    for recon_status,fn in results_fn[tracer].items():\n",
    "        results[tracer][recon_status] = {}\n",
    "        alpha = []\n",
    "        sigma_alpha = []\n",
    "        chi2 = []\n",
    "        fn = results_fn[tracer][recon_status]\n",
    "        print(fn)\n",
    "        for i in range(1,25):\n",
    "            data = load_json_as_dict(fn.format(i))\n",
    "            alpha.append(data[\"param_values\"][12])\n",
    "            sigma_alpha.append(data[\"param_errors\"]['alpha'])\n",
    "            chi2.append(data['fmin'])\n",
    "        results[tracer][recon_status]['alpha'] = alpha\n",
    "        results[tracer][recon_status]['sigma_alpha'] = sigma_alpha\n",
    "        results[tracer][recon_status]['chi2'] = chi2"
   ]
  },
  {
   "cell_type": "code",
   "execution_count": null,
   "id": "a9276e88-3e7e-41a8-a5cd-0920878dee9e",
   "metadata": {},
   "outputs": [],
   "source": [
    "import matplotlib.pyplot as plt\n",
    "from matplotlib.gridspec import GridSpec\n",
    "\n",
    "# Create the figure and GridSpec\n",
    "fig = plt.figure(figsize=(12, 6))\n",
    "gs = GridSpec(2, 3, figure=fig, hspace=0.3, wspace=0.3)\n",
    "\n",
    "# Create axes using GridSpec\n",
    "ax = [\n",
    "    [fig.add_subplot(gs[0, 0]), fig.add_subplot(gs[0, 1]), fig.add_subplot(gs[0, 2])],\n",
    "    [fig.add_subplot(gs[1, 0]), fig.add_subplot(gs[1, 1]), fig.add_subplot(gs[1, 2])],]\n",
    "\n",
    "# Define the data keys and row indices for prerecon and recsym\n",
    "data_keys = ['chi2', 'alpha', 'sigma_alpha']\n",
    "row_data = {\n",
    "    0: results['LRG1']['prerecon'],  # First row: prerecon\n",
    "    1: results['LRG1']['recsym']     # Second row: recsym\n",
    "}\n",
    "\n",
    "# Plotting histograms\n",
    "for row, data in row_data.items():\n",
    "    for col, key in enumerate(data_keys):\n",
    "        if col == 0:\n",
    "            ax[row][col].hist(np.array(data[key])/545, color='green', bins = 10)\n",
    "        else:\n",
    "            ax[row][col].hist(data[key], color='green', bins = 10)\n",
    "\n",
    "# Adding grid and sharing x-axis\n",
    "for i in range(2):\n",
    "    for j in range(3):\n",
    "        #ax[i][j].grid(True)\n",
    "        if i == 1:  # Share x-axis between rows\n",
    "            ax[i][j].sharex(ax[0][j])\n",
    "        if j == 0:\n",
    "            ax[i][j].set_xlabel(r\"$\\chi^2$\")\n",
    "        if j == 1:\n",
    "            ax[i][j].set_xlabel(r\"$\\alpha$\")\n",
    "        if j == 2:\n",
    "            ax[i][j].set_xlabel(r\"$\\sigma(\\alpha)$\")\n",
    "            \n",
    "# Adding annotations\n",
    "ax[0][0].set_title('LRG1')\n",
    "ax[0][0].annotate('Prerecon', xy=(0.2, 0.9), xycoords='axes fraction', ha='center', fontsize=12)\n",
    "ax[1][0].annotate('Recsym', xy=(0.2, 0.9), xycoords='axes fraction', ha='center', fontsize=12)\n",
    "\n",
    "# Adjust layout\n",
    "plt.show()"
   ]
  },
  {
   "cell_type": "code",
   "execution_count": null,
   "id": "111d08dd-935f-45b4-b011-a4f025715e5c",
   "metadata": {},
   "outputs": [],
   "source": [
    "import matplotlib.pyplot as plt\n",
    "from matplotlib.gridspec import GridSpec\n",
    "\n",
    "# Create the figure and GridSpec\n",
    "fig = plt.figure(figsize=(12, 6))\n",
    "gs = GridSpec(2, 3, figure=fig, hspace=0.3, wspace=0.3)\n",
    "\n",
    "# Create axes using GridSpec\n",
    "ax = [\n",
    "    [fig.add_subplot(gs[0, 0]), fig.add_subplot(gs[0, 1]), fig.add_subplot(gs[0, 2])],\n",
    "    [fig.add_subplot(gs[1, 0]), fig.add_subplot(gs[1, 1]), fig.add_subplot(gs[1, 2])],]\n",
    "\n",
    "# Define the data keys and row indices for prerecon and recsym\n",
    "data_keys = ['chi2', 'alpha', 'sigma_alpha']\n",
    "row_data = {\n",
    "    0: results['LRG2']['prerecon'],  # First row: prerecon\n",
    "    1: results['LRG2']['recsym']     # Second row: recsym\n",
    "}\n",
    "\n",
    "# Plotting histograms\n",
    "for row, data in row_data.items():\n",
    "    for col, key in enumerate(data_keys):\n",
    "        if col == 0:\n",
    "            ax[row][col].hist(np.array(data[key])/545, color='blue', bins = 10)\n",
    "        else:\n",
    "            ax[row][col].hist(data[key], color='blue', bins = 10)\n",
    "\n",
    "# Adding grid and sharing x-axis\n",
    "for i in range(2):\n",
    "    for j in range(3):\n",
    "        #ax[i][j].grid(True)\n",
    "        if i == 1:  # Share x-axis between rows\n",
    "            ax[i][j].sharex(ax[0][j])\n",
    "        if j == 0:\n",
    "            ax[i][j].set_xlabel(r\"$\\chi^2$\")\n",
    "        if j == 1:\n",
    "            ax[i][j].set_xlabel(r\"$\\alpha$\")\n",
    "        if j == 2:\n",
    "            ax[i][j].set_xlabel(r\"$\\sigma(\\alpha)$\")\n",
    "            \n",
    "# Adding annotations\n",
    "ax[0][0].set_title('LRG2')\n",
    "ax[0][0].annotate('Prerecon', xy=(0.2, 0.9), xycoords='axes fraction', ha='center', fontsize=12)\n",
    "ax[1][0].annotate('Recsym', xy=(0.2, 0.9), xycoords='axes fraction', ha='center', fontsize=12)\n",
    "\n",
    "# Adjust layout\n",
    "plt.show()"
   ]
  },
  {
   "cell_type": "code",
   "execution_count": null,
   "id": "1d15cd96-a721-4c60-bd08-bca7c2ca9ac5",
   "metadata": {},
   "outputs": [],
   "source": [
    "import matplotlib.pyplot as plt\n",
    "from matplotlib.gridspec import GridSpec\n",
    "\n",
    "# Create the figure and GridSpec\n",
    "fig = plt.figure(figsize=(12, 6))\n",
    "gs = GridSpec(2, 3, figure=fig, hspace=0.3, wspace=0.3)\n",
    "\n",
    "# Create axes using GridSpec\n",
    "ax = [\n",
    "    [fig.add_subplot(gs[0, 0]), fig.add_subplot(gs[0, 1]), fig.add_subplot(gs[0, 2])],\n",
    "    [fig.add_subplot(gs[1, 0]), fig.add_subplot(gs[1, 1]), fig.add_subplot(gs[1, 2])],]\n",
    "\n",
    "# Define the data keys and row indices for prerecon and recsym\n",
    "data_keys = ['chi2', 'alpha', 'sigma_alpha']\n",
    "row_data = {\n",
    "    0: results['LRG3']['prerecon'],  # First row: prerecon\n",
    "    1: results['LRG3']['recsym']     # Second row: recsym\n",
    "}\n",
    "\n",
    "# Plotting histograms\n",
    "for row, data in row_data.items():\n",
    "    for col, key in enumerate(data_keys):\n",
    "        if col == 0:\n",
    "            ax[row][col].hist(np.array(data[key])/545, color='red', bins = 10)\n",
    "        else:\n",
    "            ax[row][col].hist(data[key], color='red', bins = 10)\n",
    "\n",
    "# Adding grid and sharing x-axis\n",
    "for i in range(2):\n",
    "    for j in range(3):\n",
    "        #ax[i][j].grid(True)\n",
    "        if i == 1:  # Share x-axis between rows\n",
    "            ax[i][j].sharex(ax[0][j])\n",
    "        if j == 0:\n",
    "            ax[i][j].set_xlabel(r\"$\\chi^2$\")\n",
    "        if j == 1:\n",
    "            ax[i][j].set_xlabel(r\"$\\alpha$\")\n",
    "        if j == 2:\n",
    "            ax[i][j].set_xlabel(r\"$\\sigma(\\alpha)$\")\n",
    "            \n",
    "# Adding annotations\n",
    "ax[0][0].set_title('LRG3')\n",
    "ax[0][0].annotate('Prerecon', xy=(0.2, 0.9), xycoords='axes fraction', ha='center', fontsize=12)\n",
    "ax[1][0].annotate('Recsym', xy=(0.2, 0.9), xycoords='axes fraction', ha='center', fontsize=12)\n",
    "#ax[1][2].vlines(0.00249*5,0,15,color = \"black\",lw = 3,ls='--')\n",
    "# Adjust layout\n",
    "plt.show()"
   ]
  },
  {
   "cell_type": "code",
   "execution_count": null,
   "id": "9db7bcb6-ebfd-4038-969e-821b6b0ad224",
   "metadata": {},
   "outputs": [],
   "source": [
    "import matplotlib.pyplot as plt\n",
    "from matplotlib.gridspec import GridSpec\n",
    "\n",
    "# Create the figure and GridSpec\n",
    "fig = plt.figure(figsize=(12, 6))\n",
    "gs = GridSpec(2, 3, figure=fig, hspace=0.3, wspace=0.3)\n",
    "\n",
    "# Create axes using GridSpec\n",
    "ax = [\n",
    "    [fig.add_subplot(gs[0, 0]), fig.add_subplot(gs[0, 1]), fig.add_subplot(gs[0, 2])],\n",
    "    [fig.add_subplot(gs[1, 0]), fig.add_subplot(gs[1, 1]), fig.add_subplot(gs[1, 2])],]\n",
    "\n",
    "# Define the data keys and row indices for prerecon and recsym\n",
    "data_keys = ['chi2', 'alpha', 'sigma_alpha']\n",
    "row_data = {\n",
    "    0: results['QSO']['prerecon'],  # First row: prerecon\n",
    "    1: results['QSO']['recsym']     # Second row: recsym\n",
    "}\n",
    "\n",
    "# Plotting histograms\n",
    "for row, data in row_data.items():\n",
    "    for col, key in enumerate(data_keys):\n",
    "        if col == 0:\n",
    "            ax[row][col].hist(np.array(data[key])/545, color='purple', bins = 10)\n",
    "        else:\n",
    "            ax[row][col].hist(data[key], color='purple', bins = 10)\n",
    "\n",
    "# Adding grid and sharing x-axis\n",
    "for i in range(2):\n",
    "    for j in range(3):\n",
    "        #ax[i][j].grid(True)\n",
    "        if i == 1:  # Share x-axis between rows\n",
    "            ax[i][j].sharex(ax[0][j])\n",
    "        if j == 0:\n",
    "            ax[i][j].set_xlabel(r\"$\\chi^2$\")\n",
    "        if j == 1:\n",
    "            ax[i][j].set_xlabel(r\"$\\alpha$\")\n",
    "        if j == 2:\n",
    "            ax[i][j].set_xlabel(r\"$\\sigma(\\alpha)$\")\n",
    "            \n",
    "# Adding annotations\n",
    "ax[0][0].set_title('QSO')\n",
    "ax[0][0].annotate('Prerecon', xy=(0.2, 0.9), xycoords='axes fraction', ha='center', fontsize=12)\n",
    "ax[1][0].annotate('Recsym', xy=(0.2, 0.9), xycoords='axes fraction', ha='center', fontsize=12)\n",
    "#ax[1][2].vlines(0.0049*5,0,15,color = \"black\",lw = 3,ls='--')\n",
    "#ax[1][2].set_ylim((0,10))\n",
    "# Adjust layout\n",
    "plt.show()"
   ]
  },
  {
   "cell_type": "code",
   "execution_count": null,
   "id": "e3f00c5f-b0de-4c9a-824f-26467b145877",
   "metadata": {},
   "outputs": [],
   "source": [
    "for t in ['LRG1','LRG2','LRG3','QSO']:\n",
    "    for r in ['prerecon','recsym']:\n",
    "        print(t,r)\n",
    "        print(np.mean(results[t][r]['alpha']), \"+-\", np.std(results[t][r]['alpha']))"
   ]
  }
 ],
 "metadata": {
  "kernelspec": {
   "display_name": "Python 3 (ipykernel)",
   "language": "python",
   "name": "python3"
  },
  "language_info": {
   "codemirror_mode": {
    "name": "ipython",
    "version": 3
   },
   "file_extension": ".py",
   "mimetype": "text/x-python",
   "name": "python",
   "nbconvert_exporter": "python",
   "pygments_lexer": "ipython3",
   "version": "3.11.8"
  }
 },
 "nbformat": 4,
 "nbformat_minor": 5
}
