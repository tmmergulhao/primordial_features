{
 "cells": [
  {
   "cell_type": "markdown",
   "id": "69c5a2b6-e044-48d0-b974-067252d204cb",
   "metadata": {},
   "source": [
    "# Importing Libraries"
   ]
  },
  {
   "cell_type": "markdown",
   "id": "ae6e942c-660d-40bb-9b39-a7ce9c63647a",
   "metadata": {},
   "source": [
    "We load a randoms catalogue and transform from ICRS to cartesian coordinates. After, we use it to estimate the survey window function."
   ]
  },
  {
   "cell_type": "code",
   "execution_count": null,
   "id": "37612721-d2d9-4eeb-821e-4392e0b5a494",
   "metadata": {},
   "outputs": [],
   "source": [
    "import numpy as np\n",
    "from astropy.io import fits\n",
    "from astropy.cosmology import FlatLambdaCDM\n",
    "from astropy.coordinates import SkyCoord\n",
    "import astropy.units as u\n",
    "import matplotlib.pyplot as plt"
   ]
  },
  {
   "cell_type": "markdown",
   "id": "a898a110-e0e3-4789-ac1d-e12b21080af9",
   "metadata": {},
   "source": [
    "# ICRS to NGC and SGC in cartesian coordinates"
   ]
  },
  {
   "cell_type": "markdown",
   "id": "1e432334-f6a5-40ef-8d4c-46d7ea790e38",
   "metadata": {},
   "source": [
    "We first define two function that are useful. The first one take an usual survey data as input and split it into NGC and SGC. The second is used to transform sky coordinates into cartesian coordinates, which are used for power spectrum estimations:"
   ]
  },
  {
   "cell_type": "code",
   "execution_count": null,
   "id": "fbae18ee-073c-4e87-84b3-5031f3e12081",
   "metadata": {},
   "outputs": [],
   "source": [
    "def GalacticCapSplit(data, cosmo):\n",
    "    # Convert to Galactic coordinates using astropy\n",
    "    coords = SkyCoord(ra=data['RA']*u.degree, dec=data['DEC']*u.degree, frame='icrs')\n",
    "    galactic_coords = coords.galactic\n",
    "    \n",
    "    # Split the data into NGC and SGC using Galactic latitude (b)\n",
    "    ngc_mask = galactic_coords.b.deg > 0  # NGC: b > 0\n",
    "    sgc_mask = galactic_coords.b.deg < 0  # SGC: b < 0\n",
    "\n",
    "    return data[ngc_mask], data[sgc_mask]\n",
    "\n",
    "def sky_to_cartesian(data, cosmo):\n",
    "    ra = data['RA']\n",
    "    dec = data['DEC']\n",
    "    z = data['Z']\n",
    "    \n",
    "    # Convert to Cartesian coordinates\n",
    "    ra_rad = np.deg2rad(ra)\n",
    "    dec_rad = np.deg2rad(dec)\n",
    "    comoving_distance = cosmo.comoving_distance(z).value  # in Mpc\n",
    "    \n",
    "    x = comoving_distance * np.cos(dec_rad) * np.cos(ra_rad)\n",
    "    y = comoving_distance * np.cos(dec_rad) * np.sin(ra_rad)\n",
    "    z = comoving_distance * np.sin(dec_rad)\n",
    "    \n",
    "    return [x,y,z]\n",
    "\n",
    "def ReadFits(fn):\n",
    "    with fits.open(fn) as hdul:\n",
    "        # Assuming the data is in the first extension (index 1)\n",
    "        data = hdul[1].data\n",
    "    return data"
   ]
  },
  {
   "cell_type": "code",
   "execution_count": null,
   "id": "6110a8fe-d3c5-4721-b935-1d305a409204",
   "metadata": {},
   "outputs": [],
   "source": [
    "# Path to your FITS file\n",
    "file_path = 'data/DESI/QSO/catalogues/'\n",
    "fn_random = 'QSO_ffa_NGC_0_clustering.ran.fits'\n",
    "fn_data = 'QSO_ffa_NGC_clustering.dat.fits'\n",
    "\n",
    "# Specify the cosmology. Using the DESI cosmology\n",
    "cosmo = FlatLambdaCDM(H0=67.36, Om0=0.3137721026737606)"
   ]
  },
  {
   "cell_type": "code",
   "execution_count": null,
   "id": "ee761449-52f7-4980-aa0d-711379d95f29",
   "metadata": {},
   "outputs": [],
   "source": [
    "#read the files\n",
    "randoms = ReadFits(file_path+fn_random)\n",
    "data = ReadFits(file_path+fn_data)\n",
    "\n",
    "\n",
    "#Split each into NGC and SGC\n",
    "randoms_NGC,randoms_SGC = GalacticCapSplit(randoms, cosmo)\n",
    "data_NGC,data_SGC = GalacticCapSplit(data, cosmo)\n",
    "\n",
    "#Delete the original\n",
    "del(randoms,data)"
   ]
  },
  {
   "cell_type": "markdown",
   "id": "97cdf665-6327-4b90-b1d2-24ac2afc80f9",
   "metadata": {},
   "source": [
    "The catalogues we loaded in this example were already splitted into NGC and SGC, and we are using the former so the resulting SGC should be empty:"
   ]
  },
  {
   "cell_type": "code",
   "execution_count": null,
   "id": "04556a7f-2a44-4b8c-af26-18d239bb74d0",
   "metadata": {},
   "outputs": [],
   "source": [
    "data_SGC"
   ]
  },
  {
   "cell_type": "code",
   "execution_count": null,
   "id": "86c5ebdd-3b02-481c-b287-c033f6853384",
   "metadata": {},
   "outputs": [],
   "source": [
    "data_NGC_positions = sky_to_cartesian(data_NGC,cosmo)"
   ]
  },
  {
   "cell_type": "code",
   "execution_count": null,
   "id": "7ccfee80-6f35-4b44-8124-9140d199aaa5",
   "metadata": {},
   "outputs": [],
   "source": [
    "randoms_NGC_positions = sky_to_cartesian(randoms_NGC,cosmo)"
   ]
  },
  {
   "cell_type": "code",
   "execution_count": null,
   "id": "030e6830-0f06-4431-a389-272b471c7068",
   "metadata": {},
   "outputs": [],
   "source": [
    "randoms_NGC_weights = randoms_NGC['Weight']"
   ]
  },
  {
   "cell_type": "code",
   "execution_count": null,
   "id": "3680e55f-04ed-4576-b40c-6d4333643bae",
   "metadata": {},
   "outputs": [],
   "source": [
    "data_NGC_weights = data_NGC['Weight']"
   ]
  },
  {
   "cell_type": "markdown",
   "id": "466666d5-be16-4f50-9be5-5a13f0f876c7",
   "metadata": {},
   "source": [
    "# Estimating data power spectrum"
   ]
  },
  {
   "cell_type": "code",
   "execution_count": null,
   "id": "cf91e77b-b2fc-4b41-84f3-da3845f062bb",
   "metadata": {
    "scrolled": true
   },
   "outputs": [],
   "source": [
    "results = CatalogFFTPower(data_positions1=data_NGC_positions, data_weights1=data_NGC_weights, randoms_positions1=randoms_NGC_positions, randoms_weights1=randoms_NGC_weights,\n",
    "                        nmesh=Nmesh, resampler='tsc', boxsize = L, interlacing=2, ells=(0,2,4), los='firstpoint', edges=kedges, position_type='xyz', dtype='f8',mpiroot=0)"
   ]
  },
  {
   "cell_type": "code",
   "execution_count": null,
   "id": "739a8dee-82d2-4ab1-8e41-006863803f96",
   "metadata": {},
   "outputs": [],
   "source": [
    "result.poles.save('test.npy')"
   ]
  },
  {
   "cell_type": "code",
   "execution_count": null,
   "id": "74e168af-bb15-416c-8de4-5df69edcb93c",
   "metadata": {},
   "outputs": [],
   "source": [
    "k1, p0_1 = results_1.poles(ell=0, complex = False, return_k = True)\n",
    "k2, p0_2 = results_2.poles(ell=0, complex = False, return_k = True)"
   ]
  },
  {
   "cell_type": "code",
   "execution_count": null,
   "id": "724b4655-f171-4ba1-8feb-ea392bd99bab",
   "metadata": {},
   "outputs": [],
   "source": [
    "plt.plot(k2, k2*p0_2)\n",
    "plt.plot(k1, k1*p0_1)"
   ]
  },
  {
   "cell_type": "code",
   "execution_count": null,
   "id": "063367d6-2989-4c63-a777-d472b1a33ebb",
   "metadata": {},
   "outputs": [],
   "source": []
  }
 ],
 "metadata": {
  "kernelspec": {
   "display_name": "nbodykit-env",
   "language": "python",
   "name": "nbodykit-env"
  },
  "language_info": {
   "codemirror_mode": {
    "name": "ipython",
    "version": 3
   },
   "file_extension": ".py",
   "mimetype": "text/x-python",
   "name": "python",
   "nbconvert_exporter": "python",
   "pygments_lexer": "ipython3",
   "version": "3.8.12"
  }
 },
 "nbformat": 4,
 "nbformat_minor": 5
}
