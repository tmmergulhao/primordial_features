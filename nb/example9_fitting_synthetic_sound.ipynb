{
 "cells": [
  {
   "cell_type": "markdown",
   "id": "5bab2390-47c3-4b0c-9f68-495aa84e8d2c",
   "metadata": {},
   "source": [
    "# Importing libraries"
   ]
  },
  {
   "cell_type": "code",
   "execution_count": 1,
   "id": "aed285ce-8ea5-448d-b007-5858dfc9e4c0",
   "metadata": {},
   "outputs": [],
   "source": [
    "import sys\n",
    "from tqdm import tqdm   \n",
    "import numpy as np\n",
    "from iminuit import Minuit\n",
    "import json"
   ]
  },
  {
   "cell_type": "code",
   "execution_count": null,
   "id": "5de24cae",
   "metadata": {},
   "outputs": [],
   "source": [
    "sys.argv = [\n",
    "    'main.py',\n",
    "    '--data_env', 'envs/DATA/DESI_QSO_Y1.env',\n",
    "    '--sampler_env', 'envs/sampler/sound_singlepol.env',\n",
    "    '--mock', '5',\n",
    "    '--machine', 'MAC',\n",
    "    '--reconstruction', 'False',\n",
    "    '--omega_min', '100',\n",
    "    '--omega_max', '500',\n",
    "    '--EZMOCK', 'False',\n",
    "    '--debug', 'True',\n",
    "]\n",
    "\n",
    "from main import *  # Replace with the name of your script file (without .py)"
   ]
  },
  {
   "cell_type": "code",
   "execution_count": 34,
   "id": "a5d90de8",
   "metadata": {},
   "outputs": [],
   "source": [
    "omega = 200\n",
    "log_beta = 6\n",
    "A = -0.5\n",
    "N = 2*len(k)\n",
    "\n",
    "PF_guess = np.array([3,2.8,0,0,0,0,0,1,5,3,A,omega,log_beta])\n",
    "BAO_guess = np.array([3,2.8,0,0,0,0,0,1,5,3,0,1,0])\n",
    "\n",
    "# Inject noise into BAO and PF data\n",
    "noise_BAO = np.random.multivariate_normal(mean=np.zeros(N), cov=COV)\n",
    "noise_PF = np.random.multivariate_normal(mean=np.zeros(N), cov=COV)\n",
    "\n",
    "data_BAO_bare = theory(BAO_guess)\n",
    "data_PF_bare = theory(PF_guess)\n",
    "\n",
    "data_BAO = data_BAO_bare + noise_BAO\n",
    "data_PF = data_PF_bare + noise_PF\n",
    "\n",
    "\n",
    "mcmc.set_gelman_rubin({\n",
    "    \"N\":1,\n",
    "    \"epsilon\":10,\n",
    "    \"min_length\":3000,\n",
    "    \"convergence_steps\":10\n",
    "})\n",
    "fn_wf_ngc = None\n",
    "fn_wf_sgc = None"
   ]
  },
  {
   "cell_type": "code",
   "execution_count": null,
   "id": "48fbef11",
   "metadata": {},
   "outputs": [],
   "source": [
    "handle_final = 'noiseless_synthetic_'+handle\n",
    "PrimordialFeature_likelihood.set_data(data_PF_bare)\n",
    "mcmc.run(handle_final, 1, initial_positions, logposterior, gelman_rubin=True, new=True, plots=True)\n",
    "\n",
    "handle_final = 'noisy_synthetic_'+handle\n",
    "PrimordialFeature_likelihood.set_data(data_PF)\n",
    "mcmc.run(handle_final, 1, initial_positions, logposterior, gelman_rubin=True, new=True, plots=True)\n",
    "\n",
    "handle_final = 'noiseless_BAO_'+handle\n",
    "PrimordialFeature_likelihood.set_data(data_BAO_bare)\n",
    "mcmc.run(handle_final, 1, initial_positions, logposterior, gelman_rubin=True, new=True, plots=True)\n",
    "\n",
    "handle_final = 'noisy_BAO_'+handle\n",
    "PrimordialFeature_likelihood.set_data(data_BAO)\n",
    "mcmc.run(handle_final, 1, initial_positions, logposterior, gelman_rubin=True, new=True, plots=True)"
   ]
  },
  {
   "cell_type": "code",
   "execution_count": null,
   "id": "88b9f8a3",
   "metadata": {},
   "outputs": [],
   "source": [
    "mcmc.run(handle, 1, initial_positions, logposterior, gelman_rubin=True, new=True, plots=True)"
   ]
  },
  {
   "cell_type": "code",
   "execution_count": 2,
   "id": "9f2e233c",
   "metadata": {},
   "outputs": [],
   "source": [
    "import h5py as h5\n",
    "from getdist import plots, MCSamples\n",
    "%matplotlib inline\n",
    "\n",
    "import matplotlib as mpl\n",
    "# Define global rcParams settings\n",
    "mpl.rcParams.update({\n",
    "    # TICK SETTINGS\n",
    "    'xtick.direction': 'inout',\n",
    "    'ytick.direction': 'inout',\n",
    "    'xtick.major.size': 4,      # major tick size in points\n",
    "    'xtick.major.width': 1,     # major tick width in points\n",
    "    'ytick.major.size': 4,      # major tick size in points\n",
    "    'ytick.major.width': 1,     # major tick width in points\n",
    "\n",
    "    # GRID SETTINGS\n",
    "    'axes.grid': True,\n",
    "    'grid.color': 'grey',\n",
    "    'grid.linestyle': '-',\n",
    "    'grid.linewidth': 0.7,\n",
    "    'grid.alpha': 0.2,\n",
    "\n",
    "    # LEGEND SETTINGS\n",
    "    'legend.fancybox': True,\n",
    "    'legend.facecolor': 'white',\n",
    "    'legend.framealpha': 0.5,\n",
    "    'legend.edgecolor': 'grey',\n",
    "\n",
    "    # FIGURE & SUBPLOT SETTINGS\n",
    "    'figure.autolayout': False,\n",
    "    'figure.frameon': True,\n",
    "    'figure.subplot.left': 0.08,\n",
    "    'figure.subplot.right': 0.96,\n",
    "\n",
    "    # LINE SETTINGS\n",
    "    'lines.linewidth': 1.5,\n",
    "\n",
    "    # AXES SETTINGS\n",
    "    'axes.facecolor': 'white',\n",
    "    'axes.edgecolor': 'black',\n",
    "    'axes.formatter.use_mathtext': True,  # use math text for scientific notation\n",
    "    'axes.linewidth': 1.0,\n",
    "    'axes.labelcolor': 'black',\n",
    "    'axes.labelsize': 16,\n",
    "\n",
    "    # FONT SETTINGS\n",
    "    'font.family': 'serif',\n",
    "    'font.size': 13,\n",
    "\n",
    "    # TEXT SETTINGS\n",
    "    'text.color': 'k',\n",
    "    'text.usetex': False,\n",
    "\n",
    "    # MATHTEXT SETTINGS\n",
    "    'mathtext.cal': 'cursive',\n",
    "    'mathtext.rm': 'serif',\n",
    "    'mathtext.tt': 'monospace',\n",
    "    'mathtext.it': 'serif:italic',\n",
    "    'mathtext.bf': 'serif:italic:bold',\n",
    "    'mathtext.sf': 'sans_serif',\n",
    "    'mathtext.fontset': 'dejavusans',\n",
    "})\n",
    "\n",
    "tracer_colors = tracer_colors = {\n",
    "    'DESI_Y1_LRG1': 'orange',\n",
    "    'DESI_Y1_LRG2': 'orangered',\n",
    "    'DESI_Y1_LRG3': 'firebrick',\n",
    "    'DESI_Y1_QSO':  'seagreen',\n",
    "    'DESI_Y1_ELG1': 'skyblue',\n",
    "    'DESI_Y1_ELG2': 'steelblue'\n",
    "}"
   ]
  },
  {
   "cell_type": "code",
   "execution_count": 3,
   "id": "7f2861e7",
   "metadata": {},
   "outputs": [],
   "source": [
    "# Define files\n",
    "files_lowz = [\n",
    "    '/Users/s2223060/Desktop/primordial_features/chains/BOSS_lowz/DATA/CPSC_singlepol/13.7_17.7/DATA_POST_BOSS_lowz_CPSC_singlepol_13.7_17.7_combined.h5',\n",
    "    '/Users/s2223060/Desktop/primordial_features/chains/BOSS_lowz/DATA/CPSC_singlepol/17.7_20.0/DATA_POST_BOSS_lowz_CPSC_singlepol_17.7_20.0_combined.h5'\n",
    "]\n",
    "\n",
    "files_highz = [\n",
    "    '/Users/s2223060/Desktop/primordial_features/chains/BOSS_highz/DATA/CPSC_singlepol/13.7_17.7/DATA_POST_BOSS_highz_CPSC_singlepol_13.7_17.7_combined.h5',\n",
    "    '/Users/s2223060/Desktop/primordial_features/chains/BOSS_highz/DATA/CPSC_singlepol/17.7_20.0/DATA_POST_BOSS_highz_CPSC_singlepol_17.7_20.0_combined.h5'\n",
    "]\n",
    "\n",
    "def load_results(files):\n",
    "    # Load and concatenate chains\n",
    "    chains = []\n",
    "    logprobs = []\n",
    "\n",
    "    for f in files:\n",
    "        with h5.File(f, 'r') as file:\n",
    "            chains.append(file['chain'][:])\n",
    "            logprobs.append(file['logprob'][:])\n",
    "\n",
    "    combined_chain = np.concatenate(chains, axis=0)\n",
    "    combined_chain = combined_chain.reshape(-1, combined_chain.shape[-1])\n",
    "    combined_chain[:,-2] = 0.135036080469101E+002 - combined_chain[:,-2]\n",
    "    combined_logprob = np.concatenate(logprobs, axis=0)\n",
    "    combined_logprob = combined_logprob.flatten()\n",
    "    return combined_chain, combined_logprob\n"
   ]
  },
  {
   "cell_type": "code",
   "execution_count": 10,
   "id": "123397ed",
   "metadata": {},
   "outputs": [],
   "source": [
    "import numpy as np\n",
    "from scipy.stats import gaussian_kde"
   ]
  },
  {
   "cell_type": "code",
   "execution_count": 11,
   "id": "7b5b1bcb",
   "metadata": {},
   "outputs": [],
   "source": [
    "chain_lowz, logprob_lowz = load_results(files_lowz)\n",
    "chain_highz, logprob_highz = load_results(files_highz)"
   ]
  },
  {
   "cell_type": "code",
   "execution_count": 12,
   "id": "c0b5292f",
   "metadata": {},
   "outputs": [],
   "source": [
    "weight_highz = np.load('weight_highz.npy')"
   ]
  },
  {
   "cell_type": "code",
   "execution_count": 13,
   "id": "4920facd",
   "metadata": {},
   "outputs": [
    {
     "data": {
      "text/plain": [
       "(1072500,)"
      ]
     },
     "execution_count": 13,
     "metadata": {},
     "output_type": "execute_result"
    }
   ],
   "source": [
    "weight_highz.shape"
   ]
  },
  {
   "cell_type": "code",
   "execution_count": 14,
   "id": "4530f677",
   "metadata": {},
   "outputs": [
    {
     "data": {
      "text/plain": [
       "(1072500, 13)"
      ]
     },
     "execution_count": 14,
     "metadata": {},
     "output_type": "execute_result"
    }
   ],
   "source": [
    "chain_highz.shape"
   ]
  },
  {
   "cell_type": "code",
   "execution_count": 16,
   "id": "01519211",
   "metadata": {},
   "outputs": [
    {
     "name": "stdout",
     "output_type": "stream",
     "text": [
      "Removed no burn in\n"
     ]
    }
   ],
   "source": [
    "# Parameter names and labels\n",
    "names = [\"BNGC\", \"BSGC\", \"a0\", \"a1\", \"a2\", \"a3\", \"a4\", \"alpha\", \"sigma_nl\", \"sigma_s\", \"A\", \"omega\", \"log_beta\"]\n",
    "labels = [r'B_{\\rm NGC}', r'B_{\\rm SGC}', r\"a_0\", r\"a_1\", r\"a_2\", r\"a_3\", r\"a_4\", r\"\\alpha\",r\"\\Sigma_{\\rm nl}\",r\"\\Sigma_s\", r\"dP\", r\"N_* - N_0\",r\"\\log_{10} \\frac{\\omega}{H}\"]\n",
    "\n",
    "# Create combined MCSamples object\n",
    "samples = MCSamples(\n",
    "    samples=chain_highz,\n",
    "    weights=weight_highz,\n",
    "    names=names,\n",
    "    labels=labels,\n",
    "    settings={'contours': [0.68, 0.95],'smooth_scale_2D': 0.01},\n",
    "    ranges = {'log_beta':[-0.1,2.1],'A':[0,0.5],'omega':[-7,0]}\n",
    ")\n",
    "\n",
    "# Best-fit point\n",
    "#best_idx = np.argmax(combined_logprob)\n",
    "#best_fit = combined_chain[best_idx]\n",
    "#best_fit_dict = dict(zip(names, best_fit))\n",
    "\n",
    "#print(f\"Best-fit As: {best_fit_dict['A']:.5f}\")\n",
    "#print(f\"Best-fit omega: {best_fit_dict['omega']:.5f}\")"
   ]
  },
  {
   "cell_type": "code",
   "execution_count": 17,
   "id": "72a39257",
   "metadata": {},
   "outputs": [],
   "source": [
    "best_fit_planck_dit = {'A':0.02346,'omega':-2.49639,'log_beta':1.25511}"
   ]
  },
  {
   "cell_type": "code",
   "execution_count": 28,
   "id": "2125981a",
   "metadata": {},
   "outputs": [
    {
     "name": "stderr",
     "output_type": "stream",
     "text": [
      "WARNING:root:auto bandwidth for A very small or failed (h=0.0006805093001242646,N_eff=48388.388039261285). Using fallback (h=0.005224219924072241)\n",
      "WARNING:root:auto bandwidth for omega very small or failed (h=0.0005375846122436869,N_eff=48388.388039261285). Using fallback (h=0.003567994178475035)\n",
      "WARNING:root:auto bandwidth for log_beta very small or failed (h=0.0006638230607138361,N_eff=48388.388039261285). Using fallback (h=0.03103226955331231)\n",
      "WARNING:root:fine_bins_2D not large enough for optimal density: A, omega\n",
      "WARNING:root:fine_bins_2D not large enough for optimal density: A, log_beta\n",
      "WARNING:root:fine_bins_2D not large enough for optimal density: omega, log_beta\n"
     ]
    },
    {
     "data": {
      "text/plain": [
       "<Figure size 600x450 with 0 Axes>"
      ]
     },
     "metadata": {},
     "output_type": "display_data"
    },
    {
     "data": {
      "image/png": "[encoded data removed]",
      "text/plain": [
       "<Figure size 600x450 with 6 Axes>"
      ]
     },
     "metadata": {},
     "output_type": "display_data"
    }
   ],
   "source": [
    "g1 = plots.get_single_plotter(width_inch=6)\n",
    "g1.triangle_plot(\n",
    "    samples,\n",
    "    ['A', 'omega','log_beta'],\n",
    "    line_args=[{'ls':'-', 'color':'red'}],\n",
    "    contour_args=[{'ls':'-', 'color':'red'}],\n",
    "    markers={k: best_fit_planck_dit[k] for k in ['omega','A','log_beta']},\n",
    "    marker_args={'lw': 0.5, 'color':'black'},filled = True\n",
    ")\n",
    "g1.add_text(r'BOSS combined',-1.74,2.825, font = 'serif',fontsize = 10)\n",
    "#g1.add_text('BAO ',-1.95,2.7, font = 'serif',fontsize = 10)\n",
    "g1.export('CPSC_BOSS_combined.pdf')"
   ]
  },
  {
   "cell_type": "markdown",
   "id": "2805707d",
   "metadata": {},
   "source": [
    "# Binning the posteriors"
   ]
  },
  {
   "cell_type": "code",
   "execution_count": 36,
   "id": "03943493",
   "metadata": {},
   "outputs": [],
   "source": [
    "# Define files\n",
    "files = {\n",
    "    \"noiseless_BAO\":'/Users/s2223060/Desktop/primordial_features/chains/DESI_Y1_QSO/MOCK_5/sound_singlepol/100.0_500.0/noiseless_BAO_MOCK_5_PRE_DESI_QSO_Y1_sound_singlepol_100.0_500.0_Run_0.h5',\n",
    "    \"noisy_BAO\":'/Users/s2223060/Desktop/primordial_features/chains/DESI_Y1_QSO/MOCK_5/sound_singlepol/100.0_500.0/noisy_BAO_MOCK_5_PRE_DESI_QSO_Y1_sound_singlepol_100.0_500.0_Run_0.h5',\n",
    "    \"noiseless_PF\":'/Users/s2223060/Desktop/primordial_features/chains/DESI_Y1_QSO/MOCK_5/sound_singlepol/100.0_500.0/noiseless_synthetic_MOCK_5_PRE_DESI_QSO_Y1_sound_singlepol_100.0_500.0_Run_0.h5',\n",
    "    \"noisy_PF\":'/Users/s2223060/Desktop/primordial_features/chains/DESI_Y1_QSO/MOCK_5/sound_singlepol/100.0_500.0/noisy_synthetic_MOCK_5_PRE_DESI_QSO_Y1_sound_singlepol_100.0_500.0_Run_0.h5',\n",
    "}\n",
    "\n",
    "chains = {}\n",
    "\n",
    "for key, f in files.items():\n",
    "    with h5.File(f, 'r') as file:\n",
    "        chains[key] = file['mcmc']['chain'][:]"
   ]
  },
  {
   "cell_type": "code",
   "execution_count": 37,
   "id": "73aeeb8e",
   "metadata": {},
   "outputs": [],
   "source": [
    "freq_edges = np.arange(100, 520, 20)  # edges for binning\n",
    "freq_centers = 0.5 * (freq_edges[:-1] + freq_edges[1:])\n",
    "\n",
    "# Prepare storage for results\n",
    "results = {}\n",
    "\n",
    "for key, chain in chains.items():\n",
    "    freq_vals = chain[..., -2]  # frequency values\n",
    "    param_m3 = chain[..., -3]\n",
    "    param_m1 = chain[..., -1]\n",
    "\n",
    "    mean_m3 = []\n",
    "    std_m3 = []\n",
    "    mean_m1 = []\n",
    "    std_m1 = []\n",
    "\n",
    "    # Loop through bins\n",
    "    for low, high in zip(freq_edges[:-1], freq_edges[1:]):\n",
    "        mask = (freq_vals >= low) & (freq_vals < high)\n",
    "        selected_m3 = param_m3[mask]\n",
    "        selected_m1 = param_m1[mask]\n",
    "\n",
    "        mean_m3.append(np.mean(selected_m3) if len(selected_m3) > 0 else np.nan)\n",
    "        std_m3.append(np.std(selected_m3) if len(selected_m3) > 0 else np.nan)\n",
    "        mean_m1.append(np.mean(selected_m1) if len(selected_m1) > 0 else np.nan)\n",
    "        std_m1.append(np.std(selected_m1) if len(selected_m1) > 0 else np.nan)\n",
    "\n",
    "    results[key] = {\n",
    "        'freq_centers': freq_centers,\n",
    "        'mean_m3': np.array(mean_m3),\n",
    "        'std_m3': np.array(std_m3),\n",
    "        'mean_m1': np.array(mean_m1),\n",
    "        'std_m1': np.array(std_m1),\n",
    "    }"
   ]
  },
  {
   "cell_type": "code",
   "execution_count": null,
   "id": "d790709c",
   "metadata": {},
   "outputs": [],
   "source": [
    "for x in results.keys():\n",
    "    plt.figure()\n",
    "    plt.errorbar(results[x]['freq_centers'],results[x]['mean_m3'],yerr = results[x]['std_m3'])\n",
    "    plt.title(x)\n",
    "\n",
    "    plt.figure()\n",
    "    plt.errorbar(results[x]['freq_centers'],results[x]['mean_m1'],yerr = results[x]['std_m1'])\n"
   ]
  },
  {
   "cell_type": "code",
   "execution_count": null,
   "id": "24908461",
   "metadata": {},
   "outputs": [],
   "source": []
  }
 ],
 "metadata": {
  "kernelspec": {
   "display_name": "velo-env",
   "language": "python",
   "name": "python3"
  },
  "language_info": {
   "codemirror_mode": {
    "name": "ipython",
    "version": 3
   },
   "file_extension": ".py",
   "mimetype": "text/x-python",
   "name": "python",
   "nbconvert_exporter": "python",
   "pygments_lexer": "ipython3",
   "version": "3.11.11"
  }
 },
 "nbformat": 4,
 "nbformat_minor": 5
}
