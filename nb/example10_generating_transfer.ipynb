{
 "cells": [
  {
   "cell_type": "markdown",
   "metadata": {},
   "source": [
    "# Importing libraries"
   ]
  },
  {
   "cell_type": "code",
   "execution_count": 1,
   "metadata": {},
   "outputs": [],
   "source": [
    "import camb\n",
    "from camb import model\n",
    "import numpy as np\n",
    "import matplotlib.pyplot as plt\n",
    "from scipy.interpolate import UnivariateSpline\n",
    "import time\n",
    "from velocileptors.LPT.lpt_rsd_fftw import LPT_RSD"
   ]
  },
  {
   "cell_type": "code",
   "execution_count": 2,
   "metadata": {},
   "outputs": [],
   "source": [
    "param_ini_dict = {#'LRG1':'/Users/s2223060/Desktop/primordial_features/cosmologies/desi_params_LRG1.ini',\n",
    "          #'LRG2':'/Users/s2223060/Desktop/primordial_features/cosmologies/desi_params_LRG2.ini',\n",
    "          #'LRG3':'/Users/s2223060/Desktop/primordial_features/cosmologies/desi_params_LRG3_ELG1.ini',\n",
    "          #'ELG1':'/Users/s2223060/Desktop/primordial_features/cosmologies/desi_params_LRG3_ELG1.ini',\n",
    "          #'ELG2':'/Users/s2223060/Desktop/primordial_features/cosmologies/desi_params_ELG2.ini',\n",
    "          'QSO':'/Users/s2223060/Desktop/primordial_features/cosmologies/desi_params_QSO.ini',}\n",
    "out_path = '/Users/s2223060/Desktop/primordial_features/cosmologies/transfer_function/'"
   ]
  },
  {
   "cell_type": "code",
   "execution_count": 10,
   "metadata": {},
   "outputs": [],
   "source": [
    "#for t in param_ini_dict.keys():\n",
    "t = 'QSO'\n",
    "# Load the parameters from the ini file\n",
    "param_ini = param_ini_dict[t]\n",
    "pars = camb.read_ini(param_ini)\n",
    "\n",
    "#Get the cosmological parameters\n",
    "H0 = pars.H0\n",
    "h = pars.H0/100\n",
    "ombh2 = pars.ombh2\n",
    "omch2 = pars.omch2\n",
    "ns = pars.InitPower.ns\n",
    "As = pars.InitPower.As\n",
    "pivot = pars.InitPower.pivot_scalar\n",
    "\n",
    "results = camb.get_results(pars)\n",
    "trans = results.get_matter_transfer_data()\n",
    "kh = trans.transfer_data[0,:,0]\n",
    "k = kh*h #[1/Mpc]\n",
    "\n",
    "#build plin using the transfer function\n",
    "transfer = trans.transfer_data[model.Transfer_tot-1,:,0]\n",
    "primordial_PK = results.Params.scalar_power(k)\n",
    "matter_power = primordial_PK*transfer**2*k**4 / (k**3/(2*np.pi**2))*h**3\n"
   ]
  },
  {
   "cell_type": "code",
   "execution_count": 26,
   "metadata": {},
   "outputs": [],
   "source": [
    "#build plin using the transfer function\n",
    "transfer = trans.transfer_data[model.Transfer_tot-1,:,0]\n",
    "primordial_PK = results.Params.scalar_power(k)\n",
    "matter_power = primordial_PK*transfer**2*k**4 / (k**3/(2*np.pi**2))*h**3\n",
    "\n",
    "#compare with CAMB's explicit output for the matter power spectrum\n",
    "kh2,zs,PK = results.get_linear_matter_power_spectrum()"
   ]
  },
  {
   "cell_type": "code",
   "execution_count": 27,
   "metadata": {},
   "outputs": [
    {
     "data": {
      "text/plain": [
       "[<matplotlib.lines.Line2D at 0x1783d5410>]"
      ]
     },
     "execution_count": 27,
     "metadata": {},
     "output_type": "execute_result"
    },
    {
     "data": {
      "image/png": "[encoded data removed]",
      "text/plain": [
       "<Figure size 640x480 with 1 Axes>"
      ]
     },
     "metadata": {},
     "output_type": "display_data"
    }
   ],
   "source": [
    "plt.figure()\n",
    "plt.loglog(kh, matter_power)\n",
    "plt.loglog(kh2, PK[0])"
   ]
  },
  {
   "cell_type": "code",
   "execution_count": 28,
   "metadata": {},
   "outputs": [
    {
     "name": "stdout",
     "output_type": "stream",
     "text": [
      "{'QSO': array(0.92980068), 'LRG1': array(0.7630154), 'LRG2': array(0.81813049), 'LRG3': array(0.86408766), 'ELG1': array(0.86408766), 'ELG2': array(0.91477001)}\n",
      "{'QSO': array(0.93476011), 'LRG1': array(0.74638097), 'LRG2': array(0.79801665), 'LRG3': array(0.84780707), 'ELG1': array(0.84780707), 'ELG2': array(0.91304592)}\n"
     ]
    }
   ],
   "source": [
    "#Get the evolution\n",
    "z = np.linspace(0, 5, 51)   # or whatever you used for f(z)\n",
    "ev = results.get_redshift_evolution([1e-5], z, vars=['growth'])\n",
    "growth = ev[0,:,0] #growth factor\n",
    "growth = growth / growth[-1] #normalize to z=0\n",
    "Omega_m0 = (ombh2 + omch2) / h**2\n",
    "Hz = H0 * np.sqrt(Omega_m0*(1+z)**3 + (1.0 - Omega_m0))\n",
    "E2 = (Hz / H0)**2\n",
    "Omega_m_z = Omega_m0 * (1+z)**3 / E2\n",
    "omega_m_055 = Omega_m_z**0.55\n",
    "\n",
    "z_tracers = {'QSO':1.491,\n",
    "            'LRG1':0.510,\n",
    "            'LRG2':0.706, \n",
    "            'LRG3':0.930,\n",
    "            'ELG1':0.930,\n",
    "            'ELG2':1.317,\n",
    "            }\n",
    "\n",
    "f_z_func = UnivariateSpline(z, omega_m_055, s=0)\n",
    "transfer_func = UnivariateSpline(k,transfer)\n",
    "growth_func = UnivariateSpline(z, growth)\n",
    "\n",
    "fz_tracers = {x:f_z_func(z_tracers[x]) for x in z_tracers.keys()}\n",
    "D_tracers = {x:growth_func(z_tracers[x]) for x in z_tracers.keys()}\n",
    "\n",
    "print(fz_tracers)\n",
    "print(D_tracers)\n",
    "np.savetxt(out_path+t+'_transfer.txt', np.array([k, transfer]).T, header='k [1/Mpc] transfer [physical units]', fmt='%10.5e')"
   ]
  },
  {
   "cell_type": "code",
   "execution_count": null,
   "metadata": {},
   "outputs": [],
   "source": [
    "transfer = trans.transfer_data[model.Transfer_tot-1,:,0]\n",
    "primordial_PK = results.Params.scalar_power(k)\n",
    "matter_power = primordial_PK*transfer**2*k**4 / (k**3/(2*np.pi**2))\n",
    "plt.figure()\n",
    "plt.loglog(kh, matter_power)\n"
   ]
  },
  {
   "cell_type": "code",
   "execution_count": null,
   "metadata": {},
   "outputs": [],
   "source": [
    "np.max(k)"
   ]
  },
  {
   "cell_type": "code",
   "execution_count": null,
   "metadata": {},
   "outputs": [],
   "source": [
    "pars.h"
   ]
  }
 ],
 "metadata": {
  "kernelspec": {
   "display_name": "velo-env",
   "language": "python",
   "name": "python3"
  },
  "language_info": {
   "codemirror_mode": {
    "name": "ipython",
    "version": 3
   },
   "file_extension": ".py",
   "mimetype": "text/x-python",
   "name": "python",
   "nbconvert_exporter": "python",
   "pygments_lexer": "ipython3",
   "version": "3.11.11"
  }
 },
 "nbformat": 4,
 "nbformat_minor": 2
}
