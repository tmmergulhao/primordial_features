{
 "cells": [
  {
   "cell_type": "markdown",
   "id": "fe753414-0bb3-45f3-88f9-35d72cbe8798",
   "metadata": {},
   "source": [
    "We download the official DESI (pre-computed) power spectrum measurements"
   ]
  },
  {
   "cell_type": "markdown",
   "id": "9f8885be-098a-48b2-9d04-1f1ace2f093c",
   "metadata": {},
   "source": [
    "# Importing libraries"
   ]
  },
  {
   "cell_type": "code",
   "execution_count": 1,
   "id": "ee885595-2d15-45bf-9ccc-1296fe226f0b",
   "metadata": {},
   "outputs": [],
   "source": [
    "import numpy as np\n",
    "import matplotlib.pyplot as plt\n",
    "import subprocess"
   ]
  },
  {
   "cell_type": "code",
   "execution_count": 2,
   "id": "9f8cf26e-5ccc-407e-8d2a-a4382dd7a14f",
   "metadata": {},
   "outputs": [],
   "source": [
    "mock_gen = 'SecondGenMocks'\n",
    "type = 'EZmock'\n",
    "mock_id = '1'\n",
    "tracer = 'QSO'\n",
    "z_range = '0.8-2.1'\n",
    "version = 'v1'\n",
    "galaxy_cap = 'NGC'\n",
    "dir_save = '/Users/s2223060/Desktop/PrimordialFeatures/data/DESI/QSO/pk/'\n",
    "\n",
    "def DownloadFile(type, mock_id, tracer, z_range, version, galaxy_cap,dir_save):\n",
    "    url_base = 'https://data.desi.lbl.gov/desi/survey/catalogs/Y1/mocks/'+mock_gen+'/'+type+'/desipipe/'+version+'/ffa/'\n",
    "    url_download = 'baseline_2pt/mock'+mock_id+'/pk/pkpoles_'+tracer+'_'+galaxy_cap+'_z'+z_range+'_d0.001.txt'\n",
    "    name_out = '_'.join([mock_gen,type,version,tracer,galaxy_cap,z_range,'mock',mock_id,'d0.001'])+'.txt'    \n",
    "    \n",
    "    # URL of the file you want to download\n",
    "    url = url_base+url_download\n",
    "    \n",
    "    # Your username and password\n",
    "    username = 'desi'\n",
    "    password = '5kFibers!'\n",
    "    \n",
    "    # Local filename to save the downloaded file\n",
    "    local_filename = dir_save+name_out\n",
    "    \n",
    "    # Construct the wget command with authentication\n",
    "    wget_command = [\n",
    "        'wget',\n",
    "        '--user', username,\n",
    "        '--password', password,\n",
    "        '-O', local_filename,\n",
    "        url\n",
    "    ]\n",
    "    \n",
    "    # Run the wget command\n",
    "    result = subprocess.run(wget_command, capture_output=True, text=True)\n",
    "    \n",
    "    # Check the result\n",
    "    if result.returncode == 0:\n",
    "        print('File downloaded successfully')\n",
    "    else:\n",
    "        print(f'Failed to download file. Error: {result.stderr}')\n"
   ]
  },
  {
   "cell_type": "code",
   "execution_count": null,
   "id": "20c8b0b2-20c7-40f1-89fe-362672faf7d8",
   "metadata": {},
   "outputs": [],
   "source": [
    "for i in range(1,1):\n",
    "    DownloadFile(type, str(i), tracer, z_range, version, galaxy_cap,dir_save)"
   ]
  },
  {
   "cell_type": "code",
   "execution_count": null,
   "id": "9bed1927-c4e7-42e6-b15f-931d8f8cb171",
   "metadata": {},
   "outputs": [],
   "source": [
    "fn = '/Users/s2223060/Desktop/PrimordialFeatures/data/DESI/QSO/pk/SecondGenMocks_EZmock_v1_QSO_NGC_0.8-2.1_mock_{}_d0.001.txt'\n",
    "p0_list = []"
   ]
  },
  {
   "cell_type": "code",
   "execution_count": null,
   "id": "1e77cefd-2c97-44f2-ab15-446fdc8e598f",
   "metadata": {},
   "outputs": [],
   "source": [
    "def load_ps(fn):\n",
    "    with open(fn, 'r') as file:\n",
    "        lines = file.readlines()[25:]\n",
    "    data = np.genfromtxt(lines, dtype = complex)\n",
    "    data = data.real\n",
    "    return data.T"
   ]
  },
  {
   "cell_type": "code",
   "execution_count": null,
   "id": "8bd0f36c-e319-4518-bd00-f7e0582912e0",
   "metadata": {},
   "outputs": [],
   "source": [
    "for i in range(1,1000):\n",
    "    nmodes, kmid, kavg, p0, p2, p4 = load_ps(fn.format(i))\n",
    "    p0_list.append(p0)\n",
    "p0_list = np.stack(p0_list)"
   ]
  },
  {
   "cell_type": "code",
   "execution_count": null,
   "id": "c4b89529-431b-4b8b-b905-4da7fb751529",
   "metadata": {},
   "outputs": [],
   "source": [
    "p0_list.shape"
   ]
  },
  {
   "cell_type": "code",
   "execution_count": null,
   "id": "f90c5a8c-9601-47a0-aff3-566da43a5dc5",
   "metadata": {},
   "outputs": [],
   "source": [
    "plt.figure()\n",
    "plt.plot(kavg, kmid[:,None]*p0_list.T);\n",
    "plt.xlabel('k [h/Mpc]')\n",
    "plt.ylabel('kP(k) [h/Mpc]')"
   ]
  },
  {
   "cell_type": "code",
   "execution_count": null,
   "id": "906c8fd3-7641-4679-afd0-cfa5cc685be0",
   "metadata": {},
   "outputs": [],
   "source": [
    "cov = np.cov(p0_list.T)"
   ]
  },
  {
   "cell_type": "code",
   "execution_count": null,
   "id": "dd6489bc-4e57-47de-87c5-b3165d1bb42f",
   "metadata": {},
   "outputs": [],
   "source": [
    "np.savetxt('COV_SecondGenMocks_EZmock_v1_QSO_NGC_0.8-2.1_d0.001.txt', cov)"
   ]
  },
  {
   "cell_type": "code",
   "execution_count": null,
   "id": "d94f2f9f-8750-4814-a923-73effb51ee58",
   "metadata": {},
   "outputs": [],
   "source": [
    "#to visualize the covariance matrix\n",
    "def correlation_from_covariance(covariance):\n",
    "    v = np.sqrt(np.diag(covariance))\n",
    "    outer_v = np.outer(v, v)\n",
    "    correlation = covariance / outer_v\n",
    "    correlation[covariance == 0] = 0\n",
    "    return correlation"
   ]
  },
  {
   "cell_type": "code",
   "execution_count": null,
   "id": "d78914f2-8eac-422e-bca2-3563b8356d7f",
   "metadata": {},
   "outputs": [],
   "source": [
    "plt.imshow(correlation_from_covariance(cov))"
   ]
  }
 ],
 "metadata": {
  "kernelspec": {
   "display_name": "base",
   "language": "python",
   "name": "base"
  },
  "language_info": {
   "codemirror_mode": {
    "name": "ipython",
    "version": 3
   },
   "file_extension": ".py",
   "mimetype": "text/x-python",
   "name": "python",
   "nbconvert_exporter": "python",
   "pygments_lexer": "ipython3",
   "version": "3.11.8"
  }
 },
 "nbformat": 4,
 "nbformat_minor": 5
}
