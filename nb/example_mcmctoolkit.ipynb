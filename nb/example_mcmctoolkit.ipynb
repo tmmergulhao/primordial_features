{
 "cells": [
  {
   "cell_type": "code",
   "execution_count": 1,
   "id": "111ac120-c09f-4533-98db-57a7ffd86ec4",
   "metadata": {},
   "outputs": [],
   "source": [
    "import numpy as np\n",
    "import matplotlib.pyplot as plt\n",
    "from mcmc_toolkit import *"
   ]
  },
  {
   "cell_type": "code",
   "execution_count": 2,
   "id": "dc42260f-d186-4585-afa5-1d9671075243",
   "metadata": {},
   "outputs": [
    {
     "data": {
      "image/png": "[encoded data removed]",
      "text/plain": [
       "<Figure size 640x480 with 1 Axes>"
      ]
     },
     "metadata": {},
     "output_type": "display_data"
    }
   ],
   "source": [
    "# Generate synthetic linear data\n",
    "np.random.seed(42)  # For reproducibility\n",
    "true_slope = 2.0\n",
    "true_intercept = 1.0\n",
    "x_data = np.linspace(0, 10, 50)\n",
    "y_data = true_slope * x_data + true_intercept + np.random.normal(0, 1, len(x_data))\n",
    "\n",
    "# Plot the synthetic data\n",
    "plt.scatter(x_data, y_data, label='Data')\n",
    "plt.plot(x_data, true_slope * x_data + true_intercept, color='red', label='True line')\n",
    "plt.xlabel('x')\n",
    "plt.ylabel('y')\n",
    "plt.legend()\n",
    "plt.show()\n"
   ]
  },
  {
   "cell_type": "code",
   "execution_count": 3,
   "id": "96370901-0223-49bb-8fb4-04e0495a90f6",
   "metadata": {},
   "outputs": [],
   "source": [
    "def log_likelihood(theta):\n",
    "    slope, intercept = theta\n",
    "    model = slope * x_data + intercept\n",
    "    sigma2 = 1.0  # Assume known variance\n",
    "    return -0.5 * np.sum((y_data - model) ** 2 / sigma2 + np.log(2 * np.pi * sigma2))"
   ]
  },
  {
   "cell_type": "code",
   "execution_count": 4,
   "id": "9abbef41-29e3-4afc-b46a-5731a67d5e3f",
   "metadata": {},
   "outputs": [
    {
     "name": "stderr",
     "output_type": "stream",
     "text": [
      "2024-09-19 00:35:28,079 - mcmc_toolkit - INFO - Using linear_regression file\n"
     ]
    }
   ],
   "source": [
    "prior = 'linear_regression'\n",
    "mcmc = MCMC(10,prior)"
   ]
  },
  {
   "cell_type": "code",
   "execution_count": 5,
   "id": "df5b1b4d-eb7f-455e-bf89-2f6ef73a0a06",
   "metadata": {},
   "outputs": [
    {
     "name": "stderr",
     "output_type": "stream",
     "text": [
      "2024-09-19 00:35:28,086 - mcmc_toolkit - INFO - Using uniform prior\n",
      "2024-09-19 00:35:28,089 - mcmc_toolkit - INFO - For param slope: Minimum: -1.98 | Maximum: 1.95\n",
      "2024-09-19 00:35:28,090 - mcmc_toolkit - INFO - For param intercept: Minimum: -1.75 | Maximum: 1.45\n",
      "2024-09-19 00:35:28,090 - mcmc_toolkit - INFO - Using uniform prior\n",
      "2024-09-19 00:35:28,091 - mcmc_toolkit - INFO - For param slope: Minimum: -1.52 | Maximum: 1.55\n",
      "2024-09-19 00:35:28,091 - mcmc_toolkit - INFO - For param intercept: Minimum: -1.9 | Maximum: 1.63\n"
     ]
    }
   ],
   "source": [
    "# Gelman-Rubin convergence criteria\n",
    "gelman_rubins = {\n",
    "    'N': 2,\n",
    "    'epsilon': 0.01,\n",
    "    'min_length': 1000,\n",
    "    'convergence_steps': 500\n",
    "}\n",
    "\n",
    "initial_positions = [mcmc.create_walkers('uniform_prior') for _ in range(gelman_rubins['N'])]"
   ]
  },
  {
   "cell_type": "code",
   "execution_count": 6,
   "id": "d68f8158-b9d3-4273-b31a-9aa36ccacaee",
   "metadata": {},
   "outputs": [
    {
     "name": "stderr",
     "output_type": "stream",
     "text": [
      "2024-09-19 00:35:28,103 - mcmc_toolkit - INFO - You are considering 100 as the minimum length for the chain\n",
      "2024-09-19 00:35:28,104 - mcmc_toolkit - INFO - Convergence test happens every 500 steps\n",
      "2024-09-19 00:35:28,104 - mcmc_toolkit - INFO - Number of walkers: 10\n",
      "2024-09-19 00:35:28,105 - mcmc_toolkit - INFO - Number of Parameters: 2\n",
      "2024-09-19 00:35:28,105 - mcmc_toolkit - INFO - Number of parallel chains: 2\n",
      "2024-09-19 00:35:28,140 - mcmc_toolkit - INFO - Preparing chain 0\n",
      "2024-09-19 00:35:28,141 - mcmc_toolkit - INFO - Go!\n",
      "100%|████████████████████████████████████████| 100/100 [00:00<00:00, 103.10it/s]\n",
      "2024-09-19 00:35:29,168 - mcmc_toolkit - INFO - Prepared data for Gelman-Rubin diagnostic calculation\n",
      "2024-09-19 00:35:29,168 - mcmc_toolkit - INFO - Preparing chain 1\n",
      "2024-09-19 00:35:29,169 - mcmc_toolkit - INFO - Go!\n",
      "100%|████████████████████████████████████████| 100/100 [00:00<00:00, 141.55it/s]\n",
      "2024-09-19 00:35:29,893 - mcmc_toolkit - INFO - Prepared data for Gelman-Rubin diagnostic calculation\n",
      "2024-09-19 00:35:29,894 - mcmc_toolkit - INFO - All chains with the minimum length!\n",
      "2024-09-19 00:35:29,894 - mcmc_toolkit - INFO - Checking convergence...\n"
     ]
    },
    {
     "name": "stdout",
     "output_type": "stream",
     "text": [
      "Removed 0.5 as burn in\n",
      "Removed 0.5 as burn in\n"
     ]
    },
    {
     "name": "stderr",
     "output_type": "stream",
     "text": [
      "2024-09-19 00:35:30,474 - mcmc_toolkit - INFO - 1D plot saved to /Users/s2223060/Desktop/primordial_features/figures/linear_regression_1D_ALL.png\n",
      "2024-09-19 00:35:30,475 - mcmc_toolkit - INFO - Gelman-Rubin diagnostic calculated: [0.99970284 1.03131704]\n",
      "2024-09-19 00:35:30,475 - mcmc_toolkit - INFO - epsilon = [0.00029716 0.03131704]\n",
      "2024-09-19 00:35:30,475 - mcmc_toolkit - INFO - Did not converge! Running more steps...\n",
      "2024-09-19 00:35:30,475 - mcmc_toolkit - INFO - Running iteration 1\n",
      "100%|████████████████████████████████████████| 500/500 [00:03<00:00, 136.41it/s]\n",
      "2024-09-19 00:35:34,150 - mcmc_toolkit - INFO - Prepared data for Gelman-Rubin diagnostic calculation\n",
      "100%|████████████████████████████████████████| 500/500 [00:03<00:00, 135.59it/s]\n",
      "2024-09-19 00:35:37,852 - mcmc_toolkit - INFO - Prepared data for Gelman-Rubin diagnostic calculation\n",
      "2024-09-19 00:35:37,853 - mcmc_toolkit - INFO - Gelman-Rubin diagnostic calculated: [0.99976355 1.02275043]\n",
      "2024-09-19 00:35:37,853 - mcmc_toolkit - INFO - epsilon = [0.00023645 0.02275043]\n"
     ]
    },
    {
     "name": "stdout",
     "output_type": "stream",
     "text": [
      "Removed 0.5 as burn in\n",
      "Removed 0.5 as burn in\n"
     ]
    },
    {
     "name": "stderr",
     "output_type": "stream",
     "text": [
      "2024-09-19 00:35:38,333 - mcmc_toolkit - INFO - 1D plot saved to /Users/s2223060/Desktop/primordial_features/figures/linear_regression_1D_ALL.png\n",
      "2024-09-19 00:35:38,333 - mcmc_toolkit - INFO - Running iteration 2\n",
      "100%|████████████████████████████████████████| 500/500 [00:03<00:00, 147.47it/s]\n",
      "2024-09-19 00:35:41,733 - mcmc_toolkit - INFO - Prepared data for Gelman-Rubin diagnostic calculation\n",
      "100%|████████████████████████████████████████| 500/500 [00:03<00:00, 128.73it/s]\n",
      "2024-09-19 00:35:45,629 - mcmc_toolkit - INFO - Prepared data for Gelman-Rubin diagnostic calculation\n",
      "2024-09-19 00:35:45,629 - mcmc_toolkit - INFO - Gelman-Rubin diagnostic calculated: [1.00026002 1.02024919]\n",
      "2024-09-19 00:35:45,630 - mcmc_toolkit - INFO - epsilon = [0.00026002 0.02024919]\n"
     ]
    },
    {
     "name": "stdout",
     "output_type": "stream",
     "text": [
      "Removed 0.5 as burn in\n",
      "Removed 0.5 as burn in\n"
     ]
    },
    {
     "name": "stderr",
     "output_type": "stream",
     "text": [
      "2024-09-19 00:35:46,083 - mcmc_toolkit - INFO - 1D plot saved to /Users/s2223060/Desktop/primordial_features/figures/linear_regression_1D_ALL.png\n",
      "2024-09-19 00:35:46,083 - mcmc_toolkit - INFO - Running iteration 3\n",
      "100%|████████████████████████████████████████| 500/500 [00:03<00:00, 139.49it/s]\n",
      "2024-09-19 00:35:49,681 - mcmc_toolkit - INFO - Prepared data for Gelman-Rubin diagnostic calculation\n",
      "100%|████████████████████████████████████████| 500/500 [00:03<00:00, 133.01it/s]\n",
      "2024-09-19 00:35:53,451 - mcmc_toolkit - INFO - Prepared data for Gelman-Rubin diagnostic calculation\n",
      "2024-09-19 00:35:53,452 - mcmc_toolkit - INFO - Gelman-Rubin diagnostic calculated: [1.00038684 1.01599833]\n",
      "2024-09-19 00:35:53,453 - mcmc_toolkit - INFO - epsilon = [0.00038684 0.01599833]\n"
     ]
    },
    {
     "name": "stdout",
     "output_type": "stream",
     "text": [
      "Removed 0.5 as burn in\n",
      "Removed 0.5 as burn in\n"
     ]
    },
    {
     "name": "stderr",
     "output_type": "stream",
     "text": [
      "2024-09-19 00:35:53,901 - mcmc_toolkit - INFO - 1D plot saved to /Users/s2223060/Desktop/primordial_features/figures/linear_regression_1D_ALL.png\n",
      "2024-09-19 00:35:53,901 - mcmc_toolkit - INFO - Running iteration 4\n",
      "100%|████████████████████████████████████████| 500/500 [00:03<00:00, 135.20it/s]\n",
      "2024-09-19 00:35:57,611 - mcmc_toolkit - INFO - Prepared data for Gelman-Rubin diagnostic calculation\n",
      "100%|████████████████████████████████████████| 500/500 [00:04<00:00, 124.47it/s]\n",
      "2024-09-19 00:36:01,641 - mcmc_toolkit - INFO - Prepared data for Gelman-Rubin diagnostic calculation\n",
      "2024-09-19 00:36:01,641 - mcmc_toolkit - INFO - Gelman-Rubin diagnostic calculated: [1.00020792 1.012071  ]\n",
      "2024-09-19 00:36:01,642 - mcmc_toolkit - INFO - epsilon = [0.00020792 0.012071  ]\n"
     ]
    },
    {
     "name": "stdout",
     "output_type": "stream",
     "text": [
      "Removed 0.5 as burn in\n",
      "Removed 0.5 as burn in\n"
     ]
    },
    {
     "name": "stderr",
     "output_type": "stream",
     "text": [
      "2024-09-19 00:36:02,123 - mcmc_toolkit - INFO - 1D plot saved to /Users/s2223060/Desktop/primordial_features/figures/linear_regression_1D_ALL.png\n",
      "2024-09-19 00:36:02,124 - mcmc_toolkit - INFO - Running iteration 5\n",
      "100%|████████████████████████████████████████| 500/500 [00:03<00:00, 130.56it/s]\n",
      "2024-09-19 00:36:06,004 - mcmc_toolkit - INFO - Prepared data for Gelman-Rubin diagnostic calculation\n",
      "100%|████████████████████████████████████████| 500/500 [00:03<00:00, 134.64it/s]\n",
      "2024-09-19 00:36:09,732 - mcmc_toolkit - INFO - Prepared data for Gelman-Rubin diagnostic calculation\n",
      "2024-09-19 00:36:09,733 - mcmc_toolkit - INFO - Gelman-Rubin diagnostic calculated: [1.00015739 1.01241632]\n",
      "2024-09-19 00:36:09,733 - mcmc_toolkit - INFO - epsilon = [0.00015739 0.01241632]\n"
     ]
    },
    {
     "name": "stdout",
     "output_type": "stream",
     "text": [
      "Removed 0.5 as burn in\n",
      "Removed 0.5 as burn in\n"
     ]
    },
    {
     "name": "stderr",
     "output_type": "stream",
     "text": [
      "2024-09-19 00:36:10,179 - mcmc_toolkit - INFO - 1D plot saved to /Users/s2223060/Desktop/primordial_features/figures/linear_regression_1D_ALL.png\n",
      "2024-09-19 00:36:10,180 - mcmc_toolkit - INFO - Running iteration 6\n",
      "100%|████████████████████████████████████████| 500/500 [00:03<00:00, 143.94it/s]\n",
      "2024-09-19 00:36:13,665 - mcmc_toolkit - INFO - Prepared data for Gelman-Rubin diagnostic calculation\n",
      "100%|████████████████████████████████████████| 500/500 [00:03<00:00, 133.03it/s]\n",
      "2024-09-19 00:36:17,437 - mcmc_toolkit - INFO - Prepared data for Gelman-Rubin diagnostic calculation\n",
      "2024-09-19 00:36:17,438 - mcmc_toolkit - INFO - Gelman-Rubin diagnostic calculated: [1.00134898 1.00991027]\n",
      "2024-09-19 00:36:17,438 - mcmc_toolkit - INFO - epsilon = [0.00134898 0.00991027]\n"
     ]
    },
    {
     "name": "stdout",
     "output_type": "stream",
     "text": [
      "Removed 0.5 as burn in\n",
      "Removed 0.5 as burn in\n"
     ]
    },
    {
     "name": "stderr",
     "output_type": "stream",
     "text": [
      "2024-09-19 00:36:17,889 - mcmc_toolkit - INFO - 1D plot saved to /Users/s2223060/Desktop/primordial_features/figures/linear_regression_1D_ALL.png\n",
      "2024-09-19 00:36:17,889 - mcmc_toolkit - INFO - Convergence Achieved!\n",
      "2024-09-19 00:36:17,889 - mcmc_toolkit - INFO - Plotting walkers position over steps...\n",
      "2024-09-19 00:36:18,594 - mcmc_toolkit - INFO - Walkers plot saved to /Users/s2223060/Desktop/primordial_features/figures/linear_regression_walkers.pdf\n",
      "2024-09-19 00:36:18,594 - mcmc_toolkit - INFO - Plotting the correlation matrix...\n",
      "2024-09-19 00:36:18,672 - mcmc_toolkit - INFO - Correlation matrix plot saved to /Users/s2223060/Desktop/primordial_features/figures/linear_regression_Corr.png\n",
      "2024-09-19 00:36:18,672 - mcmc_toolkit - INFO - Making a corner plot...\n"
     ]
    },
    {
     "name": "stdout",
     "output_type": "stream",
     "text": [
      "Removed no burn in\n",
      "plotting:  ['slope', 'intercept']\n"
     ]
    },
    {
     "name": "stderr",
     "output_type": "stream",
     "text": [
      "2024-09-19 00:36:19,570 - mcmc_toolkit - INFO - Corner plot saved to /Users/s2223060/Desktop/primordial_features/figures/linear_regression_Corner.png\n",
      "2024-09-19 00:36:19,571 - mcmc_toolkit - INFO - Done!\n"
     ]
    }
   ],
   "source": [
    "handle = prior\n",
    "mcmc.run(handle,0, initial_positions, log_likelihood, gelman_rubins = gelman_rubins)"
   ]
  }
 ],
 "metadata": {
  "kernelspec": {
   "display_name": "Python 3 (ipykernel)",
   "language": "python",
   "name": "python3"
  },
  "language_info": {
   "codemirror_mode": {
    "name": "ipython",
    "version": 3
   },
   "file_extension": ".py",
   "mimetype": "text/x-python",
   "name": "python",
   "nbconvert_exporter": "python",
   "pygments_lexer": "ipython3",
   "version": "3.11.8"
  }
 },
 "nbformat": 4,
 "nbformat_minor": 5
}
