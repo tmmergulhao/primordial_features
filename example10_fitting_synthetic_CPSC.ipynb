{
 "cells": [
  {
   "cell_type": "markdown",
   "id": "5bab2390-47c3-4b0c-9f68-495aa84e8d2c",
   "metadata": {},
   "source": [
    "# Importing libraries"
   ]
  },
  {
   "cell_type": "code",
   "execution_count": 1,
   "id": "aed285ce-8ea5-448d-b007-5858dfc9e4c0",
   "metadata": {},
   "outputs": [],
   "source": [
    "import sys\n",
    "from tqdm import tqdm   \n",
    "import numpy as np\n",
    "from iminuit import Minuit\n",
    "import json\n",
    "import h5py as h5\n",
    "from getdist import plots, MCSamples\n",
    "import matplotlib as mpl\n",
    "%matplotlib inline\n",
    "\n",
    "# Define global rcParams settings\n",
    "mpl.rcParams.update({\n",
    "    # TICK SETTINGS\n",
    "    'xtick.direction': 'inout',\n",
    "    'ytick.direction': 'inout',\n",
    "    'xtick.major.size': 4,      # major tick size in points\n",
    "    'xtick.major.width': 1,     # major tick width in points\n",
    "    'ytick.major.size': 4,      # major tick size in points\n",
    "    'ytick.major.width': 1,     # major tick width in points\n",
    "\n",
    "    # GRID SETTINGS\n",
    "    'axes.grid': True,\n",
    "    'grid.color': 'grey',\n",
    "    'grid.linestyle': '-',\n",
    "    'grid.linewidth': 0.7,\n",
    "    'grid.alpha': 0.2,\n",
    "\n",
    "    # LEGEND SETTINGS\n",
    "    'legend.fancybox': True,\n",
    "    'legend.facecolor': 'white',\n",
    "    'legend.framealpha': 0.5,\n",
    "    'legend.edgecolor': 'grey',\n",
    "\n",
    "    # FIGURE & SUBPLOT SETTINGS\n",
    "    'figure.autolayout': False,\n",
    "    'figure.frameon': True,\n",
    "    'figure.subplot.left': 0.08,\n",
    "    'figure.subplot.right': 0.96,\n",
    "\n",
    "    # LINE SETTINGS\n",
    "    'lines.linewidth': 1.5,\n",
    "\n",
    "    # AXES SETTINGS\n",
    "    'axes.facecolor': 'white',\n",
    "    'axes.edgecolor': 'black',\n",
    "    'axes.formatter.use_mathtext': True,  # use math text for scientific notation\n",
    "    'axes.linewidth': 1.0,\n",
    "    'axes.labelcolor': 'black',\n",
    "    'axes.labelsize': 16,\n",
    "\n",
    "    # FONT SETTINGS\n",
    "    'font.family': 'serif',\n",
    "    'font.size': 13,\n",
    "\n",
    "    # TEXT SETTINGS\n",
    "    'text.color': 'k',\n",
    "    'text.usetex': False,\n",
    "\n",
    "    # MATHTEXT SETTINGS\n",
    "    'mathtext.cal': 'cursive',\n",
    "    'mathtext.rm': 'serif',\n",
    "    'mathtext.tt': 'monospace',\n",
    "    'mathtext.it': 'serif:italic',\n",
    "    'mathtext.bf': 'serif:italic:bold',\n",
    "    'mathtext.sf': 'sans_serif',\n",
    "    'mathtext.fontset': 'dejavusans',\n",
    "})\n",
    "\n",
    "tracer_colors = tracer_colors = {\n",
    "    'DESI_Y1_LRG1': 'orange',\n",
    "    'DESI_Y1_LRG2': 'orangered',\n",
    "    'DESI_Y1_LRG3': 'firebrick',\n",
    "    'DESI_Y1_QSO':  'seagreen',\n",
    "    'DESI_Y1_ELG1': 'skyblue',\n",
    "    'DESI_Y1_ELG2': 'steelblue'\n",
    "}"
   ]
  },
  {
   "cell_type": "code",
   "execution_count": 2,
   "id": "5de24cae",
   "metadata": {},
   "outputs": [
    {
     "name": "stdout",
     "output_type": "stream",
     "text": [
      "2025-05-01 16:39:58,297 - main - INFO - Processes: 32\n",
      "2025-05-01 16:39:58,298 - main - INFO - DATA NGC file: /Users/s2223060/Desktop/LSS_DATA/BOSS/highz/ps1D_BOSS_DR12_NGC_Recon_0.5_0.75_768_0.001_0.4_3500_renorm.dat\n",
      "2025-05-01 16:39:58,298 - main - INFO - DATA SGC file: /Users/s2223060/Desktop/LSS_DATA/BOSS/highz/ps1D_BOSS_DR12_SGC_Recon_0.5_0.75_768_0.001_0.4_3500_renorm.dat\n",
      "2025-05-01 16:39:58,298 - main - INFO - COV NGC file: /Users/s2223060/Desktop/LSS_DATA/BOSS/highz/C_997_BOSS_DR12_NGC_z3_0.001.matrix\n",
      "2025-05-01 16:39:58,299 - main - INFO - COV SGC file: /Users/s2223060/Desktop/LSS_DATA/BOSS/highz/C_1000_BOSS_DR12_SGC_z3_0.001.matrix\n",
      "2025-05-01 16:39:58,299 - main - INFO - Window function (NGC): /Users/s2223060/Desktop/LSS_DATA/wf/winfunc_BOSS_highz_North.txt\n",
      "2025-05-01 16:39:58,300 - main - INFO - Window function (SGC): /Users/s2223060/Desktop/LSS_DATA/wf/winfunc_BOSS_highz_South.txt\n",
      "2025-05-01 16:39:58,300 - main - INFO - linear matter power spectrum: /Users/s2223060/Desktop/primordial_features/cosmologies/power_spectrum/BOSS_highz_wiggly_decomp.txt\n",
      "2025-05-01 16:39:58,301 - main - INFO - primordial feature model: cpsc\n",
      "2025-05-01 16:39:58,302 - main - INFO - prior_name: CPSC_singlepol\n",
      "2025-05-01 16:39:58,303 - main - INFO - nwalkers_per_param: 10\n",
      "2025-05-01 16:39:58,303 - main - INFO - MULTIPROCESSING: True\n",
      "2025-05-01 16:39:58,304 - main - INFO - KMIN: 0.02\n",
      "2025-05-01 16:39:58,304 - main - INFO - KMAX: 0.3\n",
      "2025-05-01 16:39:58,305 - main - INFO - Filename: DATA_POST_BOSS_highz_CPSC_singlepol_13.7_20.0\n",
      "2025-05-01 16:39:58,305 - main - INFO - OMEGA_MIN: 13.7\n",
      "2025-05-01 16:39:58,306 - main - INFO - OMEGA_MAX: 20.0\n",
      "2025-05-01 16:39:58,308 - mcmc_toolkit - INFO - Using /Users/s2223060/Desktop/primordial_features/priors/CPSC_singlepol file\n",
      "2025-05-01 16:39:58,309 - mcmc_toolkit - INFO - Input dictionary: OrderedDict([('NGC', OrderedDict([('BNGC', [0.1, 8])])), ('SGC', OrderedDict([('BSGC', [0.1, 8])])), ('a0', [-1, 1]), ('a1', [-10, 10]), ('a2', [-50, 50]), ('a3', [-50, 50]), ('a4', [-200, 200]), ('alpha', [0.8, 1.2]), ('sigma_nl', [0, 15]), ('sigma_s', [0, 15]), ('dP', [0, 0.35]), ('omega', [13.7, 20]), ('log10_omega_over_H', [0.1, 1.9])])\n",
      "2025-05-01 16:39:58,309 - mcmc_toolkit - INFO - Expanded dictionary: OrderedDict([('BNGC', [0.1, 8]), ('BSGC', [0.1, 8]), ('a0', [-1, 1]), ('a1', [-10, 10]), ('a2', [-50, 50]), ('a3', [-50, 50]), ('a4', [-200, 200]), ('alpha', [0.8, 1.2]), ('sigma_nl', [0, 15]), ('sigma_s', [0, 15]), ('dP', [0, 0.35]), ('omega', [13.7, 20]), ('log10_omega_over_H', [0.1, 1.9])])\n",
      "2025-05-01 16:39:58,309 - mcmc_toolkit - INFO - Parameter labels: ['BNGC', 'BSGC', 'a0', 'a1', 'a2', 'a3', 'a4', 'alpha', 'sigma_nl', 'sigma_s', 'dP', 'omega', 'log10_omega_over_H']\n",
      "2025-05-01 16:39:58,310 - mcmc_toolkit - INFO - Parameter bounds: [[ 1.00e-01  1.00e-01 -1.00e+00 -1.00e+01 -5.00e+01 -5.00e+01 -2.00e+02\n",
      "   8.00e-01  0.00e+00  0.00e+00  0.00e+00  1.37e+01  1.00e-01]\n",
      " [ 8.00e+00  8.00e+00  1.00e+00  1.00e+01  5.00e+01  5.00e+01  2.00e+02\n",
      "   1.20e+00  1.50e+01  1.50e+01  3.50e-01  2.00e+01  1.90e+00]]\n",
      "2025-05-01 16:39:58,605 - mcmc_toolkit - INFO - Number of walkers set to 130\n",
      "2025-05-01 16:39:58,605 - main - INFO - Gelman-Rubin convergence criteria: {'N': 3, 'epsilon': 0.03, 'min_length': 5000, 'convergence_steps': 1000}\n",
      "2025-05-01 16:39:58,606 - main - INFO - MULTIPROCESSING: True\n",
      "2025-05-01 16:39:58,606 - mcmc_toolkit - INFO - Using the uniform_thin walker positioning\n"
     ]
    }
   ],
   "source": [
    "sys.argv = [\n",
    "    'main.py',\n",
    "    '--data_env', 'envs/DATA/BOSS_highz.env',\n",
    "    '--sampler_env', 'envs/sampler/cpsc_singlepol.env',\n",
    "    '--mock', '-1',\n",
    "    '--machine', 'MAC',\n",
    "    '--reconstruction', 'True',\n",
    "    '--omega_min', '13.7',\n",
    "    '--omega_max', '20',\n",
    "    '--EZMOCK', 'False',\n",
    "    '--debug', 'True',\n",
    "]\n",
    "\n",
    "from main import *"
   ]
  },
  {
   "cell_type": "code",
   "execution_count": 78,
   "id": "a5d90de8",
   "metadata": {},
   "outputs": [
    {
     "data": {
      "text/plain": [
       "Text(0, 0.5, '$kP(k)$')"
      ]
     },
     "execution_count": 78,
     "metadata": {},
     "output_type": "execute_result"
    },
    {
     "data": {
      "image/png": "[encoded data removed]",
      "text/plain": [
       "<Figure size 1000x500 with 2 Axes>"
      ]
     },
     "metadata": {},
     "output_type": "display_data"
    }
   ],
   "source": [
    "omega = 15\n",
    "A = 0.02\n",
    "log10_omega_over_H = 1.9\n",
    "N = 2*len(k)\n",
    "\n",
    "PF_guess = np.array([3,2.8,0,0,0,0,0,1,5,3,A,omega,log10_omega_over_H])\n",
    "BAO_guess = np.array([3,2.8,0,0,0,0,0,1,5,3,0,omega,log10_omega_over_H])\n",
    "\n",
    "# Inject noise into BAO and PF data\n",
    "noise_BAO = np.random.multivariate_normal(mean=np.zeros(N), cov=COV)\n",
    "noise_PF = np.random.multivariate_normal(mean=np.zeros(N), cov=COV)\n",
    "\n",
    "data_BAO_bare = theory(BAO_guess)\n",
    "data_PF_bare = theory(PF_guess)\n",
    "\n",
    "data_BAO = data_BAO_bare + noise_BAO\n",
    "data_PF = data_PF_bare + noise_PF\n",
    "\n",
    "mcmc.set_gelman_rubin({\n",
    "    \"N\":1,\n",
    "    \"epsilon\":10,\n",
    "    \"min_length\":10000,\n",
    "    \"convergence_steps\":10\n",
    "})\n",
    "fn_wf_ngc = None\n",
    "fn_wf_sgc = None\n",
    "\n",
    "fig, ax = plt.subplots(1,2, figsize=(10, 5), constrained_layout=True)\n",
    "ax[0].plot(k, k*data_PF_bare[0:len(k)], label='Synthetic CPSC', color='blue', lw = 2)\n",
    "ax[0].plot(k, k*data_BAO_bare[0:len(k)], label='Fiducial', color='red', lw = 2)\n",
    "ax[0].legend()\n",
    "ax[0].set_xlabel(r'$k$ [h/Mpc]')\n",
    "ax[0].set_ylabel(r'$kP(k)$')\n",
    "\n",
    "ax[1].plot(k, k*data_PF[0:len(k)], label='Synthetic CPSC', color='blue')\n",
    "ax[1].plot(k, k*data_BAO[0:len(k)], label='Fiducial', color='red')\n",
    "ax[1].set_xlabel(r'$k$ [h/Mpc]')\n",
    "ax[1].set_ylabel(r'$kP(k)$')"
   ]
  },
  {
   "cell_type": "code",
   "execution_count": 77,
   "id": "20f13982",
   "metadata": {},
   "outputs": [
    {
     "name": "stdout",
     "output_type": "stream",
     "text": [
      "2025-05-01 16:47:49,358 - mcmc_toolkit - WARNING - The gelman rubin requires 2 or more chains!\n",
      "2025-05-01 16:47:49,359 - mcmc_toolkit - INFO - You are considering 10000 as the minimum length for the chain\n",
      "2025-05-01 16:47:49,360 - mcmc_toolkit - INFO - Convergence test happens every 10 steps\n",
      "2025-05-01 16:47:49,361 - mcmc_toolkit - INFO - Number of walkers: 130\n",
      "2025-05-01 16:47:49,362 - mcmc_toolkit - INFO - Number of Parameters: 13\n",
      "2025-05-01 16:47:49,363 - mcmc_toolkit - INFO - Number of parallel chains: 1\n",
      "2025-05-01 16:47:49,371 - mcmc_toolkit - INFO - Preparing chain 0\n",
      "2025-05-01 16:47:49,372 - mcmc_toolkit - INFO - Go!\n"
     ]
    },
    {
     "name": "stderr",
     "output_type": "stream",
     "text": [
      "  6%|▌         | 578/10000 [01:09<15:04, 10.42it/s]"
     ]
    }
   ],
   "source": [
    "handle_final = 'noiseless_synthetic_dp_{}_omega_{}_logm_{}_'.format(A,omega,log10_omega_over_H)+handle\n",
    "PrimordialFeature_likelihood.set_data(data_PF_bare)\n",
    "mcmc.run(handle_final, 1, initial_positions, logposterior, gelman_rubin=True, new=True, plots=True)"
   ]
  },
  {
   "cell_type": "code",
   "execution_count": null,
   "id": "92dbcaf3",
   "metadata": {},
   "outputs": [],
   "source": [
    "handle_final = 'noisy_synthetic_dp_{}_omega_{}_logm_{}_'.format(A,omega,log10_omega_over_H)+handle\n",
    "PrimordialFeature_likelihood.set_data(data_PF)\n",
    "mcmc.run(handle_final, 1, initial_positions, logposterior, gelman_rubin=True, new=True, plots=True)"
   ]
  },
  {
   "cell_type": "code",
   "execution_count": null,
   "id": "48fbef11",
   "metadata": {},
   "outputs": [],
   "source": [
    "handle_final = 'noiseless_BAO_dp_{}_omega_{}_logm_{}_'.format(A,omega,log10_omega_over_H)+handle\n",
    "PrimordialFeature_likelihood.set_data(data_BAO_bare)\n",
    "mcmc.run(handle_final, 1, initial_positions, logposterior, gelman_rubin=True, new=True, plots=True)\n",
    "\n",
    "handle_final = 'noisy_BAO_dp_{}_omega_{}_logm_{}_'.format(A,omega,log10_omega_over_H)+handle\n",
    "PrimordialFeature_likelihood.set_data(data_BAO)\n",
    "mcmc.run(handle_final, 1, initial_positions, logposterior, gelman_rubin=True, new=True, plots=True)"
   ]
  },
  {
   "cell_type": "code",
   "execution_count": null,
   "id": "88b9f8a3",
   "metadata": {},
   "outputs": [],
   "source": [
    "mcmc.run(handle, 1, initial_positions, logposterior, gelman_rubin=True, new=True, plots=True)"
   ]
  },
  {
   "cell_type": "code",
   "execution_count": 5,
   "id": "9f2e233c",
   "metadata": {},
   "outputs": [],
   "source": []
  },
  {
   "cell_type": "code",
   "execution_count": 28,
   "id": "7f2861e7",
   "metadata": {},
   "outputs": [],
   "source": [
    "# Define files\n",
    "files = [\n",
    "    '/Users/s2223060/Desktop/primordial_features/chains/DESI_Y1_QSO/MOCK_5/CPSC_singlepol/13.7_20.0/noisy_synthetic_dp_0.02_omega_15_logm_1.5_MOCK_5_PRE_DESI_QSO_Y1_CPSC_singlepol_13.7_20.0_Run_0.h5'\n",
    "]\n",
    "\n",
    "# Load and concatenate chains\n",
    "chains = []\n",
    "logprobs = []\n",
    "\n",
    "for f in files:\n",
    "    with h5.File(f, 'r') as file:\n",
    "        chains.append(file['mcmc']['chain'][:])\n",
    "        logprobs.append(file['mcmc']['log_prob'][:])\n",
    "\n",
    "combined_chain = np.concatenate(chains, axis=0)\n",
    "combined_chain = combined_chain.reshape(-1, combined_chain.shape[-1])\n",
    "#combined_chain[:,-2] = np.log10(combined_chain[:,-2])\n",
    "combined_logprob = np.concatenate(logprobs, axis=0)\n",
    "combined_logprob = combined_logprob.flatten()"
   ]
  },
  {
   "cell_type": "code",
   "execution_count": null,
   "id": "01519211",
   "metadata": {},
   "outputs": [],
   "source": [
    "# Parameter names and labels\n",
    "names = [\"BNGC\", \"BSGC\", \"a0\", \"a1\", \"a2\", \"a3\", \"a4\", \"alpha\", \"sigma_nl\", \"sigma_s\", \"A\", \"omega\", \"log_m_over_h\"]\n",
    "labels = [r'B_{\\rm NGC}', r'B_{\\rm SGC}', r\"a_0\", r\"a_1\", r\"a_2\", r\"a_3\", r\"a_4\", r\"\\alpha\",r\"\\Sigma_{\\rm nl}\",r\"\\Sigma_s\", r\"dP\", r\"N_0\",r\"\\log_{10}\\,\\omega/H\"]\n",
    "\n",
    "# Create combined MCSamples object\n",
    "samples = MCSamples(\n",
    "    samples=combined_chain,\n",
    "    loglikes=-2 * combined_logprob,  # getdist expects -2*logL = chi2\n",
    "    names=names,\n",
    "    labels=labels,\n",
    "    settings={'contours': [0.68, 0.95]},\n",
    "    ranges = {'log_m_over_h':[0.1,1.9],'A':[0,0.1],'omega':[13.7,20]}\n",
    ")\n",
    "\n",
    "# Best-fit point\n",
    "best_idx = np.argmax(combined_logprob)\n",
    "best_fit = combined_chain[best_idx]\n",
    "best_fit_dict = dict(zip(names, best_fit))\n",
    "\n",
    "print(f\"Best-fit As: {best_fit_dict['A']:.5f}\")\n",
    "print(f\"Best-fit omega: {best_fit_dict['omega']:.5f}\")"
   ]
  },
  {
   "cell_type": "code",
   "execution_count": null,
   "id": "2125981a",
   "metadata": {},
   "outputs": [],
   "source": [
    "g1 = plots.get_single_plotter(width_inch=6)\n",
    "g1.triangle_plot(\n",
    "    samples,\n",
    "    ['A', 'omega','log_m_over_h'],\n",
    "    line_args=[{'ls':'-', 'color':tracer_colors['DESI_Y1_QSO']}],\n",
    "    contour_args=[{'ls':'-', 'color':tracer_colors['DESI_Y1_QSO']}],\n",
    "    markers={k: best_fit_dict[k] for k in ['omega','A','log_m_over_h']},\n",
    "    marker_args={'lw': 0.5, 'color':'black'},filled = True\n",
    ")\n",
    "g1.add_text('Noisy',-1.95,2.85, font = 'serif',fontsize = 10)\n",
    "g1.add_text('CPSC ',-1.95,2.7, font = 'serif',fontsize = 10)\n",
    "g1.export('CPSC_fitting_noisy_CPSC.pdf')"
   ]
  },
  {
   "cell_type": "markdown",
   "id": "2805707d",
   "metadata": {},
   "source": [
    "# Binning the posteriors"
   ]
  },
  {
   "cell_type": "code",
   "execution_count": 23,
   "id": "03943493",
   "metadata": {},
   "outputs": [],
   "source": [
    "# Define files\n",
    "files = {\n",
    "    \"noiseless_BAO\":'/Users/s2223060/Desktop/primordial_features/chains/DESI_Y1_QSO/MOCK_5/sound_singlepol/100.0_500.0/noiseless_BAO_MOCK_5_PRE_DESI_QSO_Y1_sound_singlepol_100.0_500.0_Run_0.h5',\n",
    "    \"noisy_BAO\":'/Users/s2223060/Desktop/primordial_features/chains/DESI_Y1_QSO/MOCK_5/sound_singlepol/100.0_500.0/noisy_BAO_MOCK_5_PRE_DESI_QSO_Y1_sound_singlepol_100.0_500.0_Run_0.h5',\n",
    "    \"noiseless_PF\":'/Users/s2223060/Desktop/primordial_features/chains/DESI_Y1_QSO/MOCK_5/sound_singlepol/100.0_500.0/noiseless_synthetic_MOCK_5_PRE_DESI_QSO_Y1_sound_singlepol_100.0_500.0_Run_0.h5',\n",
    "    \"noisy_PF\":'/Users/s2223060/Desktop/primordial_features/chains/DESI_Y1_QSO/MOCK_5/sound_singlepol/100.0_500.0/noisy_synthetic_MOCK_5_PRE_DESI_QSO_Y1_sound_singlepol_100.0_500.0_Run_0.h5',\n",
    "}\n",
    "\n",
    "chains = {}\n",
    "\n",
    "for key, f in files.items():\n",
    "    with h5.File(f, 'r') as file:\n",
    "        chains[key] = file['mcmc']['chain'][:]"
   ]
  },
  {
   "cell_type": "code",
   "execution_count": 24,
   "id": "73aeeb8e",
   "metadata": {},
   "outputs": [],
   "source": [
    "freq_edges = np.arange(100, 520, 20)  # edges for binning\n",
    "freq_centers = 0.5 * (freq_edges[:-1] + freq_edges[1:])\n",
    "\n",
    "# Prepare storage for results\n",
    "results = {}\n",
    "\n",
    "for key, chain in chains.items():\n",
    "    freq_vals = chain[..., -2]  # frequency values\n",
    "    param_m3 = chain[..., -3]\n",
    "    param_m1 = chain[..., -1]\n",
    "\n",
    "    mean_m3 = []\n",
    "    std_m3 = []\n",
    "    mean_m1 = []\n",
    "    std_m1 = []\n",
    "\n",
    "    # Loop through bins\n",
    "    for low, high in zip(freq_edges[:-1], freq_edges[1:]):\n",
    "        mask = (freq_vals >= low) & (freq_vals < high)\n",
    "        selected_m3 = param_m3[mask]\n",
    "        selected_m1 = param_m1[mask]\n",
    "\n",
    "        mean_m3.append(np.mean(selected_m3) if len(selected_m3) > 0 else np.nan)\n",
    "        std_m3.append(np.std(selected_m3) if len(selected_m3) > 0 else np.nan)\n",
    "        mean_m1.append(np.mean(selected_m1) if len(selected_m1) > 0 else np.nan)\n",
    "        std_m1.append(np.std(selected_m1) if len(selected_m1) > 0 else np.nan)\n",
    "\n",
    "    results[key] = {\n",
    "        'freq_centers': freq_centers,\n",
    "        'mean_m3': np.array(mean_m3),\n",
    "        'std_m3': np.array(std_m3),\n",
    "        'mean_m1': np.array(mean_m1),\n",
    "        'std_m1': np.array(std_m1),\n",
    "    }"
   ]
  },
  {
   "cell_type": "code",
   "execution_count": null,
   "id": "d790709c",
   "metadata": {},
   "outputs": [],
   "source": [
    "for x in results.keys():\n",
    "    plt.figure()\n",
    "    plt.errorbar(results[x]['freq_centers'],results[x]['mean_m3'],yerr = results[x]['std_m3'])\n",
    "    plt.title(x)\n",
    "\n",
    "    plt.figure()\n",
    "    plt.errorbar(results[x]['freq_centers'],results[x]['mean_m1'],yerr = results[x]['std_m1'])\n"
   ]
  },
  {
   "cell_type": "code",
   "execution_count": null,
   "id": "24908461",
   "metadata": {},
   "outputs": [],
   "source": []
  }
 ],
 "metadata": {
  "kernelspec": {
   "display_name": "velo-env",
   "language": "python",
   "name": "python3"
  },
  "language_info": {
   "codemirror_mode": {
    "name": "ipython",
    "version": 3
   },
   "file_extension": ".py",
   "mimetype": "text/x-python",
   "name": "python",
   "nbconvert_exporter": "python",
   "pygments_lexer": "ipython3",
   "version": "3.11.11"
  }
 },
 "nbformat": 4,
 "nbformat_minor": 5
}
