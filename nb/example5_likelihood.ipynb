{
 "cells": [
  {
   "cell_type": "markdown",
   "id": "3ab6357a-d6f0-4036-ac99-436877fc29cd",
   "metadata": {},
   "source": [
    "# Importing libraries"
   ]
  },
  {
   "cell_type": "code",
   "execution_count": 36,
   "id": "0aa86877-35b7-49de-a2ee-9fc9de899a82",
   "metadata": {},
   "outputs": [],
   "source": [
    "import sys\n",
    "sys.path.append('/Users/s2223060/Desktop/primordial_features/')\n",
    "import numpy as np\n",
    "import matplotlib.pyplot as plt\n",
    "import emcee, getdist\n",
    "from mcmc_toolkit import *"
   ]
  },
  {
   "cell_type": "markdown",
   "id": "987935f7-3485-4414-8d7b-ceda781eab41",
   "metadata": {},
   "source": [
    "We initialise the mcmc object:"
   ]
  },
  {
   "cell_type": "code",
   "execution_count": 43,
   "id": "db9a44ce-eb8b-4420-8e84-4e90e89221be",
   "metadata": {},
   "outputs": [
    {
     "name": "stderr",
     "output_type": "stream",
     "text": [
      "2024-09-27 15:27:06,373 - mcmc_toolkit - INFO - Using lin_simple_range1 file\n",
      "2024-09-27 15:27:06,376 - mcmc_toolkit - INFO - Number of walkers set to 25\n"
     ]
    }
   ],
   "source": [
    "#prior to use and start with one walker\n",
    "priorname = 'lin_simple_range1'\n",
    "mcmc = MCMC(1, priorname,priors_dir = '/Users/s2223060/Desktop/primordial_features/priors')\n",
    "\n",
    "#get the number of parameters\n",
    "ndim = mcmc.ndim\n",
    "#update the number of walkers to 5 per free parameter\n",
    "mcmc.set_walkers(5*ndim)\n",
    "mcmc.change_chain_dir('/Users/s2223060/Desktop/primordial_features/chains')"
   ]
  },
  {
   "cell_type": "code",
   "execution_count": 38,
   "id": "2dcf19ca-c040-43cc-a281-4e3532d85748",
   "metadata": {},
   "outputs": [
    {
     "data": {
      "text/plain": [
       "OrderedDict([('BNGC', [1, 10]),\n",
       "             ('BSGC', [1, 10]),\n",
       "             ('sigma_nl', [0, 35]),\n",
       "             ('sigma_s', [0, 35]),\n",
       "             ('a0', [-0.1, 0.1]),\n",
       "             ('a1', [-0.1, 0.1]),\n",
       "             ('a2', [-0.1, 0.1]),\n",
       "             ('a3', [-0.1, 0.1]),\n",
       "             ('a4', [-0.1, 0.1]),\n",
       "             ('alpha', [0.8, 1.2]),\n",
       "             ('A_lin', [-1, 1]),\n",
       "             ('omega_lin', [100, 900]),\n",
       "             ('phi', [-0.15915494309189535, 0.15915494309189535])])"
      ]
     },
     "execution_count": 38,
     "metadata": {},
     "output_type": "execute_result"
    }
   ],
   "source": [
    "mcmc.prior_dictionary"
   ]
  },
  {
   "cell_type": "markdown",
   "id": "ce10a18a-d9da-427b-a16c-2a2513edc960",
   "metadata": {},
   "source": [
    "Generate some synthetic data and try to recover the input parameters:"
   ]
  },
  {
   "cell_type": "code",
   "execution_count": 4,
   "id": "be932d47-3608-49eb-95e5-e01874582e3d",
   "metadata": {},
   "outputs": [],
   "source": [
    "from ps_constructor import *"
   ]
  },
  {
   "cell_type": "code",
   "execution_count": 5,
   "id": "aa6ec608-e2f6-4a81-a667-abd8f56e9ce3",
   "metadata": {},
   "outputs": [],
   "source": [
    "#momentum array\n",
    "k = np.linspace(1e-3, 0.2, 100)"
   ]
  },
  {
   "cell_type": "code",
   "execution_count": 6,
   "id": "c3e64e5f-a200-439c-87b6-57afe7ed0a25",
   "metadata": {},
   "outputs": [],
   "source": [
    "fn = '/Users/s2223060/Desktop/primordial_features/cosmologies/power_spectrum/BOSS_z1.txt' #Use the BOSS low-Z power spectrum decomposition\n",
    "ps_model_lin = PowerSpectrumConstructor(fn, 'lin',k)"
   ]
  },
  {
   "cell_type": "code",
   "execution_count": 7,
   "id": "0b4d8d65-6e9b-4202-a910-6497bf7b7bde",
   "metadata": {},
   "outputs": [],
   "source": [
    "B = 3\n",
    "sigma_nl = 0\n",
    "sigma_s = 0\n",
    "a0 = 0\n",
    "a1 = 0\n",
    "a2 = 0\n",
    "a3 = 0\n",
    "a4 = 0\n",
    "alpha = 1\n",
    "A = 0.025\n",
    "omega_lin = 300\n",
    "phi = 3.14\n",
    "params = [B,sigma_nl, sigma_s, a0, a1, a2, a3, a4, alpha]"
   ]
  },
  {
   "cell_type": "code",
   "execution_count": 8,
   "id": "cfe6b5c6-4477-4899-a1b0-58790c30c687",
   "metadata": {},
   "outputs": [],
   "source": [
    "ps_linfeature = ps_model_lin.Evaluate_bare(params + [A, omega_lin, phi])\n",
    "ps_nofeature = ps_model_lin.Evaluate_bare(params + [0, omega_lin, phi])"
   ]
  },
  {
   "cell_type": "code",
   "execution_count": 9,
   "id": "c74c1e3f-544d-48a4-a2c9-c186a087d9c1",
   "metadata": {},
   "outputs": [
    {
     "data": {
      "text/plain": [
       "Text(0, 0.5, 'k P(k) [Mpc/h]$^{-2}$')"
      ]
     },
     "execution_count": 9,
     "metadata": {},
     "output_type": "execute_result"
    },
    {
     "data": {
      "image/png": "[encoded data removed]",
      "text/plain": [
       "<Figure size 400x400 with 1 Axes>"
      ]
     },
     "metadata": {},
     "output_type": "display_data"
    }
   ],
   "source": [
    "plt.figure(figsize = (4,4))\n",
    "plt.plot(k, k*ps_linfeature)\n",
    "plt.plot(k, k*ps_nofeature)\n",
    "plt.xlabel('k [h/Mpc]')\n",
    "plt.ylabel(r'k P(k) [Mpc/h]$^{-2}$')"
   ]
  },
  {
   "cell_type": "markdown",
   "id": "96a17a0e-943c-4aec-88aa-f789440643f0",
   "metadata": {},
   "source": [
    "The Gaussian approximation for the covariance matrix of the power spectrum of galaxies is a commonly used approach in cosmology to estimate the uncertainties and correlations in the measured power spectrum. The power spectrum, $P(k)$, describes how the variance of the galaxy density field is distributed over different spatial scales, characterized by the wavenumber $ k $.\n",
    "\n",
    "In the Gaussian approximation, the covariance matrix $\\text{Cov}(P(k_i), P(k_j))$ of the power spectrum $ P(k) $ is given by:\n",
    "\n",
    "$$\n",
    "\\text{Cov}(P(k_i), P(k_j)) = \\frac{2 P(k_i) P(k_j)}{N_{k_i}} \\delta_{ij}\n",
    "$$\n",
    "\n",
    "where:\n",
    "- $ P(k_i) $ and $ P(k_j) $ are the power spectrum values at wavenumbers $ k_i $ and $ k_j $, respectively.\n",
    "- $ N_{k_i} $ is the number of independent modes (or Fourier modes) in the bin centered at $ k_i $.\n",
    "- $ \\delta_{ij} $ is the Kronecker delta, which is 1 if $ i = j $ and 0 otherwise.\n",
    "\n",
    "This expression assumes that the galaxy density field is a Gaussian random field, which is a reasonable approximation on large scales where the density fluctuations are small. The factor of 2 arises because the power spectrum is a second-order statistic, and the Gaussian approximation assumes that the modes are uncorrelated.\n",
    "\n",
    "To compute $ N_{k_i} $, you can use:\n",
    "\n",
    "$$\n",
    "N_{k_i} = V \\frac{k_i^2 \\Delta k}{2\\pi^2}\n",
    "$$\n",
    "\n",
    "where:\n",
    "- $ V $ is the survey volume.\n",
    "- $ \\Delta k $ is the width of the bin in $ k $-space.\n",
    "\n",
    "This approximation is useful for estimating the errors on the power spectrum measurements and for constructing likelihood functions for cosmological parameter estimation. However, it is important to note that on smaller scales, where non-linear effects become significant, the Gaussian approximation may break down, and more sophisticated methods may be required to accurately model the covariance matrix.\n"
   ]
  },
  {
   "cell_type": "code",
   "execution_count": 10,
   "id": "025f224f-71fa-468d-bd27-6646802af6cd",
   "metadata": {},
   "outputs": [],
   "source": [
    "def gaussian_covariance_matrix(k, Pk, V, delta_k, nbar):\n",
    "    \"\"\"\n",
    "    Compute the Gaussian approximation for the covariance matrix of the power spectrum of galaxies.\n",
    "\n",
    "    Parameters:\n",
    "    k (array): Array of wavenumbers.\n",
    "    Pk (array): Array of power spectrum values corresponding to the wavenumbers.\n",
    "    V (float): Survey volume.\n",
    "    delta_k (float): Width of the bin in k-space.\n",
    "\n",
    "    Returns:\n",
    "    cov_matrix (2D array): Covariance matrix of the power spectrum.\n",
    "    \"\"\"\n",
    "    # Number of wavenumbers\n",
    "    N = len(k)\n",
    "    \n",
    "    # Initialize the covariance matrix\n",
    "    cov_matrix = np.zeros((N, N))\n",
    "    \n",
    "    # Compute the number of independent modes for each k\n",
    "    Nk = V * (k**2) * delta_k / (2 * np.pi**2)\n",
    "    np.fill_diagonal(cov_matrix,2 * Pk**2 / Nk + 1/nbar)\n",
    "    return cov_matrix"
   ]
  },
  {
   "cell_type": "code",
   "execution_count": 11,
   "id": "1c049e2f-f08d-4ec8-be87-9adfba5272ef",
   "metadata": {},
   "outputs": [],
   "source": [
    "L = 1e3 #Mpc/h\n",
    "V = (L)**3 #[Mpc/h]^3\n",
    "delta_k = k[1]-k[0]\n",
    "nbar = 2e-4\n",
    "cov = gaussian_covariance_matrix(k,ps_nofeature,V,delta_k,nbar)"
   ]
  },
  {
   "cell_type": "code",
   "execution_count": 12,
   "id": "3befb87f-857f-4a4b-85fa-e3498f972bd1",
   "metadata": {},
   "outputs": [
    {
     "data": {
      "text/plain": [
       "Text(0, 0.5, 'k P(k) [Mpc/h]$^{-2}$')"
      ]
     },
     "execution_count": 12,
     "metadata": {},
     "output_type": "execute_result"
    },
    {
     "data": {
      "image/png": "[encoded data removed]",
      "text/plain": [
       "<Figure size 500x300 with 1 Axes>"
      ]
     },
     "metadata": {},
     "output_type": "display_data"
    }
   ],
   "source": [
    "plt.figure(figsize = (5,3))\n",
    "plt.errorbar(k, k*ps_nofeature, yerr = np.diag(cov)**0.5*k, marker = \"s\", ls = \"\", markersize = 3, color = 'black')\n",
    "plt.xlabel('k [h/Mpc]')\n",
    "plt.ylabel(r'k P(k) [Mpc/h]$^{-2}$')"
   ]
  },
  {
   "cell_type": "markdown",
   "id": "b0dcbd1f-5d8a-4bf5-8153-02ce300072ec",
   "metadata": {},
   "source": [
    "Finally, we use the covariance matrix to generate a dataset with errors (ie having some shifts around the smooth line):"
   ]
  },
  {
   "cell_type": "code",
   "execution_count": 13,
   "id": "aa69ac12-8a4e-4815-8304-2dadd93b4170",
   "metadata": {},
   "outputs": [],
   "source": [
    "noise = np.random.multivariate_normal(mean=np.zeros(len(k)), cov=cov)\n",
    "DATA = ps_linfeature + noise"
   ]
  },
  {
   "cell_type": "code",
   "execution_count": 14,
   "id": "543c188d-7cd2-48a7-b8b4-c56a1fab85ad",
   "metadata": {},
   "outputs": [
    {
     "data": {
      "text/plain": [
       "<matplotlib.legend.Legend at 0x7fee538b34f0>"
      ]
     },
     "execution_count": 14,
     "metadata": {},
     "output_type": "execute_result"
    },
    {
     "data": {
      "image/png": "[encoded data removed]",
      "text/plain": [
       "<Figure size 600x400 with 1 Axes>"
      ]
     },
     "metadata": {},
     "output_type": "display_data"
    }
   ],
   "source": [
    "plt.figure(figsize = (6,4))\n",
    "plt.plot(k, k*ps_nofeature,markersize = 3, color = 'black', label = 'null-hypothesis')\n",
    "plt.plot(k, k*DATA,markersize = 3, color = 'b', ls = \"\", marker = \"o\", label = 'Data (synthetic signal + G. error)')\n",
    "plt.xlabel('k [h/Mpc]')\n",
    "plt.ylabel(r'k P(k) [Mpc/h]$^{-2}$')\n",
    "plt.legend()"
   ]
  },
  {
   "cell_type": "markdown",
   "id": "1b917c1f-aba6-4a31-bc0a-f4552a8ceeb8",
   "metadata": {},
   "source": [
    "# Constructing the Likelihood and sampling the posterior"
   ]
  },
  {
   "cell_type": "markdown",
   "id": "194c883b-b13b-45e7-b8d2-c7b59008745b",
   "metadata": {},
   "source": [
    "I will assume a flat prior for all parameters:"
   ]
  },
  {
   "cell_type": "code",
   "execution_count": 15,
   "id": "57329713-5a1a-4a52-9c54-4b6fa994400c",
   "metadata": {},
   "outputs": [],
   "source": [
    "in_prior = mcmc.in_prior\n",
    "invcov = np.linalg.inv(cov)"
   ]
  },
  {
   "cell_type": "code",
   "execution_count": 16,
   "id": "f9d95d84-a902-4443-bc4a-cf1024f60bf7",
   "metadata": {},
   "outputs": [],
   "source": [
    "def QuadraticForm(A,B,M):\n",
    "    \"\"\"Compute a quadratic form: A.M.B^{T}\n",
    "\n",
    "    Args:\n",
    "        A (np.array): The first vector, should be n x 1\n",
    "        B (np.array): The second vector, should be n x 1\n",
    "        invCOV (np.array): The matrix. Should be n X n\n",
    "\n",
    "    Returns:\n",
    "        float: The result of the quadratic form\n",
    "    \"\"\"\n",
    "    return np.dot(A, np.dot(M,B.T))\n",
    "    \n",
    "def loglikelihood(theta):\n",
    "    \n",
    "    #Apply a flat prior to some parameters\n",
    "    if not(in_prior(theta)):\n",
    "        return(-np.inf)\n",
    "    params = [theta[0],0,0,0,0,0,0,0,theta[1],theta[2],theta[3],theta[4]]\n",
    "    theory = ps_model_lin.Evaluate_bare(params)\n",
    "    \n",
    "    #Compute chi2\n",
    "    return -0.5*QuadraticForm(DATA - theory, DATA - theory, invcov)"
   ]
  },
  {
   "cell_type": "code",
   "execution_count": 24,
   "id": "5ff81b1b-8671-4205-ac80-70b0620beaa8",
   "metadata": {},
   "outputs": [],
   "source": [
    "gelman_rubins = {\n",
    "    \"N\":2,\n",
    "    \"epsilon\":0.1,\n",
    "    \"min_length\":5000,\n",
    "    \"convergence_steps\":1000,\n",
    "    \"initial\":\"uniform_prior\"\n",
    "}"
   ]
  },
  {
   "cell_type": "code",
   "execution_count": 18,
   "id": "0974c158-210c-4fce-843b-18fb8ecfacb0",
   "metadata": {},
   "outputs": [],
   "source": [
    "handle = \"PrimFeature_lin_tutorial_range1\""
   ]
  },
  {
   "cell_type": "code",
   "execution_count": 19,
   "id": "2dc32277-148f-44c1-b348-c3aaeb0383d0",
   "metadata": {},
   "outputs": [
    {
     "name": "stderr",
     "output_type": "stream",
     "text": [
      "2024-09-27 01:28:47,303 - mcmc_toolkit - INFO - Using uniform prior\n",
      "2024-09-27 01:28:47,305 - mcmc_toolkit - INFO - Using uniform prior\n"
     ]
    }
   ],
   "source": [
    "initial_pos = [mcmc.create_walkers(mode = \"uniform_prior\") for i in range(0,gelman_rubin['N'])]"
   ]
  },
  {
   "cell_type": "markdown",
   "id": "c1fcee11-c766-456e-8901-12c7d073150e",
   "metadata": {},
   "source": [
    "We will run the chain for 1000 steps"
   ]
  },
  {
   "cell_type": "code",
   "execution_count": 20,
   "id": "244f729f-9a75-49f1-81ea-8a2188b84463",
   "metadata": {},
   "outputs": [
    {
     "name": "stderr",
     "output_type": "stream",
     "text": [
      "2024-09-27 01:28:48,400 - mcmc_toolkit - INFO - You are considering 10 as the minimum length for the chain\n",
      "2024-09-27 01:28:48,401 - mcmc_toolkit - INFO - Convergence test happens every 1000 steps\n",
      "2024-09-27 01:28:48,402 - mcmc_toolkit - INFO - Number of walkers: 25\n",
      "2024-09-27 01:28:48,404 - mcmc_toolkit - INFO - Number of Parameters: 5\n",
      "2024-09-27 01:28:48,405 - mcmc_toolkit - INFO - Number of parallel chains: 2\n",
      "2024-09-27 01:28:48,462 - mcmc_toolkit - INFO - Preparing chain 0\n",
      "2024-09-27 01:28:48,463 - mcmc_toolkit - INFO - Go!\n",
      "100%|███████████████████████████████████████████| 10/10 [00:00<00:00, 77.76it/s]\n",
      "2024-09-27 01:28:48,736 - mcmc_toolkit - INFO - Prepared data for Gelman-Rubin diagnostic calculation\n",
      "2024-09-27 01:28:48,781 - mcmc_toolkit - INFO - Preparing chain 1\n",
      "2024-09-27 01:28:48,785 - mcmc_toolkit - INFO - Go!\n",
      "100%|███████████████████████████████████████████| 10/10 [00:00<00:00, 78.27it/s]\n",
      "2024-09-27 01:28:48,960 - mcmc_toolkit - INFO - Prepared data for Gelman-Rubin diagnostic calculation\n",
      "2024-09-27 01:28:48,961 - mcmc_toolkit - INFO - All chains with the minimum length!\n",
      "2024-09-27 01:28:48,961 - mcmc_toolkit - INFO - Checking convergence...\n"
     ]
    },
    {
     "name": "stdout",
     "output_type": "stream",
     "text": [
      "Removed 0.5 as burn in\n",
      "Removed 0.5 as burn in\n"
     ]
    },
    {
     "name": "stderr",
     "output_type": "stream",
     "text": [
      "2024-09-27 01:28:50,041 - mcmc_toolkit - INFO - 1D plot saved to /Users/s2223060/Desktop/primordial_features/nb/figures/PrimFeature_lin_tutorial_range1_1D_ALL.png\n",
      "2024-09-27 01:28:50,041 - mcmc_toolkit - INFO - Gelman-Rubin diagnostic calculated: [1.00004803 1.00374151 1.09691167 1.00446342 1.00807959]\n",
      "2024-09-27 01:28:50,042 - mcmc_toolkit - INFO - epsilon = [4.80287313e-05 3.74150521e-03 9.69116686e-02 4.46342474e-03\n",
      " 8.07958855e-03]\n",
      "2024-09-27 01:28:50,042 - mcmc_toolkit - INFO - Convergence Achieved!\n",
      "2024-09-27 01:28:50,042 - mcmc_toolkit - INFO - Plotting walkers position over steps...\n",
      "2024-09-27 01:28:51,843 - mcmc_toolkit - INFO - Walkers plot saved to /Users/s2223060/Desktop/primordial_features/nb/figures/PrimFeature_lin_tutorial_range1_walkers.pdf\n",
      "2024-09-27 01:28:51,843 - mcmc_toolkit - INFO - Plotting the correlation matrix...\n",
      "2024-09-27 01:28:52,025 - mcmc_toolkit - INFO - Correlation matrix plot saved to /Users/s2223060/Desktop/primordial_features/nb/figures/PrimFeature_lin_tutorial_range1_Corr.png\n",
      "2024-09-27 01:28:52,025 - mcmc_toolkit - INFO - Making a corner plot...\n"
     ]
    },
    {
     "name": "stdout",
     "output_type": "stream",
     "text": [
      "Removed no burn in\n",
      "plotting:  ['BNGC', 'alpha']\n",
      "plotting:  ['BNGC', 'A_lin']\n",
      "plotting:  ['BNGC', 'omega_lin']\n",
      "plotting:  ['BNGC', 'phi']\n",
      "plotting:  ['alpha', 'A_lin']\n",
      "plotting:  ['alpha', 'omega_lin']\n",
      "plotting:  ['alpha', 'phi']\n",
      "plotting:  ['A_lin', 'omega_lin']\n",
      "plotting:  ['A_lin', 'phi']\n",
      "plotting:  ['omega_lin', 'phi']\n"
     ]
    },
    {
     "name": "stderr",
     "output_type": "stream",
     "text": [
      "2024-09-27 01:28:59,699 - mcmc_toolkit - INFO - Corner plot saved to /Users/s2223060/Desktop/primordial_features/nb/figures/PrimFeature_lin_tutorial_range1_Corner.png\n",
      "2024-09-27 01:28:59,699 - mcmc_toolkit - INFO - Done!\n"
     ]
    }
   ],
   "source": [
    "mcmc.run(handle, 1,initial_pos,loglikelihood,gelman_rubins=gelman_rubin,new=False)"
   ]
  },
  {
   "cell_type": "markdown",
   "id": "f4fd08dd-2ec9-49e2-af66-1b52c1d961e2",
   "metadata": {},
   "source": [
    "We will also explore the parameter space in a region with out any synthetic signal:"
   ]
  },
  {
   "cell_type": "code",
   "execution_count": 25,
   "id": "50a321dd-a3ba-47c3-ac8b-f837eeb2f695",
   "metadata": {},
   "outputs": [
    {
     "name": "stderr",
     "output_type": "stream",
     "text": [
      "2024-09-27 01:29:32,652 - mcmc_toolkit - INFO - Using lin_simple_range2 file\n",
      "2024-09-27 01:29:32,654 - mcmc_toolkit - INFO - Number of walkers set to 25\n"
     ]
    }
   ],
   "source": [
    "#prior to use and start with one walker\n",
    "priorname = 'lin_simple_range2'\n",
    "mcmc = MCMC(1, priorname,priors_dir = '/Users/s2223060/Desktop/primordial_features/priors')\n",
    "\n",
    "#get the number of parameters\n",
    "ndim = mcmc.ndim\n",
    "\n",
    "#update the number of walkers to 5 per free parameter\n",
    "mcmc.set_walkers(5*ndim)\n",
    "\n",
    "mcmc.change_chain_dir('/Users/s2223060/Desktop/primordial_features/chains/')\n",
    "mcmc.prior_dictionary\n",
    "in_prior = mcmc.in_prior"
   ]
  },
  {
   "cell_type": "code",
   "execution_count": 26,
   "id": "84d2fa60-e9c3-4a05-a8c8-efb1271d3fdd",
   "metadata": {},
   "outputs": [],
   "source": [
    "handle = \"PrimFeature_lin_tutorial_range2\""
   ]
  },
  {
   "cell_type": "code",
   "execution_count": 27,
   "id": "79d2b3cf-4188-466e-b40d-ad943a091f21",
   "metadata": {},
   "outputs": [
    {
     "name": "stderr",
     "output_type": "stream",
     "text": [
      "2024-09-27 01:29:33,443 - mcmc_toolkit - INFO - Using uniform prior\n",
      "2024-09-27 01:29:33,445 - mcmc_toolkit - INFO - Using uniform prior\n"
     ]
    }
   ],
   "source": [
    "initial_pos = [mcmc.create_walkers(mode = \"uniform_prior\") for i in range(0,gelman_rubins['N'])]"
   ]
  },
  {
   "cell_type": "code",
   "execution_count": 28,
   "id": "2077afa3-7b56-4590-8c99-3b98c728c105",
   "metadata": {},
   "outputs": [
    {
     "name": "stderr",
     "output_type": "stream",
     "text": [
      "2024-09-27 01:29:39,111 - mcmc_toolkit - INFO - You are considering 5000 as the minimum length for the chain\n",
      "2024-09-27 01:29:39,112 - mcmc_toolkit - INFO - Convergence test happens every 1000 steps\n",
      "2024-09-27 01:29:39,112 - mcmc_toolkit - INFO - Number of walkers: 25\n",
      "2024-09-27 01:29:39,113 - mcmc_toolkit - INFO - Number of Parameters: 5\n",
      "2024-09-27 01:29:39,113 - mcmc_toolkit - INFO - Number of parallel chains: 2\n",
      "2024-09-27 01:29:39,131 - mcmc_toolkit - INFO - Preparing chain 0\n",
      "2024-09-27 01:29:39,133 - mcmc_toolkit - INFO - Go!\n",
      "100%|███████████████████████████████████████| 5000/5000 [01:04<00:00, 77.78it/s]\n",
      "2024-09-27 01:30:43,453 - mcmc_toolkit - INFO - Prepared data for Gelman-Rubin diagnostic calculation\n",
      "2024-09-27 01:30:43,453 - mcmc_toolkit - INFO - Preparing chain 1\n",
      "2024-09-27 01:30:43,453 - mcmc_toolkit - INFO - Go!\n",
      "100%|███████████████████████████████████████| 5000/5000 [01:06<00:00, 75.74it/s]\n",
      "2024-09-27 01:31:49,504 - mcmc_toolkit - INFO - Prepared data for Gelman-Rubin diagnostic calculation\n",
      "2024-09-27 01:31:49,504 - mcmc_toolkit - INFO - All chains with the minimum length!\n",
      "2024-09-27 01:31:49,505 - mcmc_toolkit - INFO - Checking convergence...\n"
     ]
    },
    {
     "name": "stdout",
     "output_type": "stream",
     "text": [
      "Removed 0.5 as burn in\n",
      "Removed 0.5 as burn in\n"
     ]
    },
    {
     "name": "stderr",
     "output_type": "stream",
     "text": [
      "2024-09-27 01:31:50,586 - mcmc_toolkit - INFO - 1D plot saved to /Users/s2223060/Desktop/primordial_features/nb/figures/PrimFeature_lin_tutorial_range2_1D_ALL.png\n",
      "2024-09-27 01:31:50,587 - mcmc_toolkit - INFO - Gelman-Rubin diagnostic calculated: [1.00160237 1.00333819 1.00052601 0.99985525 1.00130335]\n",
      "2024-09-27 01:31:50,587 - mcmc_toolkit - INFO - epsilon = [0.00160237 0.00333819 0.00052601 0.00014475 0.00130335]\n",
      "2024-09-27 01:31:50,587 - mcmc_toolkit - INFO - Convergence Achieved!\n",
      "2024-09-27 01:31:50,588 - mcmc_toolkit - INFO - Plotting walkers position over steps...\n",
      "2024-09-27 01:31:52,481 - mcmc_toolkit - INFO - Walkers plot saved to /Users/s2223060/Desktop/primordial_features/nb/figures/PrimFeature_lin_tutorial_range2_walkers.pdf\n",
      "2024-09-27 01:31:52,482 - mcmc_toolkit - INFO - Plotting the correlation matrix...\n",
      "2024-09-27 01:31:52,624 - mcmc_toolkit - INFO - Correlation matrix plot saved to /Users/s2223060/Desktop/primordial_features/nb/figures/PrimFeature_lin_tutorial_range2_Corr.png\n",
      "2024-09-27 01:31:52,624 - mcmc_toolkit - INFO - Making a corner plot...\n"
     ]
    },
    {
     "name": "stdout",
     "output_type": "stream",
     "text": [
      "Removed no burn in\n",
      "plotting:  ['BNGC', 'alpha']\n",
      "plotting:  ['BNGC', 'A_lin']\n",
      "plotting:  ['BNGC', 'omega_lin']\n",
      "plotting:  ['BNGC', 'phi']\n",
      "plotting:  ['alpha', 'A_lin']\n",
      "plotting:  ['alpha', 'omega_lin']\n",
      "plotting:  ['alpha', 'phi']\n",
      "plotting:  ['A_lin', 'omega_lin']\n",
      "plotting:  ['A_lin', 'phi']\n",
      "plotting:  ['omega_lin', 'phi']\n"
     ]
    },
    {
     "name": "stderr",
     "output_type": "stream",
     "text": [
      "2024-09-27 01:31:59,515 - mcmc_toolkit - INFO - Corner plot saved to /Users/s2223060/Desktop/primordial_features/nb/figures/PrimFeature_lin_tutorial_range2_Corner.png\n",
      "2024-09-27 01:31:59,515 - mcmc_toolkit - INFO - Done!\n"
     ]
    }
   ],
   "source": [
    "mcmc.run(handle, 1,initial_pos,loglikelihood,gelman_rubins=gelman_rubins)"
   ]
  }
 ],
 "metadata": {
  "kernelspec": {
   "display_name": "nbodykit-env",
   "language": "python",
   "name": "nbodykit-env"
  },
  "language_info": {
   "codemirror_mode": {
    "name": "ipython",
    "version": 3
   },
   "file_extension": ".py",
   "mimetype": "text/x-python",
   "name": "python",
   "nbconvert_exporter": "python",
   "pygments_lexer": "ipython3",
   "version": "3.8.12"
  }
 },
 "nbformat": 4,
 "nbformat_minor": 5
}
