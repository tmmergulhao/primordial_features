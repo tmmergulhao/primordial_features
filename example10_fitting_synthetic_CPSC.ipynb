{
 "cells": [
  {
   "cell_type": "markdown",
   "id": "5bab2390-47c3-4b0c-9f68-495aa84e8d2c",
   "metadata": {},
   "source": [
    "# Importing libraries"
   ]
  },
  {
   "cell_type": "code",
   "execution_count": 1,
   "id": "aed285ce-8ea5-448d-b007-5858dfc9e4c0",
   "metadata": {},
   "outputs": [],
   "source": [
    "import sys\n",
    "from tqdm import tqdm   \n",
    "import numpy as np\n",
    "from iminuit import Minuit\n",
    "import json\n",
    "import h5py as h5\n",
    "from getdist import plots, MCSamples\n",
    "import matplotlib as mpl\n",
    "%matplotlib inline\n",
    "\n",
    "# Define global rcParams settings\n",
    "mpl.rcParams.update({\n",
    "    # TICK SETTINGS\n",
    "    'xtick.direction': 'inout',\n",
    "    'ytick.direction': 'inout',\n",
    "    'xtick.major.size': 4,      # major tick size in points\n",
    "    'xtick.major.width': 1,     # major tick width in points\n",
    "    'ytick.major.size': 4,      # major tick size in points\n",
    "    'ytick.major.width': 1,     # major tick width in points\n",
    "\n",
    "    # GRID SETTINGS\n",
    "    'axes.grid': True,\n",
    "    'grid.color': 'grey',\n",
    "    'grid.linestyle': '-',\n",
    "    'grid.linewidth': 0.7,\n",
    "    'grid.alpha': 0.2,\n",
    "\n",
    "    # LEGEND SETTINGS\n",
    "    'legend.fancybox': True,\n",
    "    'legend.facecolor': 'white',\n",
    "    'legend.framealpha': 0.5,\n",
    "    'legend.edgecolor': 'grey',\n",
    "\n",
    "    # FIGURE & SUBPLOT SETTINGS\n",
    "    'figure.autolayout': False,\n",
    "    'figure.frameon': True,\n",
    "    'figure.subplot.left': 0.08,\n",
    "    'figure.subplot.right': 0.96,\n",
    "\n",
    "    # LINE SETTINGS\n",
    "    'lines.linewidth': 1.5,\n",
    "\n",
    "    # AXES SETTINGS\n",
    "    'axes.facecolor': 'white',\n",
    "    'axes.edgecolor': 'black',\n",
    "    'axes.formatter.use_mathtext': True,  # use math text for scientific notation\n",
    "    'axes.linewidth': 1.0,\n",
    "    'axes.labelcolor': 'black',\n",
    "    'axes.labelsize': 16,\n",
    "\n",
    "    # FONT SETTINGS\n",
    "    'font.family': 'serif',\n",
    "    'font.size': 13,\n",
    "\n",
    "    # TEXT SETTINGS\n",
    "    'text.color': 'k',\n",
    "    'text.usetex': False,\n",
    "\n",
    "    # MATHTEXT SETTINGS\n",
    "    'mathtext.cal': 'cursive',\n",
    "    'mathtext.rm': 'serif',\n",
    "    'mathtext.tt': 'monospace',\n",
    "    'mathtext.it': 'serif:italic',\n",
    "    'mathtext.bf': 'serif:italic:bold',\n",
    "    'mathtext.sf': 'sans_serif',\n",
    "    'mathtext.fontset': 'dejavusans',\n",
    "})\n",
    "\n",
    "tracer_colors = tracer_colors = {\n",
    "    'DESI_Y1_LRG1': 'orange',\n",
    "    'DESI_Y1_LRG2': 'orangered',\n",
    "    'DESI_Y1_LRG3': 'firebrick',\n",
    "    'DESI_Y1_QSO':  'seagreen',\n",
    "    'DESI_Y1_ELG1': 'skyblue',\n",
    "    'DESI_Y1_ELG2': 'steelblue'\n",
    "}"
   ]
  },
  {
   "cell_type": "code",
   "execution_count": 2,
   "id": "5de24cae",
   "metadata": {},
   "outputs": [
    {
     "name": "stdout",
     "output_type": "stream",
     "text": [
      "2025-05-01 18:22:58,723 - main - INFO - Processes: 32\n",
      "2025-05-01 18:22:58,723 - main - INFO - DATA NGC file: /Users/s2223060/Desktop/LSS_DATA/BOSS/highz/ps1D_BOSS_DR12_NGC_Recon_0.5_0.75_768_0.001_0.4_3500_renorm.dat\n",
      "2025-05-01 18:22:58,724 - main - INFO - DATA SGC file: /Users/s2223060/Desktop/LSS_DATA/BOSS/highz/ps1D_BOSS_DR12_SGC_Recon_0.5_0.75_768_0.001_0.4_3500_renorm.dat\n",
      "2025-05-01 18:22:58,724 - main - INFO - COV NGC file: /Users/s2223060/Desktop/LSS_DATA/BOSS/highz/C_997_BOSS_DR12_NGC_z3_0.001.matrix\n",
      "2025-05-01 18:22:58,724 - main - INFO - COV SGC file: /Users/s2223060/Desktop/LSS_DATA/BOSS/highz/C_1000_BOSS_DR12_SGC_z3_0.001.matrix\n",
      "2025-05-01 18:22:58,725 - main - INFO - Window function (NGC): /Users/s2223060/Desktop/LSS_DATA/wf/winfunc_BOSS_highz_North.txt\n",
      "2025-05-01 18:22:58,726 - main - INFO - Window function (SGC): /Users/s2223060/Desktop/LSS_DATA/wf/winfunc_BOSS_highz_South.txt\n",
      "2025-05-01 18:22:58,727 - main - INFO - linear matter power spectrum: /Users/s2223060/Desktop/primordial_features/cosmologies/power_spectrum/BOSS_highz_wiggly_decomp.txt\n",
      "2025-05-01 18:22:58,727 - main - INFO - primordial feature model: cpsc\n",
      "2025-05-01 18:22:58,728 - main - INFO - prior_name: CPSC_singlepol\n",
      "2025-05-01 18:22:58,728 - main - INFO - nwalkers_per_param: 10\n",
      "2025-05-01 18:22:58,729 - main - INFO - MULTIPROCESSING: True\n",
      "2025-05-01 18:22:58,730 - main - INFO - KMIN: 0.02\n",
      "2025-05-01 18:22:58,730 - main - INFO - KMAX: 0.3\n",
      "2025-05-01 18:22:58,731 - main - INFO - Filename: DATA_POST_BOSS_highz_CPSC_singlepol_13.7_20.0\n",
      "2025-05-01 18:22:58,731 - main - INFO - OMEGA_MIN: 13.7\n",
      "2025-05-01 18:22:58,731 - main - INFO - OMEGA_MAX: 20.0\n",
      "2025-05-01 18:22:58,780 - mcmc_toolkit - INFO - Using /Users/s2223060/Desktop/primordial_features/priors/CPSC_singlepol file\n",
      "2025-05-01 18:22:58,782 - mcmc_toolkit - INFO - Input dictionary: OrderedDict([('NGC', OrderedDict([('BNGC', [0.1, 8])])), ('SGC', OrderedDict([('BSGC', [0.1, 8])])), ('a0', [-1, 1]), ('a1', [-10, 10]), ('a2', [-50, 50]), ('a3', [-50, 50]), ('a4', [-200, 200]), ('alpha', [0.8, 1.2]), ('sigma_nl', [0, 15]), ('sigma_s', [0, 15]), ('dP', [0, 0.35]), ('omega', [13.7, 20]), ('log10_omega_over_H', [0.1, 1.9])])\n",
      "2025-05-01 18:22:58,782 - mcmc_toolkit - INFO - Expanded dictionary: OrderedDict([('BNGC', [0.1, 8]), ('BSGC', [0.1, 8]), ('a0', [-1, 1]), ('a1', [-10, 10]), ('a2', [-50, 50]), ('a3', [-50, 50]), ('a4', [-200, 200]), ('alpha', [0.8, 1.2]), ('sigma_nl', [0, 15]), ('sigma_s', [0, 15]), ('dP', [0, 0.35]), ('omega', [13.7, 20]), ('log10_omega_over_H', [0.1, 1.9])])\n",
      "2025-05-01 18:22:58,782 - mcmc_toolkit - INFO - Parameter labels: ['BNGC', 'BSGC', 'a0', 'a1', 'a2', 'a3', 'a4', 'alpha', 'sigma_nl', 'sigma_s', 'dP', 'omega', 'log10_omega_over_H']\n",
      "2025-05-01 18:22:58,783 - mcmc_toolkit - INFO - Parameter bounds: [[ 1.00e-01  1.00e-01 -1.00e+00 -1.00e+01 -5.00e+01 -5.00e+01 -2.00e+02\n",
      "   8.00e-01  0.00e+00  0.00e+00  0.00e+00  1.37e+01  1.00e-01]\n",
      " [ 8.00e+00  8.00e+00  1.00e+00  1.00e+01  5.00e+01  5.00e+01  2.00e+02\n",
      "   1.20e+00  1.50e+01  1.50e+01  3.50e-01  2.00e+01  1.90e+00]]\n",
      "passed\n",
      "2025-05-01 18:22:59,097 - mcmc_toolkit - INFO - Number of walkers set to 130\n",
      "2025-05-01 18:22:59,098 - main - INFO - Gelman-Rubin convergence criteria: {'N': 3, 'epsilon': 0.03, 'min_length': 5000, 'convergence_steps': 1000}\n",
      "2025-05-01 18:22:59,098 - main - INFO - MULTIPROCESSING: True\n",
      "2025-05-01 18:22:59,099 - mcmc_toolkit - INFO - Using the uniform_thin walker positioning\n",
      "2025-05-01 18:22:59,100 - mcmc_toolkit - INFO - Using the uniform_thin walker positioning\n",
      "2025-05-01 18:22:59,100 - mcmc_toolkit - INFO - Using the uniform_thin walker positioning\n"
     ]
    }
   ],
   "source": [
    "sys.argv = [\n",
    "    'main.py',\n",
    "    '--data_env', 'envs/DATA/BOSS_highz.env',\n",
    "    '--sampler_env', 'envs/sampler/cpsc_singlepol.env',\n",
    "    '--mock', '-1',\n",
    "    '--machine', 'MAC',\n",
    "    '--reconstruction', 'True',\n",
    "    '--omega_min', '13.7',\n",
    "    '--omega_max', '20',\n",
    "    '--EZMOCK', 'False'\n",
    "]\n",
    "\n",
    "from main import *"
   ]
  },
  {
   "cell_type": "code",
   "execution_count": 3,
   "id": "a5d90de8",
   "metadata": {},
   "outputs": [
    {
     "data": {
      "text/plain": [
       "Text(0, 0.5, '$kP(k)$')"
      ]
     },
     "execution_count": 3,
     "metadata": {},
     "output_type": "execute_result"
    },
    {
     "data": {
      "image/png": "[encoded data removed]",
      "text/plain": [
       "<Figure size 1000x500 with 2 Axes>"
      ]
     },
     "metadata": {},
     "output_type": "display_data"
    }
   ],
   "source": [
    "omega = 15\n",
    "A = 0.02\n",
    "log10_omega_over_H = 1.9\n",
    "N = 2*len(k)\n",
    "\n",
    "PF_guess = np.array([3,2.8,0,0,0,0,0,1,5,3,A,omega,log10_omega_over_H])\n",
    "BAO_guess = np.array([3,2.8,0,0,0,0,0,1,5,3,0,omega,log10_omega_over_H])\n",
    "\n",
    "# Inject noise into BAO and PF data\n",
    "noise_BAO = np.random.multivariate_normal(mean=np.zeros(N), cov=COV)\n",
    "noise_PF = np.random.multivariate_normal(mean=np.zeros(N), cov=COV)\n",
    "\n",
    "data_BAO_bare = theory(BAO_guess)\n",
    "data_PF_bare = theory(PF_guess)\n",
    "\n",
    "data_BAO = data_BAO_bare + noise_BAO\n",
    "data_PF = data_PF_bare + noise_PF\n",
    "\n",
    "mcmc.set_gelman_rubin({\n",
    "    \"N\":1,\n",
    "    \"epsilon\":10,\n",
    "    \"min_length\":10000,\n",
    "    \"convergence_steps\":10\n",
    "})\n",
    "\n",
    "#fn_wf_ngc = None\n",
    "#fn_wf_sgc = None\n",
    "\n",
    "fig, ax = plt.subplots(1,2, figsize=(10, 5), constrained_layout=True)\n",
    "ax[0].plot(k, k*data_PF_bare[0:len(k)], label='Synthetic CPSC', color='blue', lw = 2)\n",
    "ax[0].plot(k, k*data_BAO_bare[0:len(k)], label='Fiducial', color='red', lw = 2)\n",
    "ax[0].legend()\n",
    "ax[0].set_xlabel(r'$k$ [h/Mpc]')\n",
    "ax[0].set_ylabel(r'$kP(k)$')\n",
    "\n",
    "ax[1].plot(k, k*data_PF[0:len(k)], label='Synthetic CPSC', color='blue')\n",
    "ax[1].plot(k, k*data_BAO[0:len(k)], label='Fiducial', color='red')\n",
    "ax[1].set_xlabel(r'$k$ [h/Mpc]')\n",
    "ax[1].set_ylabel(r'$kP(k)$')"
   ]
  },
  {
   "cell_type": "code",
   "execution_count": 4,
   "id": "18520bc6",
   "metadata": {},
   "outputs": [
    {
     "name": "stdout",
     "output_type": "stream",
     "text": [
      "2025-05-01 18:22:59,972 - mcmc_toolkit - INFO - Using the uniform_thin walker positioning\n"
     ]
    }
   ],
   "source": [
    "mcmc.set_gelman_rubin({\n",
    "    \"N\":1,\n",
    "    \"epsilon\":10,\n",
    "    \"min_length\":10000,\n",
    "    \"convergence_steps\":10\n",
    "})\n",
    "\n",
    "initial_positions = [mcmc.create_walkers(initialize_walkers,x0 =X0,delta = DELTA) for _ in range(mcmc.gelman_rubin['N'])]"
   ]
  },
  {
   "cell_type": "code",
   "execution_count": 5,
   "id": "20f13982",
   "metadata": {},
   "outputs": [
    {
     "name": "stdout",
     "output_type": "stream",
     "text": [
      "2025-05-01 18:23:01,424 - mcmc_toolkit - WARNING - The gelman rubin requires 2 or more chains!\n",
      "2025-05-01 18:23:01,425 - mcmc_toolkit - INFO - You are considering 10000 as the minimum length for the chain\n",
      "2025-05-01 18:23:01,425 - mcmc_toolkit - INFO - Convergence test happens every 10 steps\n",
      "2025-05-01 18:23:01,426 - mcmc_toolkit - INFO - Number of walkers: 130\n",
      "2025-05-01 18:23:01,426 - mcmc_toolkit - INFO - Number of Parameters: 13\n",
      "2025-05-01 18:23:01,427 - mcmc_toolkit - INFO - Number of parallel chains: 1\n",
      "2025-05-01 18:23:01,437 - mcmc_toolkit - INFO - Preparing chain 0\n",
      "2025-05-01 18:23:01,438 - mcmc_toolkit - INFO - Go!\n"
     ]
    },
    {
     "name": "stderr",
     "output_type": "stream",
     "text": [
      "  0%|          | 0/10000 [00:00<?, ?it/s]Traceback (most recent call last):\n",
      "  File \"/opt/anaconda3/envs/velo-env/lib/python3.11/site-packages/emcee/ensemble.py\", line 640, in __call__\n",
      "    return self.f(x, *self.args, **self.kwargs)\n",
      "           ^^^^^^^^^^^^^^^^^^^^^^^^^^^^^^^^^^^^\n",
      "  File \"/Users/s2223060/Desktop/primordial_features/main.py\", line 328, in logposterior\n",
      "    return PrimordialFeature_likelihood.logGaussian(theta)\n",
      "           ^^^^^^^^^^^^^^^^^^^^^^^^^^^^^^^^^^^^^^^^^^^^^^^\n",
      "  File \"/Users/s2223060/Desktop/primordial_features/likelihood.py\", line 35, in logGaussian\n",
      "    theory_result = self.theory(theta)\n",
      "                    ^^^^^^^^^^^^^^^^^^\n",
      "  File \"/Users/s2223060/Desktop/primordial_features/main.py\", line 305, in theory\n",
      "    return np.concatenate((theory_NGC(theta_NGC), theory_SGC(theta_SGC)))\n",
      "                                                  ^^^^^^^^^^^^^^^^^^^^^\n",
      "  File \"/Users/s2223060/Desktop/primordial_features/main.py\", line 293, in <lambda>\n",
      "    theory_SGC = lambda x: ps_model_SGC.Evaluate_wincov(x)\n",
      "                           ^^^^^^^^^^^^^^^^^^^^^^^^^^^^^^^\n",
      "  File \"/Users/s2223060/Desktop/primordial_features/ps_constructor.py\", line 376, in Evaluate_wincov\n",
      "    P0 = self.ApplyWindowFunction(P0_bare, self.winfunc)(self.k)\n",
      "         ^^^^^^^^^^^^^^^^^^^^^^^^^^^^^^^^^^^^^^^^^^^^^^^\n",
      "  File \"/Users/s2223060/Desktop/primordial_features/ps_constructor.py\", line 113, in ApplyWindowFunction\n",
      "    s, xi_bare = P2xi(self.kh_ext)(P_bare)\n",
      "                 ^^^^^^^^^^^^^^^^^\n",
      "  File \"/opt/anaconda3/envs/velo-env/lib/python3.11/site-packages/mcfit/cosmology.py\", line 37, in __init__\n",
      "    mcfit.__init__(self, k, MK, q+n, **kwargs)\n",
      "  File \"/opt/anaconda3/envs/velo-env/lib/python3.11/site-packages/mcfit/mcfit.py\", line 151, in __init__\n",
      "    self._setup()\n",
      "  File \"/opt/anaconda3/envs/velo-env/lib/python3.11/site-packages/mcfit/mcfit.py\", line 202, in _setup\n",
      "    self._u = self.MK(self.q + 2j * pi / self.N / self.Delta * m)\n",
      "              ^^^^^^^^^^^^^^^^^^^^^^^^^^^^^^^^^^^^^^^^^^^^^^^^^^^\n",
      "  File \"/opt/anaconda3/envs/velo-env/lib/python3.11/site-packages/mcfit/kernels.py\", line 33, in MK\n",
      "    return exp(log(2)*(z-1.5) + loggamma(0.5*(nu+z)) - loggamma(0.5*(3+nu-z)))\n",
      "                                ^^^^^^^^^^^^^^^^^^^^\n",
      "KeyboardInterrupt\n",
      "  0%|          | 0/10000 [00:03<?, ?it/s]"
     ]
    },
    {
     "name": "stdout",
     "output_type": "stream",
     "text": [
      "emcee: Exception while calling your likelihood function:\n",
      "  params: [ 3.44427142e+00  2.82232196e+00 -3.20150461e-04 -9.06570438e-04\n",
      " -1.87586337e-04 -4.65845853e-04  6.31026544e-04  9.68690330e-01\n",
      "  8.58921563e+00  7.92208920e+00  6.87609936e-02  1.73990949e+01\n",
      "  4.60611524e-01]\n",
      "  args: []\n",
      "  kwargs: {}\n",
      "  exception:\n"
     ]
    },
    {
     "name": "stderr",
     "output_type": "stream",
     "text": [
      "\n"
     ]
    },
    {
     "ename": "KeyboardInterrupt",
     "evalue": "",
     "output_type": "error",
     "traceback": [
      "\u001b[31m---------------------------------------------------------------------------\u001b[39m",
      "\u001b[31mKeyboardInterrupt\u001b[39m                         Traceback (most recent call last)",
      "\u001b[36mCell\u001b[39m\u001b[36m \u001b[39m\u001b[32mIn[5]\u001b[39m\u001b[32m, line 3\u001b[39m\n\u001b[32m      1\u001b[39m handle_final = \u001b[33m'\u001b[39m\u001b[33mtest_noiseless_synthetic_dp_\u001b[39m\u001b[38;5;132;01m{}\u001b[39;00m\u001b[33m_omega_\u001b[39m\u001b[38;5;132;01m{}\u001b[39;00m\u001b[33m_logm_\u001b[39m\u001b[38;5;132;01m{}\u001b[39;00m\u001b[33m_\u001b[39m\u001b[33m'\u001b[39m.format(A,omega,log10_omega_over_H)+handle\n\u001b[32m      2\u001b[39m PrimordialFeature_likelihood.set_data(data_PF_bare)\n\u001b[32m----> \u001b[39m\u001b[32m3\u001b[39m \u001b[43mmcmc\u001b[49m\u001b[43m.\u001b[49m\u001b[43mrun\u001b[49m\u001b[43m(\u001b[49m\u001b[43mhandle_final\u001b[49m\u001b[43m,\u001b[49m\u001b[43m \u001b[49m\u001b[32;43m1\u001b[39;49m\u001b[43m,\u001b[49m\u001b[43m \u001b[49m\u001b[43minitial_positions\u001b[49m\u001b[43m,\u001b[49m\u001b[43m \u001b[49m\u001b[43mlogposterior\u001b[49m\u001b[43m,\u001b[49m\u001b[43m \u001b[49m\u001b[43mgelman_rubin\u001b[49m\u001b[43m=\u001b[49m\u001b[38;5;28;43;01mTrue\u001b[39;49;00m\u001b[43m,\u001b[49m\u001b[43m \u001b[49m\u001b[43mnew\u001b[49m\u001b[43m=\u001b[49m\u001b[38;5;28;43;01mTrue\u001b[39;49;00m\u001b[43m,\u001b[49m\u001b[43m \u001b[49m\u001b[43mplots\u001b[49m\u001b[43m=\u001b[49m\u001b[38;5;28;43;01mTrue\u001b[39;49;00m\u001b[43m)\u001b[49m\n",
      "\u001b[36mFile \u001b[39m\u001b[32m~/Desktop/primordial_features/mcmc_toolkit.py:546\u001b[39m, in \u001b[36mMCMC.run\u001b[39m\u001b[34m(self, name, steps, pos, loglikelihood, pool, new, plots, args, a, metric_interval, gelman_rubin)\u001b[39m\n\u001b[32m    544\u001b[39m         \u001b[38;5;28mself\u001b[39m.logger.info(\u001b[33mf\u001b[39m\u001b[33m'\u001b[39m\u001b[33mPreparing chain \u001b[39m\u001b[38;5;132;01m{\u001b[39;00mi\u001b[38;5;132;01m}\u001b[39;00m\u001b[33m'\u001b[39m)\n\u001b[32m    545\u001b[39m         \u001b[38;5;28mself\u001b[39m.logger.info(\u001b[33m'\u001b[39m\u001b[33mGo!\u001b[39m\u001b[33m'\u001b[39m)\n\u001b[32m--> \u001b[39m\u001b[32m546\u001b[39m         \u001b[43mlist_samplers\u001b[49m\u001b[43m[\u001b[49m\u001b[43mi\u001b[49m\u001b[43m]\u001b[49m\u001b[43m.\u001b[49m\u001b[43mrun_mcmc\u001b[49m\u001b[43m(\u001b[49m\u001b[43mpos\u001b[49m\u001b[43m[\u001b[49m\u001b[43mi\u001b[49m\u001b[43m]\u001b[49m\u001b[43m,\u001b[49m\u001b[43m \u001b[49m\u001b[43mminlength\u001b[49m\u001b[43m,\u001b[49m\u001b[43m \u001b[49m\u001b[43mprogress\u001b[49m\u001b[43m=\u001b[49m\u001b[38;5;28;43;01mTrue\u001b[39;49;00m\u001b[43m)\u001b[49m\n\u001b[32m    547\u001b[39m         within_chain_var[i], mean_chain[i], chain_length = \u001b[38;5;28mself\u001b[39m.prep_gelman_rubin(list_samplers[i])\n\u001b[32m    548\u001b[39m \u001b[38;5;28;01melse\u001b[39;00m:\n",
      "\u001b[36mFile \u001b[39m\u001b[32m/opt/anaconda3/envs/velo-env/lib/python3.11/site-packages/emcee/ensemble.py:450\u001b[39m, in \u001b[36mEnsembleSampler.run_mcmc\u001b[39m\u001b[34m(self, initial_state, nsteps, **kwargs)\u001b[39m\n\u001b[32m    447\u001b[39m     initial_state = \u001b[38;5;28mself\u001b[39m._previous_state\n\u001b[32m    449\u001b[39m results = \u001b[38;5;28;01mNone\u001b[39;00m\n\u001b[32m--> \u001b[39m\u001b[32m450\u001b[39m \u001b[43m\u001b[49m\u001b[38;5;28;43;01mfor\u001b[39;49;00m\u001b[43m \u001b[49m\u001b[43mresults\u001b[49m\u001b[43m \u001b[49m\u001b[38;5;129;43;01min\u001b[39;49;00m\u001b[43m \u001b[49m\u001b[38;5;28;43mself\u001b[39;49m\u001b[43m.\u001b[49m\u001b[43msample\u001b[49m\u001b[43m(\u001b[49m\u001b[43minitial_state\u001b[49m\u001b[43m,\u001b[49m\u001b[43m \u001b[49m\u001b[43miterations\u001b[49m\u001b[43m=\u001b[49m\u001b[43mnsteps\u001b[49m\u001b[43m,\u001b[49m\u001b[43m \u001b[49m\u001b[43m*\u001b[49m\u001b[43m*\u001b[49m\u001b[43mkwargs\u001b[49m\u001b[43m)\u001b[49m\u001b[43m:\u001b[49m\n\u001b[32m    451\u001b[39m \u001b[43m    \u001b[49m\u001b[38;5;28;43;01mpass\u001b[39;49;00m\n\u001b[32m    453\u001b[39m \u001b[38;5;66;03m# Store so that the ``initial_state=None`` case will work\u001b[39;00m\n",
      "\u001b[36mFile \u001b[39m\u001b[32m/opt/anaconda3/envs/velo-env/lib/python3.11/site-packages/emcee/ensemble.py:409\u001b[39m, in \u001b[36mEnsembleSampler.sample\u001b[39m\u001b[34m(self, initial_state, log_prob0, rstate0, blobs0, iterations, tune, skip_initial_state_check, thin_by, thin, store, progress, progress_kwargs)\u001b[39m\n\u001b[32m    406\u001b[39m move = \u001b[38;5;28mself\u001b[39m._random.choice(\u001b[38;5;28mself\u001b[39m._moves, p=\u001b[38;5;28mself\u001b[39m._weights)\n\u001b[32m    408\u001b[39m \u001b[38;5;66;03m# Propose\u001b[39;00m\n\u001b[32m--> \u001b[39m\u001b[32m409\u001b[39m state, accepted = \u001b[43mmove\u001b[49m\u001b[43m.\u001b[49m\u001b[43mpropose\u001b[49m\u001b[43m(\u001b[49m\u001b[43mmodel\u001b[49m\u001b[43m,\u001b[49m\u001b[43m \u001b[49m\u001b[43mstate\u001b[49m\u001b[43m)\u001b[49m\n\u001b[32m    410\u001b[39m state.random_state = \u001b[38;5;28mself\u001b[39m.random_state\n\u001b[32m    412\u001b[39m \u001b[38;5;28;01mif\u001b[39;00m tune:\n",
      "\u001b[36mFile \u001b[39m\u001b[32m/opt/anaconda3/envs/velo-env/lib/python3.11/site-packages/emcee/moves/red_blue.py:93\u001b[39m, in \u001b[36mRedBlueMove.propose\u001b[39m\u001b[34m(self, model, state)\u001b[39m\n\u001b[32m     90\u001b[39m q, factors = \u001b[38;5;28mself\u001b[39m.get_proposal(s, c, model.random)\n\u001b[32m     92\u001b[39m \u001b[38;5;66;03m# Compute the lnprobs of the proposed position.\u001b[39;00m\n\u001b[32m---> \u001b[39m\u001b[32m93\u001b[39m new_log_probs, new_blobs = \u001b[43mmodel\u001b[49m\u001b[43m.\u001b[49m\u001b[43mcompute_log_prob_fn\u001b[49m\u001b[43m(\u001b[49m\u001b[43mq\u001b[49m\u001b[43m)\u001b[49m\n\u001b[32m     95\u001b[39m \u001b[38;5;66;03m# Loop over the walkers and update them accordingly.\u001b[39;00m\n\u001b[32m     96\u001b[39m \u001b[38;5;28;01mfor\u001b[39;00m i, (j, f, nlp) \u001b[38;5;129;01min\u001b[39;00m \u001b[38;5;28menumerate\u001b[39m(\n\u001b[32m     97\u001b[39m     \u001b[38;5;28mzip\u001b[39m(all_inds[S1], factors, new_log_probs)\n\u001b[32m     98\u001b[39m ):\n",
      "\u001b[36mFile \u001b[39m\u001b[32m/opt/anaconda3/envs/velo-env/lib/python3.11/site-packages/emcee/ensemble.py:496\u001b[39m, in \u001b[36mEnsembleSampler.compute_log_prob\u001b[39m\u001b[34m(self, coords)\u001b[39m\n\u001b[32m    494\u001b[39m     \u001b[38;5;28;01melse\u001b[39;00m:\n\u001b[32m    495\u001b[39m         map_func = \u001b[38;5;28mmap\u001b[39m\n\u001b[32m--> \u001b[39m\u001b[32m496\u001b[39m     results = \u001b[38;5;28;43mlist\u001b[39;49m\u001b[43m(\u001b[49m\u001b[43mmap_func\u001b[49m\u001b[43m(\u001b[49m\u001b[38;5;28;43mself\u001b[39;49m\u001b[43m.\u001b[49m\u001b[43mlog_prob_fn\u001b[49m\u001b[43m,\u001b[49m\u001b[43m \u001b[49m\u001b[43mp\u001b[49m\u001b[43m)\u001b[49m\u001b[43m)\u001b[49m\n\u001b[32m    498\u001b[39m \u001b[38;5;28;01mtry\u001b[39;00m:\n\u001b[32m    499\u001b[39m     \u001b[38;5;66;03m# perhaps log_prob_fn returns blobs?\u001b[39;00m\n\u001b[32m    500\u001b[39m \n\u001b[32m   (...)\u001b[39m\u001b[32m    504\u001b[39m     \u001b[38;5;66;03m# l is a length-1 array, np.array([1.234]). In that case blob\u001b[39;00m\n\u001b[32m    505\u001b[39m     \u001b[38;5;66;03m# will become an empty list.\u001b[39;00m\n\u001b[32m    506\u001b[39m     blob = [l[\u001b[32m1\u001b[39m:] \u001b[38;5;28;01mfor\u001b[39;00m l \u001b[38;5;129;01min\u001b[39;00m results \u001b[38;5;28;01mif\u001b[39;00m \u001b[38;5;28mlen\u001b[39m(l) > \u001b[32m1\u001b[39m]\n",
      "\u001b[36mFile \u001b[39m\u001b[32m/opt/anaconda3/envs/velo-env/lib/python3.11/site-packages/emcee/ensemble.py:640\u001b[39m, in \u001b[36m_FunctionWrapper.__call__\u001b[39m\u001b[34m(self, x)\u001b[39m\n\u001b[32m    638\u001b[39m \u001b[38;5;28;01mdef\u001b[39;00m\u001b[38;5;250m \u001b[39m\u001b[34m__call__\u001b[39m(\u001b[38;5;28mself\u001b[39m, x):\n\u001b[32m    639\u001b[39m     \u001b[38;5;28;01mtry\u001b[39;00m:\n\u001b[32m--> \u001b[39m\u001b[32m640\u001b[39m         \u001b[38;5;28;01mreturn\u001b[39;00m \u001b[38;5;28;43mself\u001b[39;49m\u001b[43m.\u001b[49m\u001b[43mf\u001b[49m\u001b[43m(\u001b[49m\u001b[43mx\u001b[49m\u001b[43m,\u001b[49m\u001b[43m \u001b[49m\u001b[43m*\u001b[49m\u001b[38;5;28;43mself\u001b[39;49m\u001b[43m.\u001b[49m\u001b[43margs\u001b[49m\u001b[43m,\u001b[49m\u001b[43m \u001b[49m\u001b[43m*\u001b[49m\u001b[43m*\u001b[49m\u001b[38;5;28;43mself\u001b[39;49m\u001b[43m.\u001b[49m\u001b[43mkwargs\u001b[49m\u001b[43m)\u001b[49m\n\u001b[32m    641\u001b[39m     \u001b[38;5;28;01mexcept\u001b[39;00m:  \u001b[38;5;66;03m# pragma: no cover\u001b[39;00m\n\u001b[32m    642\u001b[39m         \u001b[38;5;28;01mimport\u001b[39;00m\u001b[38;5;250m \u001b[39m\u001b[34;01mtraceback\u001b[39;00m\n",
      "\u001b[36mFile \u001b[39m\u001b[32m~/Desktop/primordial_features/main.py:328\u001b[39m, in \u001b[36mlogposterior\u001b[39m\u001b[34m(theta)\u001b[39m\n\u001b[32m    326\u001b[39m     \u001b[38;5;28;01mreturn\u001b[39;00m -np.inf\n\u001b[32m    327\u001b[39m \u001b[38;5;28;01melse\u001b[39;00m:\n\u001b[32m--> \u001b[39m\u001b[32m328\u001b[39m     \u001b[38;5;28;01mreturn\u001b[39;00m \u001b[43mPrimordialFeature_likelihood\u001b[49m\u001b[43m.\u001b[49m\u001b[43mlogGaussian\u001b[49m\u001b[43m(\u001b[49m\u001b[43mtheta\u001b[49m\u001b[43m)\u001b[49m\n",
      "\u001b[36mFile \u001b[39m\u001b[32m~/Desktop/primordial_features/likelihood.py:35\u001b[39m, in \u001b[36mlikelihoods.logGaussian\u001b[39m\u001b[34m(self, theta)\u001b[39m\n\u001b[32m     25\u001b[39m \u001b[38;5;28;01mdef\u001b[39;00m\u001b[38;5;250m \u001b[39m\u001b[34mlogGaussian\u001b[39m(\u001b[38;5;28mself\u001b[39m, theta: List[\u001b[38;5;28mfloat\u001b[39m]) -> \u001b[38;5;28mfloat\u001b[39m:\n\u001b[32m     26\u001b[39m \u001b[38;5;250m    \u001b[39m\u001b[33;03m\"\"\"\u001b[39;00m\n\u001b[32m     27\u001b[39m \u001b[33;03m    Calculate the Gaussian log-likelihood.\u001b[39;00m\n\u001b[32m     28\u001b[39m \n\u001b[32m   (...)\u001b[39m\u001b[32m     33\u001b[39m \u001b[33;03m    float: The log-likelihood value.\u001b[39;00m\n\u001b[32m     34\u001b[39m \u001b[33;03m    \"\"\"\u001b[39;00m\n\u001b[32m---> \u001b[39m\u001b[32m35\u001b[39m     theory_result = \u001b[38;5;28;43mself\u001b[39;49m\u001b[43m.\u001b[49m\u001b[43mtheory\u001b[49m\u001b[43m(\u001b[49m\u001b[43mtheta\u001b[49m\u001b[43m)\u001b[49m\n\u001b[32m     36\u001b[39m     \u001b[38;5;28;01massert\u001b[39;00m \u001b[38;5;28mlen\u001b[39m(theory_result) == \u001b[38;5;28mlen\u001b[39m(\u001b[38;5;28mself\u001b[39m.data), \u001b[33mf\u001b[39m\u001b[33m\"\u001b[39m\u001b[33mData and theory with different shape: data: \u001b[39m\u001b[38;5;132;01m{\u001b[39;00m\u001b[38;5;28mlen\u001b[39m(\u001b[38;5;28mself\u001b[39m.data)\u001b[38;5;132;01m}\u001b[39;00m\u001b[33m, theory: \u001b[39m\u001b[38;5;132;01m{\u001b[39;00m\u001b[38;5;28mlen\u001b[39m(theory_result)\u001b[38;5;132;01m}\u001b[39;00m\u001b[33m\"\u001b[39m\n\u001b[32m     37\u001b[39m     diff = theory_result - \u001b[38;5;28mself\u001b[39m.data\n",
      "\u001b[36mFile \u001b[39m\u001b[32m~/Desktop/primordial_features/main.py:305\u001b[39m, in \u001b[36mtheory\u001b[39m\u001b[34m(theta)\u001b[39m\n\u001b[32m    302\u001b[39m theta_SGC = np.concatenate([theta_SGC, shared_params])\n\u001b[32m    304\u001b[39m \u001b[38;5;66;03m# Use np.concatenate to combine the results from both theories\u001b[39;00m\n\u001b[32m--> \u001b[39m\u001b[32m305\u001b[39m \u001b[38;5;28;01mreturn\u001b[39;00m np.concatenate((theory_NGC(theta_NGC), \u001b[43mtheory_SGC\u001b[49m\u001b[43m(\u001b[49m\u001b[43mtheta_SGC\u001b[49m\u001b[43m)\u001b[49m))\n",
      "\u001b[36mFile \u001b[39m\u001b[32m~/Desktop/primordial_features/main.py:293\u001b[39m, in \u001b[36m<lambda>\u001b[39m\u001b[34m(x)\u001b[39m\n\u001b[32m    291\u001b[39m     \u001b[38;5;28mprint\u001b[39m(\u001b[33m'\u001b[39m\u001b[33mpassed\u001b[39m\u001b[33m'\u001b[39m)\n\u001b[32m    292\u001b[39m     ps_model_SGC.DefineWindowFunction(InterpolatedUnivariateSpline(wfunc_SGC[\u001b[32m0\u001b[39m],wfunc_SGC[\u001b[32m1\u001b[39m],ext=\u001b[32m3\u001b[39m))\n\u001b[32m--> \u001b[39m\u001b[32m293\u001b[39m     theory_SGC = \u001b[38;5;28;01mlambda\u001b[39;00m x: \u001b[43mps_model_SGC\u001b[49m\u001b[43m.\u001b[49m\u001b[43mEvaluate_wincov\u001b[49m\u001b[43m(\u001b[49m\u001b[43mx\u001b[49m\u001b[43m)\u001b[49m\n\u001b[32m    295\u001b[39m \u001b[38;5;28;01mdef\u001b[39;00m\u001b[38;5;250m \u001b[39m\u001b[34mtheory\u001b[39m(theta):\n\u001b[32m    296\u001b[39m     \u001b[38;5;66;03m# Slice theta to get the corresponding values for NGC and SGC\u001b[39;00m\n\u001b[32m    297\u001b[39m     theta_NGC = theta[\u001b[32m0\u001b[39m:ndim_NGC]\n",
      "\u001b[36mFile \u001b[39m\u001b[32m~/Desktop/primordial_features/ps_constructor.py:376\u001b[39m, in \u001b[36mPowerSpectrumConstructor.Evaluate_wincov\u001b[39m\u001b[34m(self, params)\u001b[39m\n\u001b[32m    373\u001b[39m P0_bare = P_nw * (\u001b[32m1\u001b[39m + (BAO_wiggles + deltaP + deltaP * BAO_wiggles) * nonlinear_damping)\n\u001b[32m    375\u001b[39m \u001b[38;5;66;03m# Apply window function\u001b[39;00m\n\u001b[32m--> \u001b[39m\u001b[32m376\u001b[39m P0 = \u001b[38;5;28;43mself\u001b[39;49m\u001b[43m.\u001b[49m\u001b[43mApplyWindowFunction\u001b[49m\u001b[43m(\u001b[49m\u001b[43mP0_bare\u001b[49m\u001b[43m,\u001b[49m\u001b[43m \u001b[49m\u001b[38;5;28;43mself\u001b[39;49m\u001b[43m.\u001b[49m\u001b[43mwinfunc\u001b[49m\u001b[43m)\u001b[49m(\u001b[38;5;28mself\u001b[39m.k)\n\u001b[32m    378\u001b[39m \u001b[38;5;28;01mreturn\u001b[39;00m P0\n",
      "\u001b[36mFile \u001b[39m\u001b[32m~/Desktop/primordial_features/ps_constructor.py:113\u001b[39m, in \u001b[36mPowerSpectrumConstructor.ApplyWindowFunction\u001b[39m\u001b[34m(self, P_bare, window_func)\u001b[39m\n\u001b[32m    102\u001b[39m \u001b[38;5;250m\u001b[39m\u001b[33;03m\"\"\"\u001b[39;00m\n\u001b[32m    103\u001b[39m \u001b[33;03mApply a window function to the power spectrum.\u001b[39;00m\n\u001b[32m    104\u001b[39m \n\u001b[32m   (...)\u001b[39m\u001b[32m    110\u001b[39m \u001b[33;03m    InterpolatedUnivariateSpline: The power spectrum after applying the window function.\u001b[39;00m\n\u001b[32m    111\u001b[39m \u001b[33;03m\"\"\"\u001b[39;00m\n\u001b[32m    112\u001b[39m \u001b[38;5;66;03m# Put the theory in configuration space\u001b[39;00m\n\u001b[32m--> \u001b[39m\u001b[32m113\u001b[39m s, xi_bare = \u001b[43mP2xi\u001b[49m\u001b[43m(\u001b[49m\u001b[38;5;28;43mself\u001b[39;49m\u001b[43m.\u001b[49m\u001b[43mkh_ext\u001b[49m\u001b[43m)\u001b[49m(P_bare)\n\u001b[32m    115\u001b[39m \u001b[38;5;66;03m# Apply the window function\u001b[39;00m\n\u001b[32m    116\u001b[39m xi = xi_bare * window_func(s)\n",
      "\u001b[36mFile \u001b[39m\u001b[32m/opt/anaconda3/envs/velo-env/lib/python3.11/site-packages/mcfit/cosmology.py:37\u001b[39m, in \u001b[36mP2xi.__init__\u001b[39m\u001b[34m(self, k, l, n, deriv, q, **kwargs)\u001b[39m\n\u001b[32m     34\u001b[39m \u001b[38;5;28;01melse\u001b[39;00m:\n\u001b[32m     35\u001b[39m     phase = \u001b[32m1\u001b[39m\n\u001b[32m---> \u001b[39m\u001b[32m37\u001b[39m \u001b[43mmcfit\u001b[49m\u001b[43m.\u001b[49m\u001b[34;43m__init__\u001b[39;49m\u001b[43m(\u001b[49m\u001b[38;5;28;43mself\u001b[39;49m\u001b[43m,\u001b[49m\u001b[43m \u001b[49m\u001b[43mk\u001b[49m\u001b[43m,\u001b[49m\u001b[43m \u001b[49m\u001b[43mMK\u001b[49m\u001b[43m,\u001b[49m\u001b[43m \u001b[49m\u001b[43mq\u001b[49m\u001b[43m+\u001b[49m\u001b[43mn\u001b[49m\u001b[43m,\u001b[49m\u001b[43m \u001b[49m\u001b[43m*\u001b[49m\u001b[43m*\u001b[49m\u001b[43mkwargs\u001b[49m\u001b[43m)\u001b[49m\n\u001b[32m     38\u001b[39m \u001b[38;5;28mself\u001b[39m.prefac *= \u001b[38;5;28mself\u001b[39m.x**(\u001b[32m3\u001b[39m+n) / (\u001b[32m2\u001b[39m*pi)**\u001b[32m1.5\u001b[39m\n\u001b[32m     39\u001b[39m \u001b[38;5;28mself\u001b[39m.postfac *= phase\n",
      "\u001b[36mFile \u001b[39m\u001b[32m/opt/anaconda3/envs/velo-env/lib/python3.11/site-packages/mcfit/mcfit.py:151\u001b[39m, in \u001b[36mmcfit.__init__\u001b[39m\u001b[34m(self, x, MK, q, N, lowring, xy, backend)\u001b[39m\n\u001b[32m    148\u001b[39m \u001b[38;5;28mself\u001b[39m.lowring = lowring\n\u001b[32m    149\u001b[39m \u001b[38;5;28mself\u001b[39m.xy = xy\n\u001b[32m--> \u001b[39m\u001b[32m151\u001b[39m \u001b[38;5;28;43mself\u001b[39;49m\u001b[43m.\u001b[49m\u001b[43m_setup\u001b[49m\u001b[43m(\u001b[49m\u001b[43m)\u001b[49m\n\u001b[32m    152\u001b[39m \u001b[38;5;28mself\u001b[39m.prefac = \u001b[32m1\u001b[39m\n\u001b[32m    153\u001b[39m \u001b[38;5;28mself\u001b[39m.postfac = \u001b[32m1\u001b[39m\n",
      "\u001b[36mFile \u001b[39m\u001b[32m/opt/anaconda3/envs/velo-env/lib/python3.11/site-packages/mcfit/mcfit.py:202\u001b[39m, in \u001b[36mmcfit._setup\u001b[39m\u001b[34m(self)\u001b[39m\n\u001b[32m    199\u001b[39m \u001b[38;5;28mself\u001b[39m._y_ = \u001b[38;5;28mself\u001b[39m._pad(\u001b[38;5;28mself\u001b[39m.y, \u001b[32m0\u001b[39m, \u001b[38;5;28;01mTrue\u001b[39;00m, \u001b[38;5;28;01mTrue\u001b[39;00m)\n\u001b[32m    201\u001b[39m m = numpy.arange(\u001b[32m0\u001b[39m, \u001b[38;5;28mself\u001b[39m.N//\u001b[32m2\u001b[39m + \u001b[32m1\u001b[39m)\n\u001b[32m--> \u001b[39m\u001b[32m202\u001b[39m \u001b[38;5;28mself\u001b[39m._u = \u001b[38;5;28;43mself\u001b[39;49m\u001b[43m.\u001b[49m\u001b[43mMK\u001b[49m\u001b[43m(\u001b[49m\u001b[38;5;28;43mself\u001b[39;49m\u001b[43m.\u001b[49m\u001b[43mq\u001b[49m\u001b[43m \u001b[49m\u001b[43m+\u001b[49m\u001b[43m \u001b[49m\u001b[32;43m2\u001b[39;49m\u001b[43mj\u001b[49m\u001b[43m \u001b[49m\u001b[43m*\u001b[49m\u001b[43m \u001b[49m\u001b[43mpi\u001b[49m\u001b[43m \u001b[49m\u001b[43m/\u001b[49m\u001b[43m \u001b[49m\u001b[38;5;28;43mself\u001b[39;49m\u001b[43m.\u001b[49m\u001b[43mN\u001b[49m\u001b[43m \u001b[49m\u001b[43m/\u001b[49m\u001b[43m \u001b[49m\u001b[38;5;28;43mself\u001b[39;49m\u001b[43m.\u001b[49m\u001b[43mDelta\u001b[49m\u001b[43m \u001b[49m\u001b[43m*\u001b[49m\u001b[43m \u001b[49m\u001b[43mm\u001b[49m\u001b[43m)\u001b[49m\n\u001b[32m    203\u001b[39m \u001b[38;5;28mself\u001b[39m._u *= numpy.exp(-\u001b[32m2\u001b[39mj * pi * lnxy / \u001b[38;5;28mself\u001b[39m.N / \u001b[38;5;28mself\u001b[39m.Delta * m)\n\u001b[32m    204\u001b[39m \u001b[38;5;28mself\u001b[39m._u = \u001b[38;5;28mself\u001b[39m.np.asarray(\u001b[38;5;28mself\u001b[39m._u, dtype=(\u001b[38;5;28mself\u001b[39m.x[\u001b[32m0\u001b[39m] + \u001b[32m0\u001b[39mj).dtype)\n",
      "\u001b[36mFile \u001b[39m\u001b[32m/opt/anaconda3/envs/velo-env/lib/python3.11/site-packages/mcfit/kernels.py:33\u001b[39m, in \u001b[36mMellin_SphericalBesselJ.<locals>.MK\u001b[39m\u001b[34m(z)\u001b[39m\n\u001b[32m     32\u001b[39m \u001b[38;5;28;01mdef\u001b[39;00m\u001b[38;5;250m \u001b[39m\u001b[34mMK\u001b[39m(z):\n\u001b[32m---> \u001b[39m\u001b[32m33\u001b[39m     \u001b[38;5;28;01mreturn\u001b[39;00m exp(log(\u001b[32m2\u001b[39m)*(z-\u001b[32m1.5\u001b[39m) + \u001b[43mloggamma\u001b[49m\u001b[43m(\u001b[49m\u001b[32;43m0.5\u001b[39;49m\u001b[43m*\u001b[49m\u001b[43m(\u001b[49m\u001b[43mnu\u001b[49m\u001b[43m+\u001b[49m\u001b[43mz\u001b[49m\u001b[43m)\u001b[49m\u001b[43m)\u001b[49m - loggamma(\u001b[32m0.5\u001b[39m*(\u001b[32m3\u001b[39m+nu-z)))\n",
      "\u001b[31mKeyboardInterrupt\u001b[39m: "
     ]
    }
   ],
   "source": [
    "handle_final = 'test_noiseless_synthetic_dp_{}_omega_{}_logm_{}_'.format(A,omega,log10_omega_over_H)+handle\n",
    "PrimordialFeature_likelihood.set_data(data_PF_bare)\n",
    "mcmc.run(handle_final, 1, initial_positions, logposterior, gelman_rubin=True, new=True, plots=True)"
   ]
  },
  {
   "cell_type": "code",
   "execution_count": null,
   "id": "92dbcaf3",
   "metadata": {},
   "outputs": [],
   "source": [
    "handle_final = 'noisy_synthetic_dp_{}_omega_{}_logm_{}_'.format(A,omega,log10_omega_over_H)+handle\n",
    "PrimordialFeature_likelihood.set_data(data_PF)\n",
    "mcmc.run(handle_final, 1, initial_positions, logposterior, gelman_rubin=True, new=True, plots=True)"
   ]
  },
  {
   "cell_type": "code",
   "execution_count": null,
   "id": "fefd50ac",
   "metadata": {},
   "outputs": [],
   "source": [
    "handle_final = 'noiseless_BAO_dp_{}_omega_{}_logm_{}_'.format(A,omega,log10_omega_over_H)+handle\n",
    "PrimordialFeature_likelihood.set_data(data_BAO_bare)\n",
    "mcmc.run(handle_final, 1, initial_positions, logposterior, gelman_rubin=True, new=True, plots=True)\n"
   ]
  },
  {
   "cell_type": "code",
   "execution_count": null,
   "id": "48fbef11",
   "metadata": {},
   "outputs": [],
   "source": [
    "\n",
    "handle_final = 'noisy_BAO_dp_{}_omega_{}_logm_{}_'.format(A,omega,log10_omega_over_H)+handle\n",
    "PrimordialFeature_likelihood.set_data(data_BAO)\n",
    "mcmc.run(handle_final, 1, initial_positions, logposterior, gelman_rubin=True, new=True, plots=True)"
   ]
  },
  {
   "cell_type": "code",
   "execution_count": 101,
   "id": "7f2861e7",
   "metadata": {},
   "outputs": [],
   "source": [
    "# Define files\n",
    "files = [\n",
    "    '/Users/s2223060/Desktop/primordial_features/chains/BOSS_highz/DATA/CPSC_singlepol/13.7_20.0/noisy_BAO_dp_0.02_omega_15_logm_1.9_DATA_POST_BOSS_highz_CPSC_singlepol_13.7_20.0_Run_0.h5'\n",
    "]\n",
    "\n",
    "# Load and concatenate chains\n",
    "chains = []\n",
    "logprobs = []\n",
    "\n",
    "for f in files:\n",
    "    with h5.File(f, 'r') as file:\n",
    "        chains.append(file['mcmc']['chain'][:])\n",
    "        logprobs.append(file['mcmc']['log_prob'][:])\n",
    "\n",
    "combined_chain = np.concatenate(chains, axis=0)\n",
    "combined_chain = combined_chain.reshape(-1, combined_chain.shape[-1])\n",
    "#combined_chain[:,-2] = np.log10(combined_chain[:,-2])\n",
    "combined_logprob = np.concatenate(logprobs, axis=0)\n",
    "combined_logprob = combined_logprob.flatten()"
   ]
  },
  {
   "cell_type": "code",
   "execution_count": null,
   "id": "01519211",
   "metadata": {},
   "outputs": [],
   "source": [
    "# Parameter names and labels\n",
    "names = [\"BNGC\", \"BSGC\", \"a0\", \"a1\", \"a2\", \"a3\", \"a4\", \"alpha\", \"sigma_nl\", \"sigma_s\", \"A\", \"omega\", \"log_m_over_h\"]\n",
    "labels = [r'B_{\\rm NGC}', r'B_{\\rm SGC}', r\"a_0\", r\"a_1\", r\"a_2\", r\"a_3\", r\"a_4\", r\"\\alpha\",r\"\\Sigma_{\\rm nl}\",r\"\\Sigma_s\", r\"dP\", r\"N_0\",r\"\\log_{10}\\,\\omega/H\"]\n",
    "\n",
    "# Create combined MCSamples object\n",
    "samples = MCSamples(\n",
    "    samples=combined_chain,\n",
    "    loglikes=-2 * combined_logprob,  # getdist expects -2*logL = chi2\n",
    "    names=names,\n",
    "    labels=labels,\n",
    "    settings={'contours': [0.68, 0.95]},\n",
    "    ranges = {'log_m_over_h':[0.1,1.9],'A':[0,0.1],'omega':[13.7,20]}\n",
    ")\n",
    "\n",
    "# Best-fit point\n",
    "best_idx = np.argmax(combined_logprob)\n",
    "best_fit = combined_chain[best_idx]\n",
    "best_fit_dict = dict(zip(names, best_fit))\n",
    "\n",
    "print(f\"Best-fit As: {best_fit_dict['A']:.5f}\")\n",
    "print(f\"Best-fit omega: {best_fit_dict['omega']:.5f}\")"
   ]
  },
  {
   "cell_type": "code",
   "execution_count": null,
   "id": "2125981a",
   "metadata": {},
   "outputs": [],
   "source": [
    "g1 = plots.get_single_plotter(width_inch=6)\n",
    "g1.triangle_plot(\n",
    "    samples,\n",
    "    ['A', 'omega','log_m_over_h'],\n",
    "    line_args=[{'ls':'-', 'color':tracer_colors['DESI_Y1_QSO']}],\n",
    "    contour_args=[{'ls':'-', 'color':tracer_colors['DESI_Y1_QSO']}],\n",
    "    markers={k: best_fit_dict[k] for k in ['omega','A','log_m_over_h']},\n",
    "    marker_args={'lw': 0.5, 'color':'black'},filled = True\n",
    ")\n",
    "g1.add_text('Noisy',-1.25,2.85, font = 'serif',fontsize = 10)\n",
    "g1.add_text('BAO ',-1.25,2.7, font = 'serif',fontsize = 10)\n",
    "g1.export('CPSC_fitting_noisy_BAO.pdf')"
   ]
  },
  {
   "cell_type": "markdown",
   "id": "2805707d",
   "metadata": {},
   "source": [
    "# Binning the posteriors"
   ]
  },
  {
   "cell_type": "code",
   "execution_count": 23,
   "id": "03943493",
   "metadata": {},
   "outputs": [],
   "source": [
    "# Define files\n",
    "files = {\n",
    "    \"noiseless_BAO\":'/Users/s2223060/Desktop/primordial_features/chains/DESI_Y1_QSO/MOCK_5/sound_singlepol/100.0_500.0/noiseless_BAO_MOCK_5_PRE_DESI_QSO_Y1_sound_singlepol_100.0_500.0_Run_0.h5',\n",
    "    \"noisy_BAO\":'/Users/s2223060/Desktop/primordial_features/chains/DESI_Y1_QSO/MOCK_5/sound_singlepol/100.0_500.0/noisy_BAO_MOCK_5_PRE_DESI_QSO_Y1_sound_singlepol_100.0_500.0_Run_0.h5',\n",
    "    \"noiseless_PF\":'/Users/s2223060/Desktop/primordial_features/chains/DESI_Y1_QSO/MOCK_5/sound_singlepol/100.0_500.0/noiseless_synthetic_MOCK_5_PRE_DESI_QSO_Y1_sound_singlepol_100.0_500.0_Run_0.h5',\n",
    "    \"noisy_PF\":'/Users/s2223060/Desktop/primordial_features/chains/DESI_Y1_QSO/MOCK_5/sound_singlepol/100.0_500.0/noisy_synthetic_MOCK_5_PRE_DESI_QSO_Y1_sound_singlepol_100.0_500.0_Run_0.h5',\n",
    "}\n",
    "\n",
    "chains = {}\n",
    "\n",
    "for key, f in files.items():\n",
    "    with h5.File(f, 'r') as file:\n",
    "        chains[key] = file['mcmc']['chain'][:]"
   ]
  },
  {
   "cell_type": "code",
   "execution_count": 24,
   "id": "73aeeb8e",
   "metadata": {},
   "outputs": [],
   "source": [
    "freq_edges = np.arange(100, 520, 20)  # edges for binning\n",
    "freq_centers = 0.5 * (freq_edges[:-1] + freq_edges[1:])\n",
    "\n",
    "# Prepare storage for results\n",
    "results = {}\n",
    "\n",
    "for key, chain in chains.items():\n",
    "    freq_vals = chain[..., -2]  # frequency values\n",
    "    param_m3 = chain[..., -3]\n",
    "    param_m1 = chain[..., -1]\n",
    "\n",
    "    mean_m3 = []\n",
    "    std_m3 = []\n",
    "    mean_m1 = []\n",
    "    std_m1 = []\n",
    "\n",
    "    # Loop through bins\n",
    "    for low, high in zip(freq_edges[:-1], freq_edges[1:]):\n",
    "        mask = (freq_vals >= low) & (freq_vals < high)\n",
    "        selected_m3 = param_m3[mask]\n",
    "        selected_m1 = param_m1[mask]\n",
    "\n",
    "        mean_m3.append(np.mean(selected_m3) if len(selected_m3) > 0 else np.nan)\n",
    "        std_m3.append(np.std(selected_m3) if len(selected_m3) > 0 else np.nan)\n",
    "        mean_m1.append(np.mean(selected_m1) if len(selected_m1) > 0 else np.nan)\n",
    "        std_m1.append(np.std(selected_m1) if len(selected_m1) > 0 else np.nan)\n",
    "\n",
    "    results[key] = {\n",
    "        'freq_centers': freq_centers,\n",
    "        'mean_m3': np.array(mean_m3),\n",
    "        'std_m3': np.array(std_m3),\n",
    "        'mean_m1': np.array(mean_m1),\n",
    "        'std_m1': np.array(std_m1),\n",
    "    }"
   ]
  },
  {
   "cell_type": "code",
   "execution_count": null,
   "id": "d790709c",
   "metadata": {},
   "outputs": [],
   "source": [
    "for x in results.keys():\n",
    "    plt.figure()\n",
    "    plt.errorbar(results[x]['freq_centers'],results[x]['mean_m3'],yerr = results[x]['std_m3'])\n",
    "    plt.title(x)\n",
    "\n",
    "    plt.figure()\n",
    "    plt.errorbar(results[x]['freq_centers'],results[x]['mean_m1'],yerr = results[x]['std_m1'])\n"
   ]
  },
  {
   "cell_type": "code",
   "execution_count": null,
   "id": "24908461",
   "metadata": {},
   "outputs": [],
   "source": []
  }
 ],
 "metadata": {
  "kernelspec": {
   "display_name": "velo-env",
   "language": "python",
   "name": "python3"
  },
  "language_info": {
   "codemirror_mode": {
    "name": "ipython",
    "version": 3
   },
   "file_extension": ".py",
   "mimetype": "text/x-python",
   "name": "python",
   "nbconvert_exporter": "python",
   "pygments_lexer": "ipython3",
   "version": "3.11.11"
  }
 },
 "nbformat": 4,
 "nbformat_minor": 5
}
